{
 "cells": [
  {
   "cell_type": "code",
   "execution_count": 2,
   "metadata": {
    "id": "qho6Ucq7dhTt"
   },
   "outputs": [],
   "source": [
    "import pandas as pd\n",
    "import numpy as np"
   ]
  },
  {
   "cell_type": "markdown",
   "metadata": {},
   "source": [
    "# Timestamp"
   ]
  },
  {
   "cell_type": "code",
   "execution_count": 3,
   "metadata": {
    "colab": {
     "base_uri": "https://localhost:8080/"
    },
    "id": "p2Fg41HF81KJ",
    "outputId": "af7f6863-0827-4652-872c-7f2a505b64af"
   },
   "outputs": [
    {
     "data": {
      "text/plain": [
       "Timestamp('2022-03-14 05:17:00')"
      ]
     },
     "execution_count": 3,
     "metadata": {},
     "output_type": "execute_result"
    }
   ],
   "source": [
    "# Timestamp will show current time and date\n",
    "pd.Timestamp('14th march 2022 5:17')"
   ]
  },
  {
   "cell_type": "code",
   "execution_count": 4,
   "metadata": {},
   "outputs": [],
   "source": [
    "# with timestamp we can extract Month , Day , hour and Year"
   ]
  },
  {
   "cell_type": "code",
   "execution_count": 5,
   "metadata": {},
   "outputs": [
    {
     "data": {
      "text/plain": [
       "3"
      ]
     },
     "execution_count": 5,
     "metadata": {},
     "output_type": "execute_result"
    }
   ],
   "source": [
    "pd.Timestamp('14th march 2022 5:17').month"
   ]
  },
  {
   "cell_type": "code",
   "execution_count": 6,
   "metadata": {},
   "outputs": [
    {
     "data": {
      "text/plain": [
       "14"
      ]
     },
     "execution_count": 6,
     "metadata": {},
     "output_type": "execute_result"
    }
   ],
   "source": [
    "pd.Timestamp('14th march 2022 5:17').day"
   ]
  },
  {
   "cell_type": "code",
   "execution_count": 7,
   "metadata": {},
   "outputs": [
    {
     "data": {
      "text/plain": [
       "2022"
      ]
     },
     "execution_count": 7,
     "metadata": {},
     "output_type": "execute_result"
    }
   ],
   "source": [
    "pd.Timestamp('14th march 2022 5:17').year"
   ]
  },
  {
   "cell_type": "code",
   "execution_count": 8,
   "metadata": {},
   "outputs": [
    {
     "data": {
      "text/plain": [
       "5"
      ]
     },
     "execution_count": 8,
     "metadata": {},
     "output_type": "execute_result"
    }
   ],
   "source": [
    "pd.Timestamp('14th march 2022 5:17').hour"
   ]
  },
  {
   "cell_type": "markdown",
   "metadata": {},
   "source": [
    "# DatetimeIndex -> df and series index\n",
    "### For store multiple time we use \"Datetimeindex"
   ]
  },
  {
   "cell_type": "code",
   "execution_count": 9,
   "metadata": {},
   "outputs": [
    {
     "data": {
      "text/plain": [
       "DatetimeIndex(['2022-03-14 05:17:00', '1988-06-14 02:17:00',\n",
       "               '1989-06-21 05:05:00'],\n",
       "              dtype='datetime64[ns]', freq=None)"
      ]
     },
     "execution_count": 9,
     "metadata": {},
     "output_type": "execute_result"
    }
   ],
   "source": [
    "pd.DatetimeIndex([pd.Timestamp('14th march 2022 5:17'),pd.Timestamp('14th june 1988 2:17'),\n",
    "                  pd.Timestamp('21th june 1989 5:5')])\n",
    "\n"
   ]
  },
  {
   "cell_type": "code",
   "execution_count": 10,
   "metadata": {},
   "outputs": [
    {
     "data": {
      "text/plain": [
       "Timestamp('1988-06-14 02:17:00')"
      ]
     },
     "execution_count": 10,
     "metadata": {},
     "output_type": "execute_result"
    }
   ],
   "source": [
    "# extracting data from datetimeindex based on index\n",
    "\n",
    "pd.DatetimeIndex([pd.Timestamp('14th march 2022 5:17'), pd.Timestamp('14th june 1988 2:17'), \n",
    "                 pd.Timestamp('21th june 1989 5:5')])[1]"
   ]
  },
  {
   "cell_type": "markdown",
   "metadata": {},
   "source": [
    "# date_range()"
   ]
  },
  {
   "cell_type": "markdown",
   "metadata": {},
   "source": [
    "####  it generate date in given range or timestamp\n",
    "- frequ = \"D\" (it will show on daily basis result)"
   ]
  },
  {
   "cell_type": "code",
   "execution_count": 11,
   "metadata": {},
   "outputs": [
    {
     "data": {
      "text/plain": [
       "DatetimeIndex(['2023-01-06', '2023-01-07', '2023-01-08', '2023-01-09',\n",
       "               '2023-01-10', '2023-01-11', '2023-01-12', '2023-01-13',\n",
       "               '2023-01-14', '2023-01-15', '2023-01-16', '2023-01-17',\n",
       "               '2023-01-18', '2023-01-19', '2023-01-20', '2023-01-21',\n",
       "               '2023-01-22', '2023-01-23', '2023-01-24', '2023-01-25',\n",
       "               '2023-01-26', '2023-01-27', '2023-01-28', '2023-01-29',\n",
       "               '2023-01-30', '2023-01-31'],\n",
       "              dtype='datetime64[ns]', freq='D')"
      ]
     },
     "execution_count": 11,
     "metadata": {},
     "output_type": "execute_result"
    }
   ],
   "source": [
    "pd.date_range(start='2023-1-6',end='2023-1-31',freq='D')"
   ]
  },
  {
   "cell_type": "markdown",
   "metadata": {},
   "source": [
    "# to_datetime()\n",
    "\n",
    "- convert given column from another datatype to datetime "
   ]
  },
  {
   "cell_type": "code",
   "execution_count": 12,
   "metadata": {},
   "outputs": [
    {
     "data": {
      "text/plain": [
       "0    2023/1/6\n",
       "1    2023/1/7\n",
       "2    2023/1/7\n",
       "dtype: object"
      ]
     },
     "execution_count": 12,
     "metadata": {},
     "output_type": "execute_result"
    }
   ],
   "source": [
    "s = pd.Series(['2023/1/6','2023/1/7','2023/1/7'])\n",
    "s"
   ]
  },
  {
   "cell_type": "code",
   "execution_count": 13,
   "metadata": {},
   "outputs": [
    {
     "data": {
      "text/plain": [
       "0   2023-01-06\n",
       "1   2023-01-07\n",
       "2   2023-01-07\n",
       "dtype: datetime64[ns]"
      ]
     },
     "execution_count": 13,
     "metadata": {},
     "output_type": "execute_result"
    }
   ],
   "source": [
    "pd.to_datetime(s) # converted into datetime dtype "
   ]
  },
  {
   "cell_type": "code",
   "execution_count": 14,
   "metadata": {},
   "outputs": [
    {
     "data": {
      "text/plain": [
       "0      Friday\n",
       "1    Saturday\n",
       "2    Saturday\n",
       "dtype: object"
      ]
     },
     "execution_count": 14,
     "metadata": {},
     "output_type": "execute_result"
    }
   ],
   "source": [
    "pd.to_datetime(s).dt.day_name() # dt.day_name extracting date name"
   ]
  },
  {
   "cell_type": "code",
   "execution_count": 15,
   "metadata": {},
   "outputs": [
    {
     "data": {
      "text/plain": [
       "0    January\n",
       "1    January\n",
       "2    January\n",
       "dtype: object"
      ]
     },
     "execution_count": 15,
     "metadata": {},
     "output_type": "execute_result"
    }
   ],
   "source": [
    "pd.to_datetime(s).dt.month_name() # dt.month_name extracting date month"
   ]
  },
  {
   "cell_type": "code",
   "execution_count": 16,
   "metadata": {},
   "outputs": [
    {
     "data": {
      "text/plain": [
       "0    2023\n",
       "1    2023\n",
       "2    2023\n",
       "dtype: int64"
      ]
     },
     "execution_count": 16,
     "metadata": {},
     "output_type": "execute_result"
    }
   ],
   "source": [
    "pd.to_datetime(s).dt.year # dt.year extracting date year"
   ]
  },
  {
   "cell_type": "markdown",
   "metadata": {
    "id": "3Iw4exLi2Vbt"
   },
   "source": [
    "### Timedelta Object\n",
    "\n",
    "Represents a duration, the difference between two dates or times."
   ]
  },
  {
   "cell_type": "code",
   "execution_count": 17,
   "metadata": {
    "colab": {
     "base_uri": "https://localhost:8080/"
    },
    "id": "J5_IUZFq2ZgY",
    "outputId": "c2ec5e03-258b-4124-e4f9-fb2f972be5f6"
   },
   "outputs": [
    {
     "data": {
      "text/plain": [
       "Timedelta('20 days 01:39:46')"
      ]
     },
     "execution_count": 17,
     "metadata": {},
     "output_type": "execute_result"
    }
   ],
   "source": [
    "# create using Timestamp objects\n",
    "t1 = pd.Timestamp('6th Jan 2023 8:20:14')\n",
    "t2 = pd.Timestamp('26th Jan 2023 10:00:00')\n",
    "\n",
    "t2 - t1"
   ]
  },
  {
   "cell_type": "code",
   "execution_count": 18,
   "metadata": {
    "colab": {
     "base_uri": "https://localhost:8080/"
    },
    "id": "QK8EY0tyB1F3",
    "outputId": "408cee9a-e4a8-45d2-ae69-94a3536f2a4b"
   },
   "outputs": [
    {
     "data": {
      "text/plain": [
       "Timedelta('2 days 10:35:00')"
      ]
     },
     "execution_count": 18,
     "metadata": {},
     "output_type": "execute_result"
    }
   ],
   "source": [
    "# standalone creation\n",
    "pd.Timedelta(days=2,hours=10,minutes=35)"
   ]
  },
  {
   "cell_type": "code",
   "execution_count": 19,
   "metadata": {
    "colab": {
     "base_uri": "https://localhost:8080/"
    },
    "id": "2V5tNP5KB61Y",
    "outputId": "5491dfb3-92fb-4157-8736-cf8cad8dbd1b"
   },
   "outputs": [
    {
     "data": {
      "text/plain": [
       "Timestamp('2023-01-08 10:35:00')"
      ]
     },
     "execution_count": 19,
     "metadata": {},
     "output_type": "execute_result"
    }
   ],
   "source": [
    "# Arithmetic\n",
    "pd.Timestamp('6th jan 2023') + pd.Timedelta(days=2,hours=10,minutes=35)"
   ]
  },
  {
   "cell_type": "code",
   "execution_count": 20,
   "metadata": {},
   "outputs": [
    {
     "data": {
      "text/plain": [
       "DatetimeIndex(['2023-01-06', '2023-01-07', '2023-01-08', '2023-01-09',\n",
       "               '2023-01-10', '2023-01-11', '2023-01-12', '2023-01-13',\n",
       "               '2023-01-14', '2023-01-15', '2023-01-16', '2023-01-17',\n",
       "               '2023-01-18', '2023-01-19', '2023-01-20', '2023-01-21',\n",
       "               '2023-01-22', '2023-01-23', '2023-01-24', '2023-01-25',\n",
       "               '2023-01-26', '2023-01-27', '2023-01-28', '2023-01-29',\n",
       "               '2023-01-30', '2023-01-31'],\n",
       "              dtype='datetime64[ns]', freq='D')"
      ]
     },
     "execution_count": 20,
     "metadata": {},
     "output_type": "execute_result"
    }
   ],
   "source": [
    "pd.date_range(start='2023-1-6',end='2023-1-31',freq='D')\n"
   ]
  },
  {
   "cell_type": "code",
   "execution_count": 21,
   "metadata": {},
   "outputs": [
    {
     "data": {
      "text/plain": [
       "DatetimeIndex(['2023-01-08 10:35:00', '2023-01-09 10:35:00',\n",
       "               '2023-01-10 10:35:00', '2023-01-11 10:35:00',\n",
       "               '2023-01-12 10:35:00', '2023-01-13 10:35:00',\n",
       "               '2023-01-14 10:35:00', '2023-01-15 10:35:00',\n",
       "               '2023-01-16 10:35:00', '2023-01-17 10:35:00',\n",
       "               '2023-01-18 10:35:00', '2023-01-19 10:35:00',\n",
       "               '2023-01-20 10:35:00', '2023-01-21 10:35:00',\n",
       "               '2023-01-22 10:35:00', '2023-01-23 10:35:00',\n",
       "               '2023-01-24 10:35:00', '2023-01-25 10:35:00',\n",
       "               '2023-01-26 10:35:00', '2023-01-27 10:35:00',\n",
       "               '2023-01-28 10:35:00', '2023-01-29 10:35:00',\n",
       "               '2023-01-30 10:35:00', '2023-01-31 10:35:00',\n",
       "               '2023-02-01 10:35:00', '2023-02-02 10:35:00'],\n",
       "              dtype='datetime64[ns]', freq='D')"
      ]
     },
     "execution_count": 21,
     "metadata": {},
     "output_type": "execute_result"
    }
   ],
   "source": [
    "pd.date_range(start='2023-1-6',end='2023-1-31',freq='D') + pd.Timedelta(days=2,hours=10,minutes=35)"
   ]
  },
  {
   "cell_type": "code",
   "execution_count": 22,
   "metadata": {
    "colab": {
     "base_uri": "https://localhost:8080/"
    },
    "id": "I39NqkH9kFEX",
    "outputId": "f7cd65a7-6c0a-411f-c689-96e6f6cb7035"
   },
   "outputs": [
    {
     "data": {
      "text/plain": [
       "DatetimeIndex(['2023-01-03 13:25:00', '2023-01-04 13:25:00',\n",
       "               '2023-01-05 13:25:00', '2023-01-06 13:25:00',\n",
       "               '2023-01-07 13:25:00', '2023-01-08 13:25:00',\n",
       "               '2023-01-09 13:25:00', '2023-01-10 13:25:00',\n",
       "               '2023-01-11 13:25:00', '2023-01-12 13:25:00',\n",
       "               '2023-01-13 13:25:00', '2023-01-14 13:25:00',\n",
       "               '2023-01-15 13:25:00', '2023-01-16 13:25:00',\n",
       "               '2023-01-17 13:25:00', '2023-01-18 13:25:00',\n",
       "               '2023-01-19 13:25:00', '2023-01-20 13:25:00',\n",
       "               '2023-01-21 13:25:00', '2023-01-22 13:25:00',\n",
       "               '2023-01-23 13:25:00', '2023-01-24 13:25:00',\n",
       "               '2023-01-25 13:25:00', '2023-01-26 13:25:00',\n",
       "               '2023-01-27 13:25:00', '2023-01-28 13:25:00'],\n",
       "              dtype='datetime64[ns]', freq='D')"
      ]
     },
     "execution_count": 22,
     "metadata": {},
     "output_type": "execute_result"
    }
   ],
   "source": [
    "pd.date_range(start='2023-1-6',end='2023-1-31',freq='D') - pd.Timedelta(days=2,hours=10,minutes=35)"
   ]
  },
  {
   "cell_type": "markdown",
   "metadata": {},
   "source": [
    "# real life example"
   ]
  },
  {
   "cell_type": "code",
   "execution_count": 23,
   "metadata": {
    "colab": {
     "base_uri": "https://localhost:8080/",
     "height": 206
    },
    "id": "NMn0mK8mCCg4",
    "outputId": "1fdac959-3ece-4dbd-ee1f-3a80d77b8a84"
   },
   "outputs": [
    {
     "data": {
      "text/html": [
       "<div>\n",
       "<style scoped>\n",
       "    .dataframe tbody tr th:only-of-type {\n",
       "        vertical-align: middle;\n",
       "    }\n",
       "\n",
       "    .dataframe tbody tr th {\n",
       "        vertical-align: top;\n",
       "    }\n",
       "\n",
       "    .dataframe thead th {\n",
       "        text-align: right;\n",
       "    }\n",
       "</style>\n",
       "<table border=\"1\" class=\"dataframe\">\n",
       "  <thead>\n",
       "    <tr style=\"text-align: right;\">\n",
       "      <th></th>\n",
       "      <th>order_date</th>\n",
       "      <th>delivery_date</th>\n",
       "    </tr>\n",
       "  </thead>\n",
       "  <tbody>\n",
       "    <tr>\n",
       "      <th>0</th>\n",
       "      <td>5/24/98</td>\n",
       "      <td>2/5/99</td>\n",
       "    </tr>\n",
       "    <tr>\n",
       "      <th>1</th>\n",
       "      <td>4/22/92</td>\n",
       "      <td>3/6/98</td>\n",
       "    </tr>\n",
       "    <tr>\n",
       "      <th>2</th>\n",
       "      <td>2/10/91</td>\n",
       "      <td>8/26/92</td>\n",
       "    </tr>\n",
       "    <tr>\n",
       "      <th>3</th>\n",
       "      <td>7/21/92</td>\n",
       "      <td>11/20/97</td>\n",
       "    </tr>\n",
       "    <tr>\n",
       "      <th>4</th>\n",
       "      <td>9/2/93</td>\n",
       "      <td>6/10/98</td>\n",
       "    </tr>\n",
       "  </tbody>\n",
       "</table>\n",
       "</div>"
      ],
      "text/plain": [
       "  order_date delivery_date\n",
       "0    5/24/98        2/5/99\n",
       "1    4/22/92        3/6/98\n",
       "2    2/10/91       8/26/92\n",
       "3    7/21/92      11/20/97\n",
       "4     9/2/93       6/10/98"
      ]
     },
     "execution_count": 23,
     "metadata": {},
     "output_type": "execute_result"
    }
   ],
   "source": [
    "df = pd.read_csv('deliveries.csv')\n",
    "df.head()"
   ]
  },
  {
   "cell_type": "code",
   "execution_count": 24,
   "metadata": {
    "id": "sZe-mnSHk-aE"
   },
   "outputs": [],
   "source": [
    "# changing dtype into datetime\n",
    "df['order_date'] = pd.to_datetime(df['order_date'])\n",
    "df['delivery_date'] = pd.to_datetime(df['delivery_date'])"
   ]
  },
  {
   "cell_type": "code",
   "execution_count": 25,
   "metadata": {},
   "outputs": [
    {
     "name": "stdout",
     "output_type": "stream",
     "text": [
      "<class 'pandas.core.frame.DataFrame'>\n",
      "RangeIndex: 501 entries, 0 to 500\n",
      "Data columns (total 2 columns):\n",
      " #   Column         Non-Null Count  Dtype         \n",
      "---  ------         --------------  -----         \n",
      " 0   order_date     501 non-null    datetime64[ns]\n",
      " 1   delivery_date  501 non-null    datetime64[ns]\n",
      "dtypes: datetime64[ns](2)\n",
      "memory usage: 8.0 KB\n"
     ]
    }
   ],
   "source": [
    "df.info()"
   ]
  },
  {
   "cell_type": "code",
   "execution_count": 26,
   "metadata": {},
   "outputs": [
    {
     "data": {
      "text/plain": [
       "0     1998-05-24\n",
       "1     1992-04-22\n",
       "2     1991-02-10\n",
       "3     1992-07-21\n",
       "4     1993-09-02\n",
       "         ...    \n",
       "496   1991-06-24\n",
       "497   1991-09-09\n",
       "498   1990-11-16\n",
       "499   1993-06-03\n",
       "500   1990-01-04\n",
       "Name: order_date, Length: 501, dtype: datetime64[ns]"
      ]
     },
     "execution_count": 26,
     "metadata": {},
     "output_type": "execute_result"
    }
   ],
   "source": [
    "df['order_date']"
   ]
  },
  {
   "cell_type": "code",
   "execution_count": 27,
   "metadata": {},
   "outputs": [
    {
     "data": {
      "text/plain": [
       "0     1999-02-05\n",
       "1     1998-03-06\n",
       "2     1992-08-26\n",
       "3     1997-11-20\n",
       "4     1998-06-10\n",
       "         ...    \n",
       "496   1996-02-02\n",
       "497   1998-03-30\n",
       "498   1998-04-27\n",
       "499   1993-06-13\n",
       "500   1991-10-03\n",
       "Name: delivery_date, Length: 501, dtype: datetime64[ns]"
      ]
     },
     "execution_count": 27,
     "metadata": {},
     "output_type": "execute_result"
    }
   ],
   "source": [
    "df['delivery_date']"
   ]
  },
  {
   "cell_type": "code",
   "execution_count": 28,
   "metadata": {},
   "outputs": [],
   "source": [
    "# Finding average delivery time "
   ]
  },
  {
   "cell_type": "code",
   "execution_count": 29,
   "metadata": {
    "colab": {
     "base_uri": "https://localhost:8080/"
    },
    "id": "hQPiS0JAlRvD",
    "outputId": "3f5ec08b-df74-4f7d-e337-ec200ea59261"
   },
   "outputs": [],
   "source": [
    "# finding difference between order and delivery and storing in delivery_time_period variable\n",
    "df['delivery_time_period'] = df['delivery_date'] - df['order_date']\n"
   ]
  },
  {
   "cell_type": "code",
   "execution_count": 30,
   "metadata": {},
   "outputs": [
    {
     "data": {
      "text/html": [
       "<div>\n",
       "<style scoped>\n",
       "    .dataframe tbody tr th:only-of-type {\n",
       "        vertical-align: middle;\n",
       "    }\n",
       "\n",
       "    .dataframe tbody tr th {\n",
       "        vertical-align: top;\n",
       "    }\n",
       "\n",
       "    .dataframe thead th {\n",
       "        text-align: right;\n",
       "    }\n",
       "</style>\n",
       "<table border=\"1\" class=\"dataframe\">\n",
       "  <thead>\n",
       "    <tr style=\"text-align: right;\">\n",
       "      <th></th>\n",
       "      <th>order_date</th>\n",
       "      <th>delivery_date</th>\n",
       "      <th>delivery_time_period</th>\n",
       "    </tr>\n",
       "  </thead>\n",
       "  <tbody>\n",
       "    <tr>\n",
       "      <th>0</th>\n",
       "      <td>1998-05-24</td>\n",
       "      <td>1999-02-05</td>\n",
       "      <td>257 days</td>\n",
       "    </tr>\n",
       "    <tr>\n",
       "      <th>1</th>\n",
       "      <td>1992-04-22</td>\n",
       "      <td>1998-03-06</td>\n",
       "      <td>2144 days</td>\n",
       "    </tr>\n",
       "    <tr>\n",
       "      <th>2</th>\n",
       "      <td>1991-02-10</td>\n",
       "      <td>1992-08-26</td>\n",
       "      <td>563 days</td>\n",
       "    </tr>\n",
       "    <tr>\n",
       "      <th>3</th>\n",
       "      <td>1992-07-21</td>\n",
       "      <td>1997-11-20</td>\n",
       "      <td>1948 days</td>\n",
       "    </tr>\n",
       "    <tr>\n",
       "      <th>4</th>\n",
       "      <td>1993-09-02</td>\n",
       "      <td>1998-06-10</td>\n",
       "      <td>1742 days</td>\n",
       "    </tr>\n",
       "    <tr>\n",
       "      <th>...</th>\n",
       "      <td>...</td>\n",
       "      <td>...</td>\n",
       "      <td>...</td>\n",
       "    </tr>\n",
       "    <tr>\n",
       "      <th>496</th>\n",
       "      <td>1991-06-24</td>\n",
       "      <td>1996-02-02</td>\n",
       "      <td>1684 days</td>\n",
       "    </tr>\n",
       "    <tr>\n",
       "      <th>497</th>\n",
       "      <td>1991-09-09</td>\n",
       "      <td>1998-03-30</td>\n",
       "      <td>2394 days</td>\n",
       "    </tr>\n",
       "    <tr>\n",
       "      <th>498</th>\n",
       "      <td>1990-11-16</td>\n",
       "      <td>1998-04-27</td>\n",
       "      <td>2719 days</td>\n",
       "    </tr>\n",
       "    <tr>\n",
       "      <th>499</th>\n",
       "      <td>1993-06-03</td>\n",
       "      <td>1993-06-13</td>\n",
       "      <td>10 days</td>\n",
       "    </tr>\n",
       "    <tr>\n",
       "      <th>500</th>\n",
       "      <td>1990-01-04</td>\n",
       "      <td>1991-10-03</td>\n",
       "      <td>637 days</td>\n",
       "    </tr>\n",
       "  </tbody>\n",
       "</table>\n",
       "<p>501 rows × 3 columns</p>\n",
       "</div>"
      ],
      "text/plain": [
       "    order_date delivery_date delivery_time_period\n",
       "0   1998-05-24    1999-02-05             257 days\n",
       "1   1992-04-22    1998-03-06            2144 days\n",
       "2   1991-02-10    1992-08-26             563 days\n",
       "3   1992-07-21    1997-11-20            1948 days\n",
       "4   1993-09-02    1998-06-10            1742 days\n",
       "..         ...           ...                  ...\n",
       "496 1991-06-24    1996-02-02            1684 days\n",
       "497 1991-09-09    1998-03-30            2394 days\n",
       "498 1990-11-16    1998-04-27            2719 days\n",
       "499 1993-06-03    1993-06-13              10 days\n",
       "500 1990-01-04    1991-10-03             637 days\n",
       "\n",
       "[501 rows x 3 columns]"
      ]
     },
     "execution_count": 30,
     "metadata": {},
     "output_type": "execute_result"
    }
   ],
   "source": [
    "df"
   ]
  },
  {
   "cell_type": "code",
   "execution_count": 31,
   "metadata": {},
   "outputs": [
    {
     "data": {
      "text/plain": [
       "Timedelta('1217 days 22:53:53.532934128')"
      ]
     },
     "execution_count": 31,
     "metadata": {},
     "output_type": "execute_result"
    }
   ],
   "source": [
    "#now applying mean to find average delivery time\n",
    "df['delivery_time_period'].mean()"
   ]
  },
  {
   "cell_type": "markdown",
   "metadata": {
    "id": "hrhjsZ602dRU"
   },
   "source": [
    "### Time series\n",
    "\n",
    "A time series is a data set that tracks a sample over time. In particular, a time series allows one to see what factors influence certain variables from period to period. Time series analysis can be useful to see how a given asset, security, or economic variable changes over time.\n",
    "\n",
    "Examples\n",
    "\n",
    "- Financial Data (Company stocks)\n",
    "- Natural Data (Rainfall measurement)\n",
    "- Event Data (Covid)\n",
    "- Medical Data (Heart rate monitoring)\n",
    "\n",
    "Types of Operations done on Time Series\n",
    "\n",
    "- Time Series Analysis\n",
    "- Time Series Forecasting"
   ]
  },
  {
   "cell_type": "code",
   "execution_count": 32,
   "metadata": {
    "colab": {
     "base_uri": "https://localhost:8080/",
     "height": 206
    },
    "id": "_tUZzbBIipIA",
    "outputId": "2716d8e6-bb5c-4910-f6e9-7e601953d210"
   },
   "outputs": [
    {
     "data": {
      "text/html": [
       "<div>\n",
       "<style scoped>\n",
       "    .dataframe tbody tr th:only-of-type {\n",
       "        vertical-align: middle;\n",
       "    }\n",
       "\n",
       "    .dataframe tbody tr th {\n",
       "        vertical-align: top;\n",
       "    }\n",
       "\n",
       "    .dataframe thead th {\n",
       "        text-align: right;\n",
       "    }\n",
       "</style>\n",
       "<table border=\"1\" class=\"dataframe\">\n",
       "  <thead>\n",
       "    <tr style=\"text-align: right;\">\n",
       "      <th></th>\n",
       "      <th>Date</th>\n",
       "      <th>Open</th>\n",
       "      <th>High</th>\n",
       "      <th>Low</th>\n",
       "      <th>Close</th>\n",
       "      <th>Adj Close</th>\n",
       "      <th>Volume</th>\n",
       "    </tr>\n",
       "  </thead>\n",
       "  <tbody>\n",
       "    <tr>\n",
       "      <th>0</th>\n",
       "      <td>2004-08-19</td>\n",
       "      <td>49.813290</td>\n",
       "      <td>51.835709</td>\n",
       "      <td>47.800831</td>\n",
       "      <td>49.982655</td>\n",
       "      <td>49.982655</td>\n",
       "      <td>44871361</td>\n",
       "    </tr>\n",
       "    <tr>\n",
       "      <th>1</th>\n",
       "      <td>2004-08-20</td>\n",
       "      <td>50.316402</td>\n",
       "      <td>54.336334</td>\n",
       "      <td>50.062355</td>\n",
       "      <td>53.952770</td>\n",
       "      <td>53.952770</td>\n",
       "      <td>22942874</td>\n",
       "    </tr>\n",
       "    <tr>\n",
       "      <th>2</th>\n",
       "      <td>2004-08-23</td>\n",
       "      <td>55.168217</td>\n",
       "      <td>56.528118</td>\n",
       "      <td>54.321388</td>\n",
       "      <td>54.495735</td>\n",
       "      <td>54.495735</td>\n",
       "      <td>18342897</td>\n",
       "    </tr>\n",
       "    <tr>\n",
       "      <th>3</th>\n",
       "      <td>2004-08-24</td>\n",
       "      <td>55.412300</td>\n",
       "      <td>55.591629</td>\n",
       "      <td>51.591621</td>\n",
       "      <td>52.239197</td>\n",
       "      <td>52.239197</td>\n",
       "      <td>15319808</td>\n",
       "    </tr>\n",
       "    <tr>\n",
       "      <th>4</th>\n",
       "      <td>2004-08-25</td>\n",
       "      <td>52.284027</td>\n",
       "      <td>53.798351</td>\n",
       "      <td>51.746044</td>\n",
       "      <td>52.802086</td>\n",
       "      <td>52.802086</td>\n",
       "      <td>9232276</td>\n",
       "    </tr>\n",
       "  </tbody>\n",
       "</table>\n",
       "</div>"
      ],
      "text/plain": [
       "         Date       Open       High        Low      Close  Adj Close    Volume\n",
       "0  2004-08-19  49.813290  51.835709  47.800831  49.982655  49.982655  44871361\n",
       "1  2004-08-20  50.316402  54.336334  50.062355  53.952770  53.952770  22942874\n",
       "2  2004-08-23  55.168217  56.528118  54.321388  54.495735  54.495735  18342897\n",
       "3  2004-08-24  55.412300  55.591629  51.591621  52.239197  52.239197  15319808\n",
       "4  2004-08-25  52.284027  53.798351  51.746044  52.802086  52.802086   9232276"
      ]
     },
     "execution_count": 32,
     "metadata": {},
     "output_type": "execute_result"
    }
   ],
   "source": [
    "google = pd.read_csv('google.csv')\n",
    "google.head()"
   ]
  },
  {
   "cell_type": "code",
   "execution_count": 33,
   "metadata": {
    "colab": {
     "base_uri": "https://localhost:8080/",
     "height": 206
    },
    "id": "PziajciTwZtH",
    "outputId": "b6535bac-9fa2-4132-f72c-74d8c8543947"
   },
   "outputs": [
    {
     "data": {
      "text/html": [
       "<div>\n",
       "<style scoped>\n",
       "    .dataframe tbody tr th:only-of-type {\n",
       "        vertical-align: middle;\n",
       "    }\n",
       "\n",
       "    .dataframe tbody tr th {\n",
       "        vertical-align: top;\n",
       "    }\n",
       "\n",
       "    .dataframe thead th {\n",
       "        text-align: right;\n",
       "    }\n",
       "</style>\n",
       "<table border=\"1\" class=\"dataframe\">\n",
       "  <thead>\n",
       "    <tr style=\"text-align: right;\">\n",
       "      <th></th>\n",
       "      <th>Date</th>\n",
       "      <th>Open</th>\n",
       "      <th>High</th>\n",
       "      <th>Low</th>\n",
       "      <th>Close</th>\n",
       "      <th>Adj Close</th>\n",
       "      <th>Volume</th>\n",
       "    </tr>\n",
       "  </thead>\n",
       "  <tbody>\n",
       "    <tr>\n",
       "      <th>4466</th>\n",
       "      <td>2022-05-16</td>\n",
       "      <td>2307.679932</td>\n",
       "      <td>2332.149902</td>\n",
       "      <td>2286.699951</td>\n",
       "      <td>2295.850098</td>\n",
       "      <td>2295.850098</td>\n",
       "      <td>1164100</td>\n",
       "    </tr>\n",
       "    <tr>\n",
       "      <th>4467</th>\n",
       "      <td>2022-05-17</td>\n",
       "      <td>2344.550049</td>\n",
       "      <td>2344.550049</td>\n",
       "      <td>2306.750000</td>\n",
       "      <td>2334.030029</td>\n",
       "      <td>2334.030029</td>\n",
       "      <td>1078800</td>\n",
       "    </tr>\n",
       "    <tr>\n",
       "      <th>4468</th>\n",
       "      <td>2022-05-18</td>\n",
       "      <td>2304.750000</td>\n",
       "      <td>2313.913086</td>\n",
       "      <td>2242.840088</td>\n",
       "      <td>2248.020020</td>\n",
       "      <td>2248.020020</td>\n",
       "      <td>1399100</td>\n",
       "    </tr>\n",
       "    <tr>\n",
       "      <th>4469</th>\n",
       "      <td>2022-05-19</td>\n",
       "      <td>2236.820068</td>\n",
       "      <td>2271.750000</td>\n",
       "      <td>2209.360107</td>\n",
       "      <td>2214.909912</td>\n",
       "      <td>2214.909912</td>\n",
       "      <td>1459600</td>\n",
       "    </tr>\n",
       "    <tr>\n",
       "      <th>4470</th>\n",
       "      <td>2022-05-20</td>\n",
       "      <td>2241.709961</td>\n",
       "      <td>2251.000000</td>\n",
       "      <td>2127.459961</td>\n",
       "      <td>2186.260010</td>\n",
       "      <td>2186.260010</td>\n",
       "      <td>1878100</td>\n",
       "    </tr>\n",
       "  </tbody>\n",
       "</table>\n",
       "</div>"
      ],
      "text/plain": [
       "            Date         Open         High          Low        Close  \\\n",
       "4466  2022-05-16  2307.679932  2332.149902  2286.699951  2295.850098   \n",
       "4467  2022-05-17  2344.550049  2344.550049  2306.750000  2334.030029   \n",
       "4468  2022-05-18  2304.750000  2313.913086  2242.840088  2248.020020   \n",
       "4469  2022-05-19  2236.820068  2271.750000  2209.360107  2214.909912   \n",
       "4470  2022-05-20  2241.709961  2251.000000  2127.459961  2186.260010   \n",
       "\n",
       "        Adj Close   Volume  \n",
       "4466  2295.850098  1164100  \n",
       "4467  2334.030029  1078800  \n",
       "4468  2248.020020  1399100  \n",
       "4469  2214.909912  1459600  \n",
       "4470  2186.260010  1878100  "
      ]
     },
     "execution_count": 33,
     "metadata": {},
     "output_type": "execute_result"
    }
   ],
   "source": [
    "google.tail()"
   ]
  },
  {
   "cell_type": "markdown",
   "metadata": {},
   "source": [
    "### 1- Converting 'Date' column dtype from 'Object' to 'Datetime' dtype"
   ]
  },
  {
   "cell_type": "code",
   "execution_count": 34,
   "metadata": {
    "id": "CzuKruY-zxRT"
   },
   "outputs": [],
   "source": [
    "google['Date'] = pd.to_datetime(google['Date'])"
   ]
  },
  {
   "cell_type": "code",
   "execution_count": 35,
   "metadata": {},
   "outputs": [
    {
     "name": "stdout",
     "output_type": "stream",
     "text": [
      "<class 'pandas.core.frame.DataFrame'>\n",
      "RangeIndex: 4471 entries, 0 to 4470\n",
      "Data columns (total 7 columns):\n",
      " #   Column     Non-Null Count  Dtype         \n",
      "---  ------     --------------  -----         \n",
      " 0   Date       4471 non-null   datetime64[ns]\n",
      " 1   Open       4471 non-null   float64       \n",
      " 2   High       4471 non-null   float64       \n",
      " 3   Low        4471 non-null   float64       \n",
      " 4   Close      4471 non-null   float64       \n",
      " 5   Adj Close  4471 non-null   float64       \n",
      " 6   Volume     4471 non-null   int64         \n",
      "dtypes: datetime64[ns](1), float64(5), int64(1)\n",
      "memory usage: 244.6 KB\n"
     ]
    }
   ],
   "source": [
    "google.info()"
   ]
  },
  {
   "cell_type": "markdown",
   "metadata": {},
   "source": [
    "### 2-  converting 'Date' column into Index "
   ]
  },
  {
   "cell_type": "code",
   "execution_count": 36,
   "metadata": {
    "colab": {
     "base_uri": "https://localhost:8080/"
    },
    "id": "R2CYGF4uz63j",
    "outputId": "e7ec51b9-ad3d-4af1-b44d-8e65a31ab04e"
   },
   "outputs": [],
   "source": [
    "google.set_index('Date', inplace = True)"
   ]
  },
  {
   "cell_type": "code",
   "execution_count": 37,
   "metadata": {},
   "outputs": [
    {
     "data": {
      "text/html": [
       "<div>\n",
       "<style scoped>\n",
       "    .dataframe tbody tr th:only-of-type {\n",
       "        vertical-align: middle;\n",
       "    }\n",
       "\n",
       "    .dataframe tbody tr th {\n",
       "        vertical-align: top;\n",
       "    }\n",
       "\n",
       "    .dataframe thead th {\n",
       "        text-align: right;\n",
       "    }\n",
       "</style>\n",
       "<table border=\"1\" class=\"dataframe\">\n",
       "  <thead>\n",
       "    <tr style=\"text-align: right;\">\n",
       "      <th></th>\n",
       "      <th>Open</th>\n",
       "      <th>High</th>\n",
       "      <th>Low</th>\n",
       "      <th>Close</th>\n",
       "      <th>Adj Close</th>\n",
       "      <th>Volume</th>\n",
       "    </tr>\n",
       "    <tr>\n",
       "      <th>Date</th>\n",
       "      <th></th>\n",
       "      <th></th>\n",
       "      <th></th>\n",
       "      <th></th>\n",
       "      <th></th>\n",
       "      <th></th>\n",
       "    </tr>\n",
       "  </thead>\n",
       "  <tbody>\n",
       "    <tr>\n",
       "      <th>2004-08-19</th>\n",
       "      <td>49.813290</td>\n",
       "      <td>51.835709</td>\n",
       "      <td>47.800831</td>\n",
       "      <td>49.982655</td>\n",
       "      <td>49.982655</td>\n",
       "      <td>44871361</td>\n",
       "    </tr>\n",
       "    <tr>\n",
       "      <th>2004-08-20</th>\n",
       "      <td>50.316402</td>\n",
       "      <td>54.336334</td>\n",
       "      <td>50.062355</td>\n",
       "      <td>53.952770</td>\n",
       "      <td>53.952770</td>\n",
       "      <td>22942874</td>\n",
       "    </tr>\n",
       "    <tr>\n",
       "      <th>2004-08-23</th>\n",
       "      <td>55.168217</td>\n",
       "      <td>56.528118</td>\n",
       "      <td>54.321388</td>\n",
       "      <td>54.495735</td>\n",
       "      <td>54.495735</td>\n",
       "      <td>18342897</td>\n",
       "    </tr>\n",
       "    <tr>\n",
       "      <th>2004-08-24</th>\n",
       "      <td>55.412300</td>\n",
       "      <td>55.591629</td>\n",
       "      <td>51.591621</td>\n",
       "      <td>52.239197</td>\n",
       "      <td>52.239197</td>\n",
       "      <td>15319808</td>\n",
       "    </tr>\n",
       "    <tr>\n",
       "      <th>2004-08-25</th>\n",
       "      <td>52.284027</td>\n",
       "      <td>53.798351</td>\n",
       "      <td>51.746044</td>\n",
       "      <td>52.802086</td>\n",
       "      <td>52.802086</td>\n",
       "      <td>9232276</td>\n",
       "    </tr>\n",
       "  </tbody>\n",
       "</table>\n",
       "</div>"
      ],
      "text/plain": [
       "                 Open       High        Low      Close  Adj Close    Volume\n",
       "Date                                                                       \n",
       "2004-08-19  49.813290  51.835709  47.800831  49.982655  49.982655  44871361\n",
       "2004-08-20  50.316402  54.336334  50.062355  53.952770  53.952770  22942874\n",
       "2004-08-23  55.168217  56.528118  54.321388  54.495735  54.495735  18342897\n",
       "2004-08-24  55.412300  55.591629  51.591621  52.239197  52.239197  15319808\n",
       "2004-08-25  52.284027  53.798351  51.746044  52.802086  52.802086   9232276"
      ]
     },
     "execution_count": 37,
     "metadata": {},
     "output_type": "execute_result"
    }
   ],
   "source": [
    "google.head()"
   ]
  },
  {
   "cell_type": "markdown",
   "metadata": {},
   "source": [
    "### 3- Fetching a \"Specific date\" information to know about that day activity by using \".loc\""
   ]
  },
  {
   "cell_type": "code",
   "execution_count": 38,
   "metadata": {
    "colab": {
     "base_uri": "https://localhost:8080/"
    },
    "id": "sY0z0ZhDjVie",
    "outputId": "f9547abe-43a7-43e5-81d8-ccc2d7e4c8df"
   },
   "outputs": [
    {
     "data": {
      "text/plain": [
       "Open           2929.000000\n",
       "High           2941.250000\n",
       "Low            2915.169922\n",
       "Close          2920.050049\n",
       "Adj Close      2920.050049\n",
       "Volume       648900.000000\n",
       "Name: 2021-12-30 00:00:00, dtype: float64"
      ]
     },
     "execution_count": 38,
     "metadata": {},
     "output_type": "execute_result"
    }
   ],
   "source": [
    "google.loc['2021-12-30']\n",
    "# google stock 30dec 2021 day open, close, high , low information"
   ]
  },
  {
   "cell_type": "markdown",
   "metadata": {},
   "source": [
    "## 4- Partial indexing -> select a particular year and month"
   ]
  },
  {
   "cell_type": "code",
   "execution_count": 39,
   "metadata": {},
   "outputs": [],
   "source": [
    "# .loc will use to fetch particular year or month data and it will give output in \"DataFrame\""
   ]
  },
  {
   "cell_type": "code",
   "execution_count": 40,
   "metadata": {},
   "outputs": [
    {
     "data": {
      "text/html": [
       "<div>\n",
       "<style scoped>\n",
       "    .dataframe tbody tr th:only-of-type {\n",
       "        vertical-align: middle;\n",
       "    }\n",
       "\n",
       "    .dataframe tbody tr th {\n",
       "        vertical-align: top;\n",
       "    }\n",
       "\n",
       "    .dataframe thead th {\n",
       "        text-align: right;\n",
       "    }\n",
       "</style>\n",
       "<table border=\"1\" class=\"dataframe\">\n",
       "  <thead>\n",
       "    <tr style=\"text-align: right;\">\n",
       "      <th></th>\n",
       "      <th>Open</th>\n",
       "      <th>High</th>\n",
       "      <th>Low</th>\n",
       "      <th>Close</th>\n",
       "      <th>Adj Close</th>\n",
       "      <th>Volume</th>\n",
       "    </tr>\n",
       "    <tr>\n",
       "      <th>Date</th>\n",
       "      <th></th>\n",
       "      <th></th>\n",
       "      <th></th>\n",
       "      <th></th>\n",
       "      <th></th>\n",
       "      <th></th>\n",
       "    </tr>\n",
       "  </thead>\n",
       "  <tbody>\n",
       "    <tr>\n",
       "      <th>2021-12-01</th>\n",
       "      <td>2884.250000</td>\n",
       "      <td>2929.982910</td>\n",
       "      <td>2830.000000</td>\n",
       "      <td>2832.360107</td>\n",
       "      <td>2832.360107</td>\n",
       "      <td>1423800</td>\n",
       "    </tr>\n",
       "    <tr>\n",
       "      <th>2021-12-02</th>\n",
       "      <td>2836.479980</td>\n",
       "      <td>2893.500000</td>\n",
       "      <td>2819.639893</td>\n",
       "      <td>2875.530029</td>\n",
       "      <td>2875.530029</td>\n",
       "      <td>1062500</td>\n",
       "    </tr>\n",
       "    <tr>\n",
       "      <th>2021-12-03</th>\n",
       "      <td>2889.909912</td>\n",
       "      <td>2904.260010</td>\n",
       "      <td>2823.000000</td>\n",
       "      <td>2850.409912</td>\n",
       "      <td>2850.409912</td>\n",
       "      <td>1334400</td>\n",
       "    </tr>\n",
       "    <tr>\n",
       "      <th>2021-12-06</th>\n",
       "      <td>2871.479980</td>\n",
       "      <td>2887.030029</td>\n",
       "      <td>2812.939941</td>\n",
       "      <td>2875.929932</td>\n",
       "      <td>2875.929932</td>\n",
       "      <td>1109900</td>\n",
       "    </tr>\n",
       "    <tr>\n",
       "      <th>2021-12-07</th>\n",
       "      <td>2919.000000</td>\n",
       "      <td>2966.000000</td>\n",
       "      <td>2914.050049</td>\n",
       "      <td>2960.729980</td>\n",
       "      <td>2960.729980</td>\n",
       "      <td>1162900</td>\n",
       "    </tr>\n",
       "    <tr>\n",
       "      <th>2021-12-08</th>\n",
       "      <td>2966.629883</td>\n",
       "      <td>2983.129883</td>\n",
       "      <td>2944.000000</td>\n",
       "      <td>2974.409912</td>\n",
       "      <td>2974.409912</td>\n",
       "      <td>948200</td>\n",
       "    </tr>\n",
       "    <tr>\n",
       "      <th>2021-12-09</th>\n",
       "      <td>2963.520020</td>\n",
       "      <td>2992.100098</td>\n",
       "      <td>2950.580078</td>\n",
       "      <td>2962.120117</td>\n",
       "      <td>2962.120117</td>\n",
       "      <td>929000</td>\n",
       "    </tr>\n",
       "    <tr>\n",
       "      <th>2021-12-10</th>\n",
       "      <td>2982.000000</td>\n",
       "      <td>2988.000000</td>\n",
       "      <td>2947.149902</td>\n",
       "      <td>2973.500000</td>\n",
       "      <td>2973.500000</td>\n",
       "      <td>1081700</td>\n",
       "    </tr>\n",
       "    <tr>\n",
       "      <th>2021-12-13</th>\n",
       "      <td>2968.879883</td>\n",
       "      <td>2971.250000</td>\n",
       "      <td>2927.199951</td>\n",
       "      <td>2934.090088</td>\n",
       "      <td>2934.090088</td>\n",
       "      <td>1205200</td>\n",
       "    </tr>\n",
       "    <tr>\n",
       "      <th>2021-12-14</th>\n",
       "      <td>2895.399902</td>\n",
       "      <td>2908.840088</td>\n",
       "      <td>2844.850098</td>\n",
       "      <td>2899.409912</td>\n",
       "      <td>2899.409912</td>\n",
       "      <td>1238900</td>\n",
       "    </tr>\n",
       "    <tr>\n",
       "      <th>2021-12-15</th>\n",
       "      <td>2887.320068</td>\n",
       "      <td>2950.344971</td>\n",
       "      <td>2854.110107</td>\n",
       "      <td>2947.370117</td>\n",
       "      <td>2947.370117</td>\n",
       "      <td>1364000</td>\n",
       "    </tr>\n",
       "    <tr>\n",
       "      <th>2021-12-16</th>\n",
       "      <td>2961.540039</td>\n",
       "      <td>2971.030029</td>\n",
       "      <td>2881.850098</td>\n",
       "      <td>2896.770020</td>\n",
       "      <td>2896.770020</td>\n",
       "      <td>1370000</td>\n",
       "    </tr>\n",
       "    <tr>\n",
       "      <th>2021-12-17</th>\n",
       "      <td>2854.290039</td>\n",
       "      <td>2889.201904</td>\n",
       "      <td>2835.760010</td>\n",
       "      <td>2856.060059</td>\n",
       "      <td>2856.060059</td>\n",
       "      <td>2170200</td>\n",
       "    </tr>\n",
       "    <tr>\n",
       "      <th>2021-12-20</th>\n",
       "      <td>2813.592041</td>\n",
       "      <td>2852.209961</td>\n",
       "      <td>2805.000000</td>\n",
       "      <td>2848.030029</td>\n",
       "      <td>2848.030029</td>\n",
       "      <td>1013200</td>\n",
       "    </tr>\n",
       "    <tr>\n",
       "      <th>2021-12-21</th>\n",
       "      <td>2863.000000</td>\n",
       "      <td>2893.841064</td>\n",
       "      <td>2834.699951</td>\n",
       "      <td>2884.409912</td>\n",
       "      <td>2884.409912</td>\n",
       "      <td>977400</td>\n",
       "    </tr>\n",
       "    <tr>\n",
       "      <th>2021-12-22</th>\n",
       "      <td>2882.000000</td>\n",
       "      <td>2946.060059</td>\n",
       "      <td>2879.260010</td>\n",
       "      <td>2938.979980</td>\n",
       "      <td>2938.979980</td>\n",
       "      <td>921900</td>\n",
       "    </tr>\n",
       "    <tr>\n",
       "      <th>2021-12-23</th>\n",
       "      <td>2941.790039</td>\n",
       "      <td>2971.451904</td>\n",
       "      <td>2939.017090</td>\n",
       "      <td>2942.850098</td>\n",
       "      <td>2942.850098</td>\n",
       "      <td>690900</td>\n",
       "    </tr>\n",
       "    <tr>\n",
       "      <th>2021-12-27</th>\n",
       "      <td>2949.270020</td>\n",
       "      <td>2968.530029</td>\n",
       "      <td>2945.000000</td>\n",
       "      <td>2961.280029</td>\n",
       "      <td>2961.280029</td>\n",
       "      <td>662800</td>\n",
       "    </tr>\n",
       "    <tr>\n",
       "      <th>2021-12-28</th>\n",
       "      <td>2967.489990</td>\n",
       "      <td>2967.489990</td>\n",
       "      <td>2918.709961</td>\n",
       "      <td>2928.959961</td>\n",
       "      <td>2928.959961</td>\n",
       "      <td>931200</td>\n",
       "    </tr>\n",
       "    <tr>\n",
       "      <th>2021-12-29</th>\n",
       "      <td>2928.590088</td>\n",
       "      <td>2943.675049</td>\n",
       "      <td>2910.090088</td>\n",
       "      <td>2930.090088</td>\n",
       "      <td>2930.090088</td>\n",
       "      <td>851100</td>\n",
       "    </tr>\n",
       "    <tr>\n",
       "      <th>2021-12-30</th>\n",
       "      <td>2929.000000</td>\n",
       "      <td>2941.250000</td>\n",
       "      <td>2915.169922</td>\n",
       "      <td>2920.050049</td>\n",
       "      <td>2920.050049</td>\n",
       "      <td>648900</td>\n",
       "    </tr>\n",
       "    <tr>\n",
       "      <th>2021-12-31</th>\n",
       "      <td>2910.879883</td>\n",
       "      <td>2927.300049</td>\n",
       "      <td>2893.550049</td>\n",
       "      <td>2893.590088</td>\n",
       "      <td>2893.590088</td>\n",
       "      <td>864900</td>\n",
       "    </tr>\n",
       "  </tbody>\n",
       "</table>\n",
       "</div>"
      ],
      "text/plain": [
       "                   Open         High          Low        Close    Adj Close  \\\n",
       "Date                                                                          \n",
       "2021-12-01  2884.250000  2929.982910  2830.000000  2832.360107  2832.360107   \n",
       "2021-12-02  2836.479980  2893.500000  2819.639893  2875.530029  2875.530029   \n",
       "2021-12-03  2889.909912  2904.260010  2823.000000  2850.409912  2850.409912   \n",
       "2021-12-06  2871.479980  2887.030029  2812.939941  2875.929932  2875.929932   \n",
       "2021-12-07  2919.000000  2966.000000  2914.050049  2960.729980  2960.729980   \n",
       "2021-12-08  2966.629883  2983.129883  2944.000000  2974.409912  2974.409912   \n",
       "2021-12-09  2963.520020  2992.100098  2950.580078  2962.120117  2962.120117   \n",
       "2021-12-10  2982.000000  2988.000000  2947.149902  2973.500000  2973.500000   \n",
       "2021-12-13  2968.879883  2971.250000  2927.199951  2934.090088  2934.090088   \n",
       "2021-12-14  2895.399902  2908.840088  2844.850098  2899.409912  2899.409912   \n",
       "2021-12-15  2887.320068  2950.344971  2854.110107  2947.370117  2947.370117   \n",
       "2021-12-16  2961.540039  2971.030029  2881.850098  2896.770020  2896.770020   \n",
       "2021-12-17  2854.290039  2889.201904  2835.760010  2856.060059  2856.060059   \n",
       "2021-12-20  2813.592041  2852.209961  2805.000000  2848.030029  2848.030029   \n",
       "2021-12-21  2863.000000  2893.841064  2834.699951  2884.409912  2884.409912   \n",
       "2021-12-22  2882.000000  2946.060059  2879.260010  2938.979980  2938.979980   \n",
       "2021-12-23  2941.790039  2971.451904  2939.017090  2942.850098  2942.850098   \n",
       "2021-12-27  2949.270020  2968.530029  2945.000000  2961.280029  2961.280029   \n",
       "2021-12-28  2967.489990  2967.489990  2918.709961  2928.959961  2928.959961   \n",
       "2021-12-29  2928.590088  2943.675049  2910.090088  2930.090088  2930.090088   \n",
       "2021-12-30  2929.000000  2941.250000  2915.169922  2920.050049  2920.050049   \n",
       "2021-12-31  2910.879883  2927.300049  2893.550049  2893.590088  2893.590088   \n",
       "\n",
       "             Volume  \n",
       "Date                 \n",
       "2021-12-01  1423800  \n",
       "2021-12-02  1062500  \n",
       "2021-12-03  1334400  \n",
       "2021-12-06  1109900  \n",
       "2021-12-07  1162900  \n",
       "2021-12-08   948200  \n",
       "2021-12-09   929000  \n",
       "2021-12-10  1081700  \n",
       "2021-12-13  1205200  \n",
       "2021-12-14  1238900  \n",
       "2021-12-15  1364000  \n",
       "2021-12-16  1370000  \n",
       "2021-12-17  2170200  \n",
       "2021-12-20  1013200  \n",
       "2021-12-21   977400  \n",
       "2021-12-22   921900  \n",
       "2021-12-23   690900  \n",
       "2021-12-27   662800  \n",
       "2021-12-28   931200  \n",
       "2021-12-29   851100  \n",
       "2021-12-30   648900  \n",
       "2021-12-31   864900  "
      ]
     },
     "execution_count": 40,
     "metadata": {},
     "output_type": "execute_result"
    }
   ],
   "source": [
    "google.loc['2021-12'] # this is fetching data for 2021 december google stock price detail"
   ]
  },
  {
   "cell_type": "code",
   "execution_count": 41,
   "metadata": {},
   "outputs": [
    {
     "data": {
      "text/html": [
       "<div>\n",
       "<style scoped>\n",
       "    .dataframe tbody tr th:only-of-type {\n",
       "        vertical-align: middle;\n",
       "    }\n",
       "\n",
       "    .dataframe tbody tr th {\n",
       "        vertical-align: top;\n",
       "    }\n",
       "\n",
       "    .dataframe thead th {\n",
       "        text-align: right;\n",
       "    }\n",
       "</style>\n",
       "<table border=\"1\" class=\"dataframe\">\n",
       "  <thead>\n",
       "    <tr style=\"text-align: right;\">\n",
       "      <th></th>\n",
       "      <th>Open</th>\n",
       "      <th>High</th>\n",
       "      <th>Low</th>\n",
       "      <th>Close</th>\n",
       "      <th>Adj Close</th>\n",
       "      <th>Volume</th>\n",
       "    </tr>\n",
       "    <tr>\n",
       "      <th>Date</th>\n",
       "      <th></th>\n",
       "      <th></th>\n",
       "      <th></th>\n",
       "      <th></th>\n",
       "      <th></th>\n",
       "      <th></th>\n",
       "    </tr>\n",
       "  </thead>\n",
       "  <tbody>\n",
       "    <tr>\n",
       "      <th>2021-01-04</th>\n",
       "      <td>1757.540039</td>\n",
       "      <td>1760.650024</td>\n",
       "      <td>1707.849976</td>\n",
       "      <td>1728.239990</td>\n",
       "      <td>1728.239990</td>\n",
       "      <td>1901900</td>\n",
       "    </tr>\n",
       "    <tr>\n",
       "      <th>2021-01-05</th>\n",
       "      <td>1725.000000</td>\n",
       "      <td>1747.670044</td>\n",
       "      <td>1718.015015</td>\n",
       "      <td>1740.920044</td>\n",
       "      <td>1740.920044</td>\n",
       "      <td>1145300</td>\n",
       "    </tr>\n",
       "    <tr>\n",
       "      <th>2021-01-06</th>\n",
       "      <td>1702.630005</td>\n",
       "      <td>1748.000000</td>\n",
       "      <td>1699.000000</td>\n",
       "      <td>1735.290039</td>\n",
       "      <td>1735.290039</td>\n",
       "      <td>2602100</td>\n",
       "    </tr>\n",
       "    <tr>\n",
       "      <th>2021-01-07</th>\n",
       "      <td>1740.060059</td>\n",
       "      <td>1788.400024</td>\n",
       "      <td>1737.050049</td>\n",
       "      <td>1787.250000</td>\n",
       "      <td>1787.250000</td>\n",
       "      <td>2265000</td>\n",
       "    </tr>\n",
       "    <tr>\n",
       "      <th>2021-01-08</th>\n",
       "      <td>1787.979980</td>\n",
       "      <td>1809.839966</td>\n",
       "      <td>1773.535034</td>\n",
       "      <td>1807.209961</td>\n",
       "      <td>1807.209961</td>\n",
       "      <td>2050600</td>\n",
       "    </tr>\n",
       "    <tr>\n",
       "      <th>...</th>\n",
       "      <td>...</td>\n",
       "      <td>...</td>\n",
       "      <td>...</td>\n",
       "      <td>...</td>\n",
       "      <td>...</td>\n",
       "      <td>...</td>\n",
       "    </tr>\n",
       "    <tr>\n",
       "      <th>2021-12-27</th>\n",
       "      <td>2949.270020</td>\n",
       "      <td>2968.530029</td>\n",
       "      <td>2945.000000</td>\n",
       "      <td>2961.280029</td>\n",
       "      <td>2961.280029</td>\n",
       "      <td>662800</td>\n",
       "    </tr>\n",
       "    <tr>\n",
       "      <th>2021-12-28</th>\n",
       "      <td>2967.489990</td>\n",
       "      <td>2967.489990</td>\n",
       "      <td>2918.709961</td>\n",
       "      <td>2928.959961</td>\n",
       "      <td>2928.959961</td>\n",
       "      <td>931200</td>\n",
       "    </tr>\n",
       "    <tr>\n",
       "      <th>2021-12-29</th>\n",
       "      <td>2928.590088</td>\n",
       "      <td>2943.675049</td>\n",
       "      <td>2910.090088</td>\n",
       "      <td>2930.090088</td>\n",
       "      <td>2930.090088</td>\n",
       "      <td>851100</td>\n",
       "    </tr>\n",
       "    <tr>\n",
       "      <th>2021-12-30</th>\n",
       "      <td>2929.000000</td>\n",
       "      <td>2941.250000</td>\n",
       "      <td>2915.169922</td>\n",
       "      <td>2920.050049</td>\n",
       "      <td>2920.050049</td>\n",
       "      <td>648900</td>\n",
       "    </tr>\n",
       "    <tr>\n",
       "      <th>2021-12-31</th>\n",
       "      <td>2910.879883</td>\n",
       "      <td>2927.300049</td>\n",
       "      <td>2893.550049</td>\n",
       "      <td>2893.590088</td>\n",
       "      <td>2893.590088</td>\n",
       "      <td>864900</td>\n",
       "    </tr>\n",
       "  </tbody>\n",
       "</table>\n",
       "<p>252 rows × 6 columns</p>\n",
       "</div>"
      ],
      "text/plain": [
       "                   Open         High          Low        Close    Adj Close  \\\n",
       "Date                                                                          \n",
       "2021-01-04  1757.540039  1760.650024  1707.849976  1728.239990  1728.239990   \n",
       "2021-01-05  1725.000000  1747.670044  1718.015015  1740.920044  1740.920044   \n",
       "2021-01-06  1702.630005  1748.000000  1699.000000  1735.290039  1735.290039   \n",
       "2021-01-07  1740.060059  1788.400024  1737.050049  1787.250000  1787.250000   \n",
       "2021-01-08  1787.979980  1809.839966  1773.535034  1807.209961  1807.209961   \n",
       "...                 ...          ...          ...          ...          ...   \n",
       "2021-12-27  2949.270020  2968.530029  2945.000000  2961.280029  2961.280029   \n",
       "2021-12-28  2967.489990  2967.489990  2918.709961  2928.959961  2928.959961   \n",
       "2021-12-29  2928.590088  2943.675049  2910.090088  2930.090088  2930.090088   \n",
       "2021-12-30  2929.000000  2941.250000  2915.169922  2920.050049  2920.050049   \n",
       "2021-12-31  2910.879883  2927.300049  2893.550049  2893.590088  2893.590088   \n",
       "\n",
       "             Volume  \n",
       "Date                 \n",
       "2021-01-04  1901900  \n",
       "2021-01-05  1145300  \n",
       "2021-01-06  2602100  \n",
       "2021-01-07  2265000  \n",
       "2021-01-08  2050600  \n",
       "...             ...  \n",
       "2021-12-27   662800  \n",
       "2021-12-28   931200  \n",
       "2021-12-29   851100  \n",
       "2021-12-30   648900  \n",
       "2021-12-31   864900  \n",
       "\n",
       "[252 rows x 6 columns]"
      ]
     },
     "execution_count": 41,
     "metadata": {},
     "output_type": "execute_result"
    }
   ],
   "source": [
    "google.loc['2021'] # entire 2021 year google stock performance"
   ]
  },
  {
   "cell_type": "markdown",
   "metadata": {},
   "source": [
    "## 5 - Create year month-name and day-name"
   ]
  },
  {
   "cell_type": "code",
   "execution_count": 42,
   "metadata": {},
   "outputs": [
    {
     "data": {
      "text/plain": [
       "DatetimeIndex(['2004-08-19', '2004-08-20', '2004-08-23', '2004-08-24',\n",
       "               '2004-08-25', '2004-08-26', '2004-08-27', '2004-08-30',\n",
       "               '2004-08-31', '2004-09-01',\n",
       "               ...\n",
       "               '2022-05-09', '2022-05-10', '2022-05-11', '2022-05-12',\n",
       "               '2022-05-13', '2022-05-16', '2022-05-17', '2022-05-18',\n",
       "               '2022-05-19', '2022-05-20'],\n",
       "              dtype='datetime64[ns]', name='Date', length=4471, freq=None)"
      ]
     },
     "execution_count": 42,
     "metadata": {},
     "output_type": "execute_result"
    }
   ],
   "source": [
    "google.index\n",
    "# It will give entire dates and it is datetime index object."
   ]
  },
  {
   "cell_type": "code",
   "execution_count": 43,
   "metadata": {},
   "outputs": [],
   "source": [
    "google['month_name'] = google.index.month_name() \n",
    "# by calling month_name function it will extract entire month detail"
   ]
  },
  {
   "cell_type": "code",
   "execution_count": 44,
   "metadata": {},
   "outputs": [
    {
     "data": {
      "text/plain": [
       "Date\n",
       "2004-08-19    August\n",
       "2004-08-20    August\n",
       "2004-08-23    August\n",
       "2004-08-24    August\n",
       "2004-08-25    August\n",
       "               ...  \n",
       "2022-05-16       May\n",
       "2022-05-17       May\n",
       "2022-05-18       May\n",
       "2022-05-19       May\n",
       "2022-05-20       May\n",
       "Name: month_name, Length: 4471, dtype: object"
      ]
     },
     "execution_count": 44,
     "metadata": {},
     "output_type": "execute_result"
    }
   ],
   "source": [
    "google['month_name']"
   ]
  },
  {
   "cell_type": "code",
   "execution_count": 45,
   "metadata": {},
   "outputs": [],
   "source": [
    "google['weekday_name'] = google.index.day_name()\n",
    "# extracting date wise week name"
   ]
  },
  {
   "cell_type": "code",
   "execution_count": 46,
   "metadata": {},
   "outputs": [
    {
     "data": {
      "text/plain": [
       "Date\n",
       "2004-08-19     Thursday\n",
       "2004-08-20       Friday\n",
       "2004-08-23       Monday\n",
       "2004-08-24      Tuesday\n",
       "2004-08-25    Wednesday\n",
       "                ...    \n",
       "2022-05-16       Monday\n",
       "2022-05-17      Tuesday\n",
       "2022-05-18    Wednesday\n",
       "2022-05-19     Thursday\n",
       "2022-05-20       Friday\n",
       "Name: weekday_name, Length: 4471, dtype: object"
      ]
     },
     "execution_count": 46,
     "metadata": {},
     "output_type": "execute_result"
    }
   ],
   "source": [
    "google['weekday_name']"
   ]
  },
  {
   "cell_type": "code",
   "execution_count": 47,
   "metadata": {
    "colab": {
     "base_uri": "https://localhost:8080/",
     "height": 238
    },
    "id": "be_ZwtM0sMNc",
    "outputId": "ab81d172-e442-4a7b-925c-56143b10a16d"
   },
   "outputs": [],
   "source": [
    "google['quarter'] = google.index.quarter\n",
    "# it will tell quarter for data"
   ]
  },
  {
   "cell_type": "code",
   "execution_count": 48,
   "metadata": {},
   "outputs": [
    {
     "data": {
      "text/plain": [
       "Date\n",
       "2004-08-19    3\n",
       "2004-08-20    3\n",
       "2004-08-23    3\n",
       "2004-08-24    3\n",
       "2004-08-25    3\n",
       "             ..\n",
       "2022-05-16    2\n",
       "2022-05-17    2\n",
       "2022-05-18    2\n",
       "2022-05-19    2\n",
       "2022-05-20    2\n",
       "Name: quarter, Length: 4471, dtype: int64"
      ]
     },
     "execution_count": 48,
     "metadata": {},
     "output_type": "execute_result"
    }
   ],
   "source": [
    "google['quarter']"
   ]
  },
  {
   "cell_type": "code",
   "execution_count": 49,
   "metadata": {},
   "outputs": [
    {
     "data": {
      "text/html": [
       "<div>\n",
       "<style scoped>\n",
       "    .dataframe tbody tr th:only-of-type {\n",
       "        vertical-align: middle;\n",
       "    }\n",
       "\n",
       "    .dataframe tbody tr th {\n",
       "        vertical-align: top;\n",
       "    }\n",
       "\n",
       "    .dataframe thead th {\n",
       "        text-align: right;\n",
       "    }\n",
       "</style>\n",
       "<table border=\"1\" class=\"dataframe\">\n",
       "  <thead>\n",
       "    <tr style=\"text-align: right;\">\n",
       "      <th></th>\n",
       "      <th>Open</th>\n",
       "      <th>High</th>\n",
       "      <th>Low</th>\n",
       "      <th>Close</th>\n",
       "      <th>Adj Close</th>\n",
       "      <th>Volume</th>\n",
       "      <th>month_name</th>\n",
       "      <th>weekday_name</th>\n",
       "      <th>quarter</th>\n",
       "    </tr>\n",
       "    <tr>\n",
       "      <th>Date</th>\n",
       "      <th></th>\n",
       "      <th></th>\n",
       "      <th></th>\n",
       "      <th></th>\n",
       "      <th></th>\n",
       "      <th></th>\n",
       "      <th></th>\n",
       "      <th></th>\n",
       "      <th></th>\n",
       "    </tr>\n",
       "  </thead>\n",
       "  <tbody>\n",
       "    <tr>\n",
       "      <th>2004-08-19</th>\n",
       "      <td>49.813290</td>\n",
       "      <td>51.835709</td>\n",
       "      <td>47.800831</td>\n",
       "      <td>49.982655</td>\n",
       "      <td>49.982655</td>\n",
       "      <td>44871361</td>\n",
       "      <td>August</td>\n",
       "      <td>Thursday</td>\n",
       "      <td>3</td>\n",
       "    </tr>\n",
       "    <tr>\n",
       "      <th>2004-08-20</th>\n",
       "      <td>50.316402</td>\n",
       "      <td>54.336334</td>\n",
       "      <td>50.062355</td>\n",
       "      <td>53.952770</td>\n",
       "      <td>53.952770</td>\n",
       "      <td>22942874</td>\n",
       "      <td>August</td>\n",
       "      <td>Friday</td>\n",
       "      <td>3</td>\n",
       "    </tr>\n",
       "    <tr>\n",
       "      <th>2004-08-23</th>\n",
       "      <td>55.168217</td>\n",
       "      <td>56.528118</td>\n",
       "      <td>54.321388</td>\n",
       "      <td>54.495735</td>\n",
       "      <td>54.495735</td>\n",
       "      <td>18342897</td>\n",
       "      <td>August</td>\n",
       "      <td>Monday</td>\n",
       "      <td>3</td>\n",
       "    </tr>\n",
       "    <tr>\n",
       "      <th>2004-08-24</th>\n",
       "      <td>55.412300</td>\n",
       "      <td>55.591629</td>\n",
       "      <td>51.591621</td>\n",
       "      <td>52.239197</td>\n",
       "      <td>52.239197</td>\n",
       "      <td>15319808</td>\n",
       "      <td>August</td>\n",
       "      <td>Tuesday</td>\n",
       "      <td>3</td>\n",
       "    </tr>\n",
       "    <tr>\n",
       "      <th>2004-08-25</th>\n",
       "      <td>52.284027</td>\n",
       "      <td>53.798351</td>\n",
       "      <td>51.746044</td>\n",
       "      <td>52.802086</td>\n",
       "      <td>52.802086</td>\n",
       "      <td>9232276</td>\n",
       "      <td>August</td>\n",
       "      <td>Wednesday</td>\n",
       "      <td>3</td>\n",
       "    </tr>\n",
       "  </tbody>\n",
       "</table>\n",
       "</div>"
      ],
      "text/plain": [
       "                 Open       High        Low      Close  Adj Close    Volume  \\\n",
       "Date                                                                          \n",
       "2004-08-19  49.813290  51.835709  47.800831  49.982655  49.982655  44871361   \n",
       "2004-08-20  50.316402  54.336334  50.062355  53.952770  53.952770  22942874   \n",
       "2004-08-23  55.168217  56.528118  54.321388  54.495735  54.495735  18342897   \n",
       "2004-08-24  55.412300  55.591629  51.591621  52.239197  52.239197  15319808   \n",
       "2004-08-25  52.284027  53.798351  51.746044  52.802086  52.802086   9232276   \n",
       "\n",
       "           month_name weekday_name  quarter  \n",
       "Date                                         \n",
       "2004-08-19     August     Thursday        3  \n",
       "2004-08-20     August       Friday        3  \n",
       "2004-08-23     August       Monday        3  \n",
       "2004-08-24     August      Tuesday        3  \n",
       "2004-08-25     August    Wednesday        3  "
      ]
     },
     "execution_count": 49,
     "metadata": {},
     "output_type": "execute_result"
    }
   ],
   "source": [
    "google.head()"
   ]
  },
  {
   "cell_type": "markdown",
   "metadata": {},
   "source": [
    "## 6- Slicing\n",
    "- for fetching range of data"
   ]
  },
  {
   "cell_type": "code",
   "execution_count": 50,
   "metadata": {},
   "outputs": [
    {
     "data": {
      "text/html": [
       "<div>\n",
       "<style scoped>\n",
       "    .dataframe tbody tr th:only-of-type {\n",
       "        vertical-align: middle;\n",
       "    }\n",
       "\n",
       "    .dataframe tbody tr th {\n",
       "        vertical-align: top;\n",
       "    }\n",
       "\n",
       "    .dataframe thead th {\n",
       "        text-align: right;\n",
       "    }\n",
       "</style>\n",
       "<table border=\"1\" class=\"dataframe\">\n",
       "  <thead>\n",
       "    <tr style=\"text-align: right;\">\n",
       "      <th></th>\n",
       "      <th>Open</th>\n",
       "      <th>High</th>\n",
       "      <th>Low</th>\n",
       "      <th>Close</th>\n",
       "      <th>Adj Close</th>\n",
       "      <th>Volume</th>\n",
       "      <th>month_name</th>\n",
       "      <th>weekday_name</th>\n",
       "      <th>quarter</th>\n",
       "    </tr>\n",
       "    <tr>\n",
       "      <th>Date</th>\n",
       "      <th></th>\n",
       "      <th></th>\n",
       "      <th></th>\n",
       "      <th></th>\n",
       "      <th></th>\n",
       "      <th></th>\n",
       "      <th></th>\n",
       "      <th></th>\n",
       "      <th></th>\n",
       "    </tr>\n",
       "  </thead>\n",
       "  <tbody>\n",
       "    <tr>\n",
       "      <th>2021-10-01</th>\n",
       "      <td>2671.090088</td>\n",
       "      <td>2741.419922</td>\n",
       "      <td>2667.550049</td>\n",
       "      <td>2729.250000</td>\n",
       "      <td>2729.250000</td>\n",
       "      <td>1419400</td>\n",
       "      <td>October</td>\n",
       "      <td>Friday</td>\n",
       "      <td>4</td>\n",
       "    </tr>\n",
       "    <tr>\n",
       "      <th>2021-10-04</th>\n",
       "      <td>2713.989990</td>\n",
       "      <td>2714.000000</td>\n",
       "      <td>2623.330078</td>\n",
       "      <td>2675.300049</td>\n",
       "      <td>2675.300049</td>\n",
       "      <td>1576500</td>\n",
       "      <td>October</td>\n",
       "      <td>Monday</td>\n",
       "      <td>4</td>\n",
       "    </tr>\n",
       "    <tr>\n",
       "      <th>2021-10-05</th>\n",
       "      <td>2680.000000</td>\n",
       "      <td>2747.239990</td>\n",
       "      <td>2680.000000</td>\n",
       "      <td>2723.540039</td>\n",
       "      <td>2723.540039</td>\n",
       "      <td>1206300</td>\n",
       "      <td>October</td>\n",
       "      <td>Tuesday</td>\n",
       "      <td>4</td>\n",
       "    </tr>\n",
       "    <tr>\n",
       "      <th>2021-10-06</th>\n",
       "      <td>2692.510010</td>\n",
       "      <td>2757.040039</td>\n",
       "      <td>2689.729980</td>\n",
       "      <td>2747.080078</td>\n",
       "      <td>2747.080078</td>\n",
       "      <td>988200</td>\n",
       "      <td>October</td>\n",
       "      <td>Wednesday</td>\n",
       "      <td>4</td>\n",
       "    </tr>\n",
       "    <tr>\n",
       "      <th>2021-10-07</th>\n",
       "      <td>2777.260010</td>\n",
       "      <td>2803.089111</td>\n",
       "      <td>2771.260010</td>\n",
       "      <td>2783.709961</td>\n",
       "      <td>2783.709961</td>\n",
       "      <td>912500</td>\n",
       "      <td>October</td>\n",
       "      <td>Thursday</td>\n",
       "      <td>4</td>\n",
       "    </tr>\n",
       "    <tr>\n",
       "      <th>...</th>\n",
       "      <td>...</td>\n",
       "      <td>...</td>\n",
       "      <td>...</td>\n",
       "      <td>...</td>\n",
       "      <td>...</td>\n",
       "      <td>...</td>\n",
       "      <td>...</td>\n",
       "      <td>...</td>\n",
       "      <td>...</td>\n",
       "    </tr>\n",
       "    <tr>\n",
       "      <th>2021-12-27</th>\n",
       "      <td>2949.270020</td>\n",
       "      <td>2968.530029</td>\n",
       "      <td>2945.000000</td>\n",
       "      <td>2961.280029</td>\n",
       "      <td>2961.280029</td>\n",
       "      <td>662800</td>\n",
       "      <td>December</td>\n",
       "      <td>Monday</td>\n",
       "      <td>4</td>\n",
       "    </tr>\n",
       "    <tr>\n",
       "      <th>2021-12-28</th>\n",
       "      <td>2967.489990</td>\n",
       "      <td>2967.489990</td>\n",
       "      <td>2918.709961</td>\n",
       "      <td>2928.959961</td>\n",
       "      <td>2928.959961</td>\n",
       "      <td>931200</td>\n",
       "      <td>December</td>\n",
       "      <td>Tuesday</td>\n",
       "      <td>4</td>\n",
       "    </tr>\n",
       "    <tr>\n",
       "      <th>2021-12-29</th>\n",
       "      <td>2928.590088</td>\n",
       "      <td>2943.675049</td>\n",
       "      <td>2910.090088</td>\n",
       "      <td>2930.090088</td>\n",
       "      <td>2930.090088</td>\n",
       "      <td>851100</td>\n",
       "      <td>December</td>\n",
       "      <td>Wednesday</td>\n",
       "      <td>4</td>\n",
       "    </tr>\n",
       "    <tr>\n",
       "      <th>2021-12-30</th>\n",
       "      <td>2929.000000</td>\n",
       "      <td>2941.250000</td>\n",
       "      <td>2915.169922</td>\n",
       "      <td>2920.050049</td>\n",
       "      <td>2920.050049</td>\n",
       "      <td>648900</td>\n",
       "      <td>December</td>\n",
       "      <td>Thursday</td>\n",
       "      <td>4</td>\n",
       "    </tr>\n",
       "    <tr>\n",
       "      <th>2021-12-31</th>\n",
       "      <td>2910.879883</td>\n",
       "      <td>2927.300049</td>\n",
       "      <td>2893.550049</td>\n",
       "      <td>2893.590088</td>\n",
       "      <td>2893.590088</td>\n",
       "      <td>864900</td>\n",
       "      <td>December</td>\n",
       "      <td>Friday</td>\n",
       "      <td>4</td>\n",
       "    </tr>\n",
       "  </tbody>\n",
       "</table>\n",
       "<p>64 rows × 9 columns</p>\n",
       "</div>"
      ],
      "text/plain": [
       "                   Open         High          Low        Close    Adj Close  \\\n",
       "Date                                                                          \n",
       "2021-10-01  2671.090088  2741.419922  2667.550049  2729.250000  2729.250000   \n",
       "2021-10-04  2713.989990  2714.000000  2623.330078  2675.300049  2675.300049   \n",
       "2021-10-05  2680.000000  2747.239990  2680.000000  2723.540039  2723.540039   \n",
       "2021-10-06  2692.510010  2757.040039  2689.729980  2747.080078  2747.080078   \n",
       "2021-10-07  2777.260010  2803.089111  2771.260010  2783.709961  2783.709961   \n",
       "...                 ...          ...          ...          ...          ...   \n",
       "2021-12-27  2949.270020  2968.530029  2945.000000  2961.280029  2961.280029   \n",
       "2021-12-28  2967.489990  2967.489990  2918.709961  2928.959961  2928.959961   \n",
       "2021-12-29  2928.590088  2943.675049  2910.090088  2930.090088  2930.090088   \n",
       "2021-12-30  2929.000000  2941.250000  2915.169922  2920.050049  2920.050049   \n",
       "2021-12-31  2910.879883  2927.300049  2893.550049  2893.590088  2893.590088   \n",
       "\n",
       "             Volume month_name weekday_name  quarter  \n",
       "Date                                                  \n",
       "2021-10-01  1419400    October       Friday        4  \n",
       "2021-10-04  1576500    October       Monday        4  \n",
       "2021-10-05  1206300    October      Tuesday        4  \n",
       "2021-10-06   988200    October    Wednesday        4  \n",
       "2021-10-07   912500    October     Thursday        4  \n",
       "...             ...        ...          ...      ...  \n",
       "2021-12-27   662800   December       Monday        4  \n",
       "2021-12-28   931200   December      Tuesday        4  \n",
       "2021-12-29   851100   December    Wednesday        4  \n",
       "2021-12-30   648900   December     Thursday        4  \n",
       "2021-12-31   864900   December       Friday        4  \n",
       "\n",
       "[64 rows x 9 columns]"
      ]
     },
     "execution_count": 50,
     "metadata": {},
     "output_type": "execute_result"
    }
   ],
   "source": [
    "google.loc['2021-10-1': '2021-12-31']"
   ]
  },
  {
   "cell_type": "code",
   "execution_count": 51,
   "metadata": {},
   "outputs": [
    {
     "data": {
      "text/html": [
       "<div>\n",
       "<style scoped>\n",
       "    .dataframe tbody tr th:only-of-type {\n",
       "        vertical-align: middle;\n",
       "    }\n",
       "\n",
       "    .dataframe tbody tr th {\n",
       "        vertical-align: top;\n",
       "    }\n",
       "\n",
       "    .dataframe thead th {\n",
       "        text-align: right;\n",
       "    }\n",
       "</style>\n",
       "<table border=\"1\" class=\"dataframe\">\n",
       "  <thead>\n",
       "    <tr style=\"text-align: right;\">\n",
       "      <th></th>\n",
       "      <th>Open</th>\n",
       "      <th>High</th>\n",
       "      <th>Low</th>\n",
       "      <th>Close</th>\n",
       "      <th>Adj Close</th>\n",
       "      <th>Volume</th>\n",
       "      <th>month_name</th>\n",
       "      <th>weekday_name</th>\n",
       "      <th>quarter</th>\n",
       "    </tr>\n",
       "    <tr>\n",
       "      <th>Date</th>\n",
       "      <th></th>\n",
       "      <th></th>\n",
       "      <th></th>\n",
       "      <th></th>\n",
       "      <th></th>\n",
       "      <th></th>\n",
       "      <th></th>\n",
       "      <th></th>\n",
       "      <th></th>\n",
       "    </tr>\n",
       "  </thead>\n",
       "  <tbody>\n",
       "    <tr>\n",
       "      <th>2021-10-01</th>\n",
       "      <td>2671.090088</td>\n",
       "      <td>2741.419922</td>\n",
       "      <td>2667.550049</td>\n",
       "      <td>2729.250000</td>\n",
       "      <td>2729.250000</td>\n",
       "      <td>1419400</td>\n",
       "      <td>October</td>\n",
       "      <td>Friday</td>\n",
       "      <td>4</td>\n",
       "    </tr>\n",
       "    <tr>\n",
       "      <th>2021-10-05</th>\n",
       "      <td>2680.000000</td>\n",
       "      <td>2747.239990</td>\n",
       "      <td>2680.000000</td>\n",
       "      <td>2723.540039</td>\n",
       "      <td>2723.540039</td>\n",
       "      <td>1206300</td>\n",
       "      <td>October</td>\n",
       "      <td>Tuesday</td>\n",
       "      <td>4</td>\n",
       "    </tr>\n",
       "    <tr>\n",
       "      <th>2021-10-07</th>\n",
       "      <td>2777.260010</td>\n",
       "      <td>2803.089111</td>\n",
       "      <td>2771.260010</td>\n",
       "      <td>2783.709961</td>\n",
       "      <td>2783.709961</td>\n",
       "      <td>912500</td>\n",
       "      <td>October</td>\n",
       "      <td>Thursday</td>\n",
       "      <td>4</td>\n",
       "    </tr>\n",
       "    <tr>\n",
       "      <th>2021-10-11</th>\n",
       "      <td>2796.000000</td>\n",
       "      <td>2815.272949</td>\n",
       "      <td>2776.129883</td>\n",
       "      <td>2776.949951</td>\n",
       "      <td>2776.949951</td>\n",
       "      <td>829200</td>\n",
       "      <td>October</td>\n",
       "      <td>Monday</td>\n",
       "      <td>4</td>\n",
       "    </tr>\n",
       "    <tr>\n",
       "      <th>2021-10-13</th>\n",
       "      <td>2755.000000</td>\n",
       "      <td>2771.000000</td>\n",
       "      <td>2739.530029</td>\n",
       "      <td>2758.000000</td>\n",
       "      <td>2758.000000</td>\n",
       "      <td>819000</td>\n",
       "      <td>October</td>\n",
       "      <td>Wednesday</td>\n",
       "      <td>4</td>\n",
       "    </tr>\n",
       "    <tr>\n",
       "      <th>2021-10-15</th>\n",
       "      <td>2844.000000</td>\n",
       "      <td>2844.000000</td>\n",
       "      <td>2821.290039</td>\n",
       "      <td>2833.500000</td>\n",
       "      <td>2833.500000</td>\n",
       "      <td>1062500</td>\n",
       "      <td>October</td>\n",
       "      <td>Friday</td>\n",
       "      <td>4</td>\n",
       "    </tr>\n",
       "    <tr>\n",
       "      <th>2021-10-19</th>\n",
       "      <td>2865.830078</td>\n",
       "      <td>2882.139893</td>\n",
       "      <td>2861.919922</td>\n",
       "      <td>2876.439941</td>\n",
       "      <td>2876.439941</td>\n",
       "      <td>765800</td>\n",
       "      <td>October</td>\n",
       "      <td>Tuesday</td>\n",
       "      <td>4</td>\n",
       "    </tr>\n",
       "    <tr>\n",
       "      <th>2021-10-21</th>\n",
       "      <td>2843.840088</td>\n",
       "      <td>2856.989990</td>\n",
       "      <td>2832.739990</td>\n",
       "      <td>2855.610107</td>\n",
       "      <td>2855.610107</td>\n",
       "      <td>742500</td>\n",
       "      <td>October</td>\n",
       "      <td>Thursday</td>\n",
       "      <td>4</td>\n",
       "    </tr>\n",
       "    <tr>\n",
       "      <th>2021-10-25</th>\n",
       "      <td>2776.209961</td>\n",
       "      <td>2784.115967</td>\n",
       "      <td>2734.969971</td>\n",
       "      <td>2775.459961</td>\n",
       "      <td>2775.459961</td>\n",
       "      <td>1054100</td>\n",
       "      <td>October</td>\n",
       "      <td>Monday</td>\n",
       "      <td>4</td>\n",
       "    </tr>\n",
       "    <tr>\n",
       "      <th>2021-10-27</th>\n",
       "      <td>2798.050049</td>\n",
       "      <td>2982.360107</td>\n",
       "      <td>2798.050049</td>\n",
       "      <td>2928.550049</td>\n",
       "      <td>2928.550049</td>\n",
       "      <td>2592500</td>\n",
       "      <td>October</td>\n",
       "      <td>Wednesday</td>\n",
       "      <td>4</td>\n",
       "    </tr>\n",
       "    <tr>\n",
       "      <th>2021-10-29</th>\n",
       "      <td>2910.399902</td>\n",
       "      <td>2972.260010</td>\n",
       "      <td>2903.330078</td>\n",
       "      <td>2965.409912</td>\n",
       "      <td>2965.409912</td>\n",
       "      <td>1447700</td>\n",
       "      <td>October</td>\n",
       "      <td>Friday</td>\n",
       "      <td>4</td>\n",
       "    </tr>\n",
       "    <tr>\n",
       "      <th>2021-11-02</th>\n",
       "      <td>2896.187988</td>\n",
       "      <td>2938.409912</td>\n",
       "      <td>2892.820068</td>\n",
       "      <td>2917.260010</td>\n",
       "      <td>2917.260010</td>\n",
       "      <td>1057500</td>\n",
       "      <td>November</td>\n",
       "      <td>Tuesday</td>\n",
       "      <td>4</td>\n",
       "    </tr>\n",
       "    <tr>\n",
       "      <th>2021-11-04</th>\n",
       "      <td>2944.000000</td>\n",
       "      <td>2999.000000</td>\n",
       "      <td>2932.699951</td>\n",
       "      <td>2973.659912</td>\n",
       "      <td>2973.659912</td>\n",
       "      <td>1235000</td>\n",
       "      <td>November</td>\n",
       "      <td>Thursday</td>\n",
       "      <td>4</td>\n",
       "    </tr>\n",
       "    <tr>\n",
       "      <th>2021-11-08</th>\n",
       "      <td>3000.000000</td>\n",
       "      <td>3020.689941</td>\n",
       "      <td>2982.399902</td>\n",
       "      <td>2987.030029</td>\n",
       "      <td>2987.030029</td>\n",
       "      <td>919400</td>\n",
       "      <td>November</td>\n",
       "      <td>Monday</td>\n",
       "      <td>4</td>\n",
       "    </tr>\n",
       "    <tr>\n",
       "      <th>2021-11-10</th>\n",
       "      <td>2960.195068</td>\n",
       "      <td>2974.000000</td>\n",
       "      <td>2906.500000</td>\n",
       "      <td>2932.520020</td>\n",
       "      <td>2932.520020</td>\n",
       "      <td>1135400</td>\n",
       "      <td>November</td>\n",
       "      <td>Wednesday</td>\n",
       "      <td>4</td>\n",
       "    </tr>\n",
       "    <tr>\n",
       "      <th>2021-11-12</th>\n",
       "      <td>2956.629883</td>\n",
       "      <td>2997.189941</td>\n",
       "      <td>2929.080078</td>\n",
       "      <td>2992.909912</td>\n",
       "      <td>2992.909912</td>\n",
       "      <td>852400</td>\n",
       "      <td>November</td>\n",
       "      <td>Friday</td>\n",
       "      <td>4</td>\n",
       "    </tr>\n",
       "    <tr>\n",
       "      <th>2021-11-16</th>\n",
       "      <td>2983.409912</td>\n",
       "      <td>2996.649902</td>\n",
       "      <td>2967.000000</td>\n",
       "      <td>2981.520020</td>\n",
       "      <td>2981.520020</td>\n",
       "      <td>862700</td>\n",
       "      <td>November</td>\n",
       "      <td>Tuesday</td>\n",
       "      <td>4</td>\n",
       "    </tr>\n",
       "    <tr>\n",
       "      <th>2021-11-18</th>\n",
       "      <td>2982.919922</td>\n",
       "      <td>3032.199951</td>\n",
       "      <td>2979.969971</td>\n",
       "      <td>3014.179932</td>\n",
       "      <td>3014.179932</td>\n",
       "      <td>1332900</td>\n",
       "      <td>November</td>\n",
       "      <td>Thursday</td>\n",
       "      <td>4</td>\n",
       "    </tr>\n",
       "    <tr>\n",
       "      <th>2021-11-22</th>\n",
       "      <td>3002.834961</td>\n",
       "      <td>3014.889893</td>\n",
       "      <td>2940.110107</td>\n",
       "      <td>2941.570068</td>\n",
       "      <td>2941.570068</td>\n",
       "      <td>1230400</td>\n",
       "      <td>November</td>\n",
       "      <td>Monday</td>\n",
       "      <td>4</td>\n",
       "    </tr>\n",
       "    <tr>\n",
       "      <th>2021-11-24</th>\n",
       "      <td>2927.000000</td>\n",
       "      <td>2940.000000</td>\n",
       "      <td>2903.979980</td>\n",
       "      <td>2934.350098</td>\n",
       "      <td>2934.350098</td>\n",
       "      <td>823200</td>\n",
       "      <td>November</td>\n",
       "      <td>Wednesday</td>\n",
       "      <td>4</td>\n",
       "    </tr>\n",
       "    <tr>\n",
       "      <th>2021-11-29</th>\n",
       "      <td>2885.969971</td>\n",
       "      <td>2937.239990</td>\n",
       "      <td>2885.969971</td>\n",
       "      <td>2922.280029</td>\n",
       "      <td>2922.280029</td>\n",
       "      <td>1313800</td>\n",
       "      <td>November</td>\n",
       "      <td>Monday</td>\n",
       "      <td>4</td>\n",
       "    </tr>\n",
       "    <tr>\n",
       "      <th>2021-12-01</th>\n",
       "      <td>2884.250000</td>\n",
       "      <td>2929.982910</td>\n",
       "      <td>2830.000000</td>\n",
       "      <td>2832.360107</td>\n",
       "      <td>2832.360107</td>\n",
       "      <td>1423800</td>\n",
       "      <td>December</td>\n",
       "      <td>Wednesday</td>\n",
       "      <td>4</td>\n",
       "    </tr>\n",
       "    <tr>\n",
       "      <th>2021-12-03</th>\n",
       "      <td>2889.909912</td>\n",
       "      <td>2904.260010</td>\n",
       "      <td>2823.000000</td>\n",
       "      <td>2850.409912</td>\n",
       "      <td>2850.409912</td>\n",
       "      <td>1334400</td>\n",
       "      <td>December</td>\n",
       "      <td>Friday</td>\n",
       "      <td>4</td>\n",
       "    </tr>\n",
       "    <tr>\n",
       "      <th>2021-12-07</th>\n",
       "      <td>2919.000000</td>\n",
       "      <td>2966.000000</td>\n",
       "      <td>2914.050049</td>\n",
       "      <td>2960.729980</td>\n",
       "      <td>2960.729980</td>\n",
       "      <td>1162900</td>\n",
       "      <td>December</td>\n",
       "      <td>Tuesday</td>\n",
       "      <td>4</td>\n",
       "    </tr>\n",
       "    <tr>\n",
       "      <th>2021-12-09</th>\n",
       "      <td>2963.520020</td>\n",
       "      <td>2992.100098</td>\n",
       "      <td>2950.580078</td>\n",
       "      <td>2962.120117</td>\n",
       "      <td>2962.120117</td>\n",
       "      <td>929000</td>\n",
       "      <td>December</td>\n",
       "      <td>Thursday</td>\n",
       "      <td>4</td>\n",
       "    </tr>\n",
       "    <tr>\n",
       "      <th>2021-12-13</th>\n",
       "      <td>2968.879883</td>\n",
       "      <td>2971.250000</td>\n",
       "      <td>2927.199951</td>\n",
       "      <td>2934.090088</td>\n",
       "      <td>2934.090088</td>\n",
       "      <td>1205200</td>\n",
       "      <td>December</td>\n",
       "      <td>Monday</td>\n",
       "      <td>4</td>\n",
       "    </tr>\n",
       "    <tr>\n",
       "      <th>2021-12-15</th>\n",
       "      <td>2887.320068</td>\n",
       "      <td>2950.344971</td>\n",
       "      <td>2854.110107</td>\n",
       "      <td>2947.370117</td>\n",
       "      <td>2947.370117</td>\n",
       "      <td>1364000</td>\n",
       "      <td>December</td>\n",
       "      <td>Wednesday</td>\n",
       "      <td>4</td>\n",
       "    </tr>\n",
       "    <tr>\n",
       "      <th>2021-12-17</th>\n",
       "      <td>2854.290039</td>\n",
       "      <td>2889.201904</td>\n",
       "      <td>2835.760010</td>\n",
       "      <td>2856.060059</td>\n",
       "      <td>2856.060059</td>\n",
       "      <td>2170200</td>\n",
       "      <td>December</td>\n",
       "      <td>Friday</td>\n",
       "      <td>4</td>\n",
       "    </tr>\n",
       "    <tr>\n",
       "      <th>2021-12-21</th>\n",
       "      <td>2863.000000</td>\n",
       "      <td>2893.841064</td>\n",
       "      <td>2834.699951</td>\n",
       "      <td>2884.409912</td>\n",
       "      <td>2884.409912</td>\n",
       "      <td>977400</td>\n",
       "      <td>December</td>\n",
       "      <td>Tuesday</td>\n",
       "      <td>4</td>\n",
       "    </tr>\n",
       "    <tr>\n",
       "      <th>2021-12-23</th>\n",
       "      <td>2941.790039</td>\n",
       "      <td>2971.451904</td>\n",
       "      <td>2939.017090</td>\n",
       "      <td>2942.850098</td>\n",
       "      <td>2942.850098</td>\n",
       "      <td>690900</td>\n",
       "      <td>December</td>\n",
       "      <td>Thursday</td>\n",
       "      <td>4</td>\n",
       "    </tr>\n",
       "    <tr>\n",
       "      <th>2021-12-28</th>\n",
       "      <td>2967.489990</td>\n",
       "      <td>2967.489990</td>\n",
       "      <td>2918.709961</td>\n",
       "      <td>2928.959961</td>\n",
       "      <td>2928.959961</td>\n",
       "      <td>931200</td>\n",
       "      <td>December</td>\n",
       "      <td>Tuesday</td>\n",
       "      <td>4</td>\n",
       "    </tr>\n",
       "    <tr>\n",
       "      <th>2021-12-30</th>\n",
       "      <td>2929.000000</td>\n",
       "      <td>2941.250000</td>\n",
       "      <td>2915.169922</td>\n",
       "      <td>2920.050049</td>\n",
       "      <td>2920.050049</td>\n",
       "      <td>648900</td>\n",
       "      <td>December</td>\n",
       "      <td>Thursday</td>\n",
       "      <td>4</td>\n",
       "    </tr>\n",
       "  </tbody>\n",
       "</table>\n",
       "</div>"
      ],
      "text/plain": [
       "                   Open         High          Low        Close    Adj Close  \\\n",
       "Date                                                                          \n",
       "2021-10-01  2671.090088  2741.419922  2667.550049  2729.250000  2729.250000   \n",
       "2021-10-05  2680.000000  2747.239990  2680.000000  2723.540039  2723.540039   \n",
       "2021-10-07  2777.260010  2803.089111  2771.260010  2783.709961  2783.709961   \n",
       "2021-10-11  2796.000000  2815.272949  2776.129883  2776.949951  2776.949951   \n",
       "2021-10-13  2755.000000  2771.000000  2739.530029  2758.000000  2758.000000   \n",
       "2021-10-15  2844.000000  2844.000000  2821.290039  2833.500000  2833.500000   \n",
       "2021-10-19  2865.830078  2882.139893  2861.919922  2876.439941  2876.439941   \n",
       "2021-10-21  2843.840088  2856.989990  2832.739990  2855.610107  2855.610107   \n",
       "2021-10-25  2776.209961  2784.115967  2734.969971  2775.459961  2775.459961   \n",
       "2021-10-27  2798.050049  2982.360107  2798.050049  2928.550049  2928.550049   \n",
       "2021-10-29  2910.399902  2972.260010  2903.330078  2965.409912  2965.409912   \n",
       "2021-11-02  2896.187988  2938.409912  2892.820068  2917.260010  2917.260010   \n",
       "2021-11-04  2944.000000  2999.000000  2932.699951  2973.659912  2973.659912   \n",
       "2021-11-08  3000.000000  3020.689941  2982.399902  2987.030029  2987.030029   \n",
       "2021-11-10  2960.195068  2974.000000  2906.500000  2932.520020  2932.520020   \n",
       "2021-11-12  2956.629883  2997.189941  2929.080078  2992.909912  2992.909912   \n",
       "2021-11-16  2983.409912  2996.649902  2967.000000  2981.520020  2981.520020   \n",
       "2021-11-18  2982.919922  3032.199951  2979.969971  3014.179932  3014.179932   \n",
       "2021-11-22  3002.834961  3014.889893  2940.110107  2941.570068  2941.570068   \n",
       "2021-11-24  2927.000000  2940.000000  2903.979980  2934.350098  2934.350098   \n",
       "2021-11-29  2885.969971  2937.239990  2885.969971  2922.280029  2922.280029   \n",
       "2021-12-01  2884.250000  2929.982910  2830.000000  2832.360107  2832.360107   \n",
       "2021-12-03  2889.909912  2904.260010  2823.000000  2850.409912  2850.409912   \n",
       "2021-12-07  2919.000000  2966.000000  2914.050049  2960.729980  2960.729980   \n",
       "2021-12-09  2963.520020  2992.100098  2950.580078  2962.120117  2962.120117   \n",
       "2021-12-13  2968.879883  2971.250000  2927.199951  2934.090088  2934.090088   \n",
       "2021-12-15  2887.320068  2950.344971  2854.110107  2947.370117  2947.370117   \n",
       "2021-12-17  2854.290039  2889.201904  2835.760010  2856.060059  2856.060059   \n",
       "2021-12-21  2863.000000  2893.841064  2834.699951  2884.409912  2884.409912   \n",
       "2021-12-23  2941.790039  2971.451904  2939.017090  2942.850098  2942.850098   \n",
       "2021-12-28  2967.489990  2967.489990  2918.709961  2928.959961  2928.959961   \n",
       "2021-12-30  2929.000000  2941.250000  2915.169922  2920.050049  2920.050049   \n",
       "\n",
       "             Volume month_name weekday_name  quarter  \n",
       "Date                                                  \n",
       "2021-10-01  1419400    October       Friday        4  \n",
       "2021-10-05  1206300    October      Tuesday        4  \n",
       "2021-10-07   912500    October     Thursday        4  \n",
       "2021-10-11   829200    October       Monday        4  \n",
       "2021-10-13   819000    October    Wednesday        4  \n",
       "2021-10-15  1062500    October       Friday        4  \n",
       "2021-10-19   765800    October      Tuesday        4  \n",
       "2021-10-21   742500    October     Thursday        4  \n",
       "2021-10-25  1054100    October       Monday        4  \n",
       "2021-10-27  2592500    October    Wednesday        4  \n",
       "2021-10-29  1447700    October       Friday        4  \n",
       "2021-11-02  1057500   November      Tuesday        4  \n",
       "2021-11-04  1235000   November     Thursday        4  \n",
       "2021-11-08   919400   November       Monday        4  \n",
       "2021-11-10  1135400   November    Wednesday        4  \n",
       "2021-11-12   852400   November       Friday        4  \n",
       "2021-11-16   862700   November      Tuesday        4  \n",
       "2021-11-18  1332900   November     Thursday        4  \n",
       "2021-11-22  1230400   November       Monday        4  \n",
       "2021-11-24   823200   November    Wednesday        4  \n",
       "2021-11-29  1313800   November       Monday        4  \n",
       "2021-12-01  1423800   December    Wednesday        4  \n",
       "2021-12-03  1334400   December       Friday        4  \n",
       "2021-12-07  1162900   December      Tuesday        4  \n",
       "2021-12-09   929000   December     Thursday        4  \n",
       "2021-12-13  1205200   December       Monday        4  \n",
       "2021-12-15  1364000   December    Wednesday        4  \n",
       "2021-12-17  2170200   December       Friday        4  \n",
       "2021-12-21   977400   December      Tuesday        4  \n",
       "2021-12-23   690900   December     Thursday        4  \n",
       "2021-12-28   931200   December      Tuesday        4  \n",
       "2021-12-30   648900   December     Thursday        4  "
      ]
     },
     "execution_count": 51,
     "metadata": {},
     "output_type": "execute_result"
    }
   ],
   "source": [
    "google.loc['2021-10-1': '2021-12-31':2] # fetching every second alternative data"
   ]
  },
  {
   "cell_type": "markdown",
   "metadata": {},
   "source": [
    "## 7-  challenge -> fetch info for a particular date every year -> limitation of timedelta"
   ]
  },
  {
   "cell_type": "markdown",
   "metadata": {},
   "source": [
    "### - lets find every year on 6th jan google stock price value "
   ]
  },
  {
   "cell_type": "code",
   "execution_count": 52,
   "metadata": {},
   "outputs": [
    {
     "ename": "ValueError",
     "evalue": "cannot construct a Timedelta from the passed arguments, allowed keywords are [weeks, days, hours, minutes, seconds, milliseconds, microseconds, nanoseconds]",
     "output_type": "error",
     "traceback": [
      "\u001b[0;31m---------------------------------------------------------------------------\u001b[0m",
      "\u001b[0;31mValueError\u001b[0m                                Traceback (most recent call last)",
      "Cell \u001b[0;32mIn[52], line 2\u001b[0m\n\u001b[1;32m      1\u001b[0m google\u001b[38;5;241m.\u001b[39mhead()\n\u001b[0;32m----> 2\u001b[0m pd\u001b[38;5;241m.\u001b[39mdate_range(start\u001b[38;5;241m=\u001b[39m \u001b[38;5;124m'\u001b[39m\u001b[38;5;124m2005-01-06\u001b[39m\u001b[38;5;124m'\u001b[39m, end \u001b[38;5;241m=\u001b[39m \u001b[38;5;124m'\u001b[39m\u001b[38;5;124m2022-01-06\u001b[39m\u001b[38;5;124m'\u001b[39m, freq\u001b[38;5;241m=\u001b[39m\u001b[43mpd\u001b[49m\u001b[38;5;241;43m.\u001b[39;49m\u001b[43mTimedelta\u001b[49m\u001b[43m(\u001b[49m\u001b[43myears\u001b[49m\u001b[38;5;241;43m=\u001b[39;49m\u001b[38;5;241;43m1\u001b[39;49m\u001b[43m)\u001b[49m)\n",
      "File \u001b[0;32m~/anaconda3/lib/python3.10/site-packages/pandas/_libs/tslibs/timedeltas.pyx:1636\u001b[0m, in \u001b[0;36mpandas._libs.tslibs.timedeltas.Timedelta.__new__\u001b[0;34m()\u001b[0m\n",
      "\u001b[0;31mValueError\u001b[0m: cannot construct a Timedelta from the passed arguments, allowed keywords are [weeks, days, hours, minutes, seconds, milliseconds, microseconds, nanoseconds]"
     ]
    }
   ],
   "source": [
    "google.head()\n",
    "pd.date_range(start= '2005-01-06', end = '2022-01-06', freq=pd.Timedelta(years=1))"
   ]
  },
  {
   "cell_type": "markdown",
   "metadata": {},
   "source": [
    "- thie error showing that Timedelta wont take input in year."
   ]
  },
  {
   "cell_type": "code",
   "execution_count": 53,
   "metadata": {},
   "outputs": [
    {
     "data": {
      "text/plain": [
       "DatetimeIndex(['2005-01-06', '2006-01-06', '2007-01-06', '2008-01-06',\n",
       "               '2009-01-05', '2010-01-05', '2011-01-05', '2012-01-05',\n",
       "               '2013-01-04', '2014-01-04', '2015-01-04', '2016-01-04',\n",
       "               '2017-01-03', '2018-01-03', '2019-01-03', '2020-01-03',\n",
       "               '2021-01-02', '2022-01-02'],\n",
       "              dtype='datetime64[ns]', freq='365D')"
      ]
     },
     "execution_count": 53,
     "metadata": {},
     "output_type": "execute_result"
    }
   ],
   "source": [
    "pd.date_range(start= '2005-01-06', end = '2022-01-06', freq=pd.Timedelta(days=365))"
   ]
  },
  {
   "cell_type": "markdown",
   "metadata": {},
   "source": [
    "- this above code does not solve actual requiremnt of question which was finding all 6 number date for given range. \n",
    "here leap year will creat issue, as it seems 2008 is leap year so below all year date 6 \n",
    "start decresing by one number till 2012,again 2012 was Leapyear so decrease by one number till 2016 then 2016 was leapyear so one number decrease till 2020 then after 2020 decrease by one number. \n",
    "but we want to see only 6th of every month so timedelta with days also wont work"
   ]
  },
  {
   "cell_type": "markdown",
   "metadata": {},
   "source": [
    "# pd.DateOffset\n",
    "- use to fetch particular date for anymonth"
   ]
  },
  {
   "cell_type": "code",
   "execution_count": 54,
   "metadata": {},
   "outputs": [
    {
     "data": {
      "text/plain": [
       "DatetimeIndex(['2005-01-06', '2006-01-06', '2007-01-06', '2008-01-06',\n",
       "               '2009-01-06', '2010-01-06', '2011-01-06', '2012-01-06',\n",
       "               '2013-01-06', '2014-01-06', '2015-01-06', '2016-01-06',\n",
       "               '2017-01-06', '2018-01-06', '2019-01-06', '2020-01-06',\n",
       "               '2021-01-06', '2022-01-06'],\n",
       "              dtype='datetime64[ns]', freq='<DateOffset: years=1>')"
      ]
     },
     "execution_count": 54,
     "metadata": {},
     "output_type": "execute_result"
    }
   ],
   "source": [
    "pd.date_range(start= '2005-01-06', end = '2022-01-06', freq=pd.DateOffset(years =1))"
   ]
  },
  {
   "cell_type": "code",
   "execution_count": 55,
   "metadata": {},
   "outputs": [],
   "source": [
    "# now extracting google data for 6jan  date from given range"
   ]
  },
  {
   "cell_type": "code",
   "execution_count": 56,
   "metadata": {
    "colab": {
     "base_uri": "https://localhost:8080/",
     "height": 488
    },
    "id": "Aljj1y6zA9q9",
    "outputId": "196821d2-ccc6-4adb-bcbf-9e4189ac9b8c"
   },
   "outputs": [
    {
     "data": {
      "text/html": [
       "<div>\n",
       "<style scoped>\n",
       "    .dataframe tbody tr th:only-of-type {\n",
       "        vertical-align: middle;\n",
       "    }\n",
       "\n",
       "    .dataframe tbody tr th {\n",
       "        vertical-align: top;\n",
       "    }\n",
       "\n",
       "    .dataframe thead th {\n",
       "        text-align: right;\n",
       "    }\n",
       "</style>\n",
       "<table border=\"1\" class=\"dataframe\">\n",
       "  <thead>\n",
       "    <tr style=\"text-align: right;\">\n",
       "      <th></th>\n",
       "      <th>Open</th>\n",
       "      <th>High</th>\n",
       "      <th>Low</th>\n",
       "      <th>Close</th>\n",
       "      <th>Adj Close</th>\n",
       "      <th>Volume</th>\n",
       "      <th>month_name</th>\n",
       "      <th>weekday_name</th>\n",
       "      <th>quarter</th>\n",
       "    </tr>\n",
       "    <tr>\n",
       "      <th>Date</th>\n",
       "      <th></th>\n",
       "      <th></th>\n",
       "      <th></th>\n",
       "      <th></th>\n",
       "      <th></th>\n",
       "      <th></th>\n",
       "      <th></th>\n",
       "      <th></th>\n",
       "      <th></th>\n",
       "    </tr>\n",
       "  </thead>\n",
       "  <tbody>\n",
       "    <tr>\n",
       "      <th>2005-01-06</th>\n",
       "      <td>97.175758</td>\n",
       "      <td>97.584229</td>\n",
       "      <td>93.509506</td>\n",
       "      <td>93.922951</td>\n",
       "      <td>93.922951</td>\n",
       "      <td>20852067</td>\n",
       "      <td>January</td>\n",
       "      <td>Thursday</td>\n",
       "      <td>1</td>\n",
       "    </tr>\n",
       "    <tr>\n",
       "      <th>2006-01-06</th>\n",
       "      <td>227.581970</td>\n",
       "      <td>234.371521</td>\n",
       "      <td>225.773743</td>\n",
       "      <td>231.960556</td>\n",
       "      <td>231.960556</td>\n",
       "      <td>35646914</td>\n",
       "      <td>January</td>\n",
       "      <td>Friday</td>\n",
       "      <td>1</td>\n",
       "    </tr>\n",
       "    <tr>\n",
       "      <th>2009-01-06</th>\n",
       "      <td>165.868286</td>\n",
       "      <td>169.763687</td>\n",
       "      <td>162.585587</td>\n",
       "      <td>166.406265</td>\n",
       "      <td>166.406265</td>\n",
       "      <td>12898566</td>\n",
       "      <td>January</td>\n",
       "      <td>Tuesday</td>\n",
       "      <td>1</td>\n",
       "    </tr>\n",
       "    <tr>\n",
       "      <th>2010-01-06</th>\n",
       "      <td>311.761444</td>\n",
       "      <td>311.761444</td>\n",
       "      <td>302.047852</td>\n",
       "      <td>302.994293</td>\n",
       "      <td>302.994293</td>\n",
       "      <td>7987226</td>\n",
       "      <td>January</td>\n",
       "      <td>Wednesday</td>\n",
       "      <td>1</td>\n",
       "    </tr>\n",
       "    <tr>\n",
       "      <th>2011-01-06</th>\n",
       "      <td>304.199799</td>\n",
       "      <td>308.060303</td>\n",
       "      <td>303.885956</td>\n",
       "      <td>305.604523</td>\n",
       "      <td>305.604523</td>\n",
       "      <td>4131026</td>\n",
       "      <td>January</td>\n",
       "      <td>Thursday</td>\n",
       "      <td>1</td>\n",
       "    </tr>\n",
       "    <tr>\n",
       "      <th>2012-01-06</th>\n",
       "      <td>328.344299</td>\n",
       "      <td>328.767700</td>\n",
       "      <td>323.681763</td>\n",
       "      <td>323.796326</td>\n",
       "      <td>323.796326</td>\n",
       "      <td>5405987</td>\n",
       "      <td>January</td>\n",
       "      <td>Friday</td>\n",
       "      <td>1</td>\n",
       "    </tr>\n",
       "    <tr>\n",
       "      <th>2014-01-06</th>\n",
       "      <td>554.426880</td>\n",
       "      <td>557.340942</td>\n",
       "      <td>551.154114</td>\n",
       "      <td>556.573853</td>\n",
       "      <td>556.573853</td>\n",
       "      <td>3551864</td>\n",
       "      <td>January</td>\n",
       "      <td>Monday</td>\n",
       "      <td>1</td>\n",
       "    </tr>\n",
       "    <tr>\n",
       "      <th>2015-01-06</th>\n",
       "      <td>513.589966</td>\n",
       "      <td>514.761719</td>\n",
       "      <td>499.678131</td>\n",
       "      <td>500.585632</td>\n",
       "      <td>500.585632</td>\n",
       "      <td>2899940</td>\n",
       "      <td>January</td>\n",
       "      <td>Tuesday</td>\n",
       "      <td>1</td>\n",
       "    </tr>\n",
       "    <tr>\n",
       "      <th>2016-01-06</th>\n",
       "      <td>730.000000</td>\n",
       "      <td>747.179993</td>\n",
       "      <td>728.919983</td>\n",
       "      <td>743.619995</td>\n",
       "      <td>743.619995</td>\n",
       "      <td>1947000</td>\n",
       "      <td>January</td>\n",
       "      <td>Wednesday</td>\n",
       "      <td>1</td>\n",
       "    </tr>\n",
       "    <tr>\n",
       "      <th>2017-01-06</th>\n",
       "      <td>795.260010</td>\n",
       "      <td>807.900024</td>\n",
       "      <td>792.203979</td>\n",
       "      <td>806.150024</td>\n",
       "      <td>806.150024</td>\n",
       "      <td>1640200</td>\n",
       "      <td>January</td>\n",
       "      <td>Friday</td>\n",
       "      <td>1</td>\n",
       "    </tr>\n",
       "    <tr>\n",
       "      <th>2020-01-06</th>\n",
       "      <td>1350.000000</td>\n",
       "      <td>1396.500000</td>\n",
       "      <td>1350.000000</td>\n",
       "      <td>1394.209961</td>\n",
       "      <td>1394.209961</td>\n",
       "      <td>1732300</td>\n",
       "      <td>January</td>\n",
       "      <td>Monday</td>\n",
       "      <td>1</td>\n",
       "    </tr>\n",
       "    <tr>\n",
       "      <th>2021-01-06</th>\n",
       "      <td>1702.630005</td>\n",
       "      <td>1748.000000</td>\n",
       "      <td>1699.000000</td>\n",
       "      <td>1735.290039</td>\n",
       "      <td>1735.290039</td>\n",
       "      <td>2602100</td>\n",
       "      <td>January</td>\n",
       "      <td>Wednesday</td>\n",
       "      <td>1</td>\n",
       "    </tr>\n",
       "    <tr>\n",
       "      <th>2022-01-06</th>\n",
       "      <td>2749.949951</td>\n",
       "      <td>2793.719971</td>\n",
       "      <td>2735.270020</td>\n",
       "      <td>2751.020020</td>\n",
       "      <td>2751.020020</td>\n",
       "      <td>1452500</td>\n",
       "      <td>January</td>\n",
       "      <td>Thursday</td>\n",
       "      <td>1</td>\n",
       "    </tr>\n",
       "  </tbody>\n",
       "</table>\n",
       "</div>"
      ],
      "text/plain": [
       "                   Open         High          Low        Close    Adj Close  \\\n",
       "Date                                                                          \n",
       "2005-01-06    97.175758    97.584229    93.509506    93.922951    93.922951   \n",
       "2006-01-06   227.581970   234.371521   225.773743   231.960556   231.960556   \n",
       "2009-01-06   165.868286   169.763687   162.585587   166.406265   166.406265   \n",
       "2010-01-06   311.761444   311.761444   302.047852   302.994293   302.994293   \n",
       "2011-01-06   304.199799   308.060303   303.885956   305.604523   305.604523   \n",
       "2012-01-06   328.344299   328.767700   323.681763   323.796326   323.796326   \n",
       "2014-01-06   554.426880   557.340942   551.154114   556.573853   556.573853   \n",
       "2015-01-06   513.589966   514.761719   499.678131   500.585632   500.585632   \n",
       "2016-01-06   730.000000   747.179993   728.919983   743.619995   743.619995   \n",
       "2017-01-06   795.260010   807.900024   792.203979   806.150024   806.150024   \n",
       "2020-01-06  1350.000000  1396.500000  1350.000000  1394.209961  1394.209961   \n",
       "2021-01-06  1702.630005  1748.000000  1699.000000  1735.290039  1735.290039   \n",
       "2022-01-06  2749.949951  2793.719971  2735.270020  2751.020020  2751.020020   \n",
       "\n",
       "              Volume month_name weekday_name  quarter  \n",
       "Date                                                   \n",
       "2005-01-06  20852067    January     Thursday        1  \n",
       "2006-01-06  35646914    January       Friday        1  \n",
       "2009-01-06  12898566    January      Tuesday        1  \n",
       "2010-01-06   7987226    January    Wednesday        1  \n",
       "2011-01-06   4131026    January     Thursday        1  \n",
       "2012-01-06   5405987    January       Friday        1  \n",
       "2014-01-06   3551864    January       Monday        1  \n",
       "2015-01-06   2899940    January      Tuesday        1  \n",
       "2016-01-06   1947000    January    Wednesday        1  \n",
       "2017-01-06   1640200    January       Friday        1  \n",
       "2020-01-06   1732300    January       Monday        1  \n",
       "2021-01-06   2602100    January    Wednesday        1  \n",
       "2022-01-06   1452500    January     Thursday        1  "
      ]
     },
     "execution_count": 56,
     "metadata": {},
     "output_type": "execute_result"
    }
   ],
   "source": [
    "google[google.index.isin(pd.date_range(start='2005-1-6',end='2022-1-6',freq=pd.DateOffset(years=1)))]"
   ]
  },
  {
   "cell_type": "markdown",
   "metadata": {},
   "source": [
    "- in above code understanding- google 2007, 2008 data is missing so assuming on 6th jan 2007 and 6th jan 2008was \n",
    "weekend and stock market do not run on weekend."
   ]
  },
  {
   "cell_type": "markdown",
   "metadata": {},
   "source": [
    "# 8- Visualization of Google stock"
   ]
  },
  {
   "cell_type": "markdown",
   "metadata": {},
   "source": [
    "### - Over the year on which price google close will check by visualization"
   ]
  },
  {
   "cell_type": "code",
   "execution_count": 57,
   "metadata": {
    "colab": {
     "base_uri": "https://localhost:8080/",
     "height": 286
    },
    "id": "BM564qkcnFFl",
    "outputId": "4786c384-09b8-48d0-9b40-afb7fd3a6d88"
   },
   "outputs": [
    {
     "data": {
      "text/plain": [
       "<Axes: xlabel='Date'>"
      ]
     },
     "execution_count": 57,
     "metadata": {},
     "output_type": "execute_result"
    },
    {
     "data": {
      "image/png": "[encoded data removed]",
      "text/plain": [
       "<Figure size 640x480 with 1 Axes>"
      ]
     },
     "metadata": {},
     "output_type": "display_data"
    }
   ],
   "source": [
    "# viz a single col\n",
    "google['Close'].plot()"
   ]
  },
  {
   "cell_type": "markdown",
   "metadata": {},
   "source": [
    "- Understanding:\n",
    "    over the year stock rate increases and after 2020 some slowdown in movement of stock."
   ]
  },
  {
   "cell_type": "markdown",
   "metadata": {},
   "source": [
    "## Subplot of all column together"
   ]
  },
  {
   "cell_type": "code",
   "execution_count": 58,
   "metadata": {},
   "outputs": [
    {
     "data": {
      "image/png": "[encoded data removed]",
      "text/plain": [
       "<Figure size 2000x1500 with 4 Axes>"
      ]
     },
     "metadata": {},
     "output_type": "display_data"
    }
   ],
   "source": [
    "subset_google= google[['Open', 'High', 'Low', 'Volume']]\n",
    "ax= subset_google.plot(subplots=True,\n",
    "           layout=(2,2),\n",
    "           sharex= False,\n",
    "           sharey=False,\n",
    "           linewidth=0.7,\n",
    "           fontsize=10,\n",
    "           legend=False,\n",
    "           figsize=(20,15),\n",
    "           title=['Open', 'High', 'Low', 'Volume'])"
   ]
  },
  {
   "cell_type": "markdown",
   "metadata": {},
   "source": [
    "## Plot for particular year/month/week"
   ]
  },
  {
   "cell_type": "code",
   "execution_count": 59,
   "metadata": {},
   "outputs": [
    {
     "data": {
      "text/html": [
       "<div>\n",
       "<style scoped>\n",
       "    .dataframe tbody tr th:only-of-type {\n",
       "        vertical-align: middle;\n",
       "    }\n",
       "\n",
       "    .dataframe tbody tr th {\n",
       "        vertical-align: top;\n",
       "    }\n",
       "\n",
       "    .dataframe thead th {\n",
       "        text-align: right;\n",
       "    }\n",
       "</style>\n",
       "<table border=\"1\" class=\"dataframe\">\n",
       "  <thead>\n",
       "    <tr style=\"text-align: right;\">\n",
       "      <th></th>\n",
       "      <th>Open</th>\n",
       "      <th>High</th>\n",
       "      <th>Low</th>\n",
       "      <th>Close</th>\n",
       "      <th>Adj Close</th>\n",
       "      <th>Volume</th>\n",
       "      <th>month_name</th>\n",
       "      <th>weekday_name</th>\n",
       "      <th>quarter</th>\n",
       "    </tr>\n",
       "    <tr>\n",
       "      <th>Date</th>\n",
       "      <th></th>\n",
       "      <th></th>\n",
       "      <th></th>\n",
       "      <th></th>\n",
       "      <th></th>\n",
       "      <th></th>\n",
       "      <th></th>\n",
       "      <th></th>\n",
       "      <th></th>\n",
       "    </tr>\n",
       "  </thead>\n",
       "  <tbody>\n",
       "    <tr>\n",
       "      <th>2004-08-19</th>\n",
       "      <td>49.813290</td>\n",
       "      <td>51.835709</td>\n",
       "      <td>47.800831</td>\n",
       "      <td>49.982655</td>\n",
       "      <td>49.982655</td>\n",
       "      <td>44871361</td>\n",
       "      <td>August</td>\n",
       "      <td>Thursday</td>\n",
       "      <td>3</td>\n",
       "    </tr>\n",
       "    <tr>\n",
       "      <th>2004-08-20</th>\n",
       "      <td>50.316402</td>\n",
       "      <td>54.336334</td>\n",
       "      <td>50.062355</td>\n",
       "      <td>53.952770</td>\n",
       "      <td>53.952770</td>\n",
       "      <td>22942874</td>\n",
       "      <td>August</td>\n",
       "      <td>Friday</td>\n",
       "      <td>3</td>\n",
       "    </tr>\n",
       "  </tbody>\n",
       "</table>\n",
       "</div>"
      ],
      "text/plain": [
       "                 Open       High        Low      Close  Adj Close    Volume  \\\n",
       "Date                                                                          \n",
       "2004-08-19  49.813290  51.835709  47.800831  49.982655  49.982655  44871361   \n",
       "2004-08-20  50.316402  54.336334  50.062355  53.952770  53.952770  22942874   \n",
       "\n",
       "           month_name weekday_name  quarter  \n",
       "Date                                         \n",
       "2004-08-19     August     Thursday        3  \n",
       "2004-08-20     August       Friday        3  "
      ]
     },
     "execution_count": 59,
     "metadata": {},
     "output_type": "execute_result"
    }
   ],
   "source": [
    "google.head(2)"
   ]
  },
  {
   "cell_type": "markdown",
   "metadata": {},
   "source": [
    "## Yearly Trend"
   ]
  },
  {
   "cell_type": "code",
   "execution_count": 60,
   "metadata": {},
   "outputs": [],
   "source": [
    "# for 2021 year checking how was the volume(shares of a security traded during a given period of time) of stock"
   ]
  },
  {
   "cell_type": "code",
   "execution_count": 61,
   "metadata": {},
   "outputs": [
    {
     "data": {
      "text/plain": [
       "<Axes: xlabel='Date'>"
      ]
     },
     "execution_count": 61,
     "metadata": {},
     "output_type": "execute_result"
    },
    {
     "data": {
      "image/png": "[encoded data removed]",
      "text/plain": [
       "<Figure size 640x480 with 1 Axes>"
      ]
     },
     "metadata": {},
     "output_type": "display_data"
    }
   ],
   "source": [
    "google.loc['2021']['Volume'].plot()"
   ]
  },
  {
   "cell_type": "markdown",
   "metadata": {},
   "source": [
    "- understanding - it seems like entire month stock was traded on certain range except in between feb, march volume\n",
    "was compartively very high."
   ]
  },
  {
   "cell_type": "markdown",
   "metadata": {},
   "source": [
    "## Monthly Trend"
   ]
  },
  {
   "cell_type": "code",
   "execution_count": 62,
   "metadata": {},
   "outputs": [],
   "source": [
    "# for 2021 year in december month checking how was the volume of stock"
   ]
  },
  {
   "cell_type": "code",
   "execution_count": 63,
   "metadata": {},
   "outputs": [
    {
     "data": {
      "text/plain": [
       "<Axes: xlabel='Date'>"
      ]
     },
     "execution_count": 63,
     "metadata": {},
     "output_type": "execute_result"
    },
    {
     "data": {
      "image/png": "[encoded data removed]",
      "text/plain": [
       "<Figure size 640x480 with 1 Axes>"
      ]
     },
     "metadata": {},
     "output_type": "display_data"
    }
   ],
   "source": [
    "google.loc['2021-12']['Volume'].plot()"
   ]
  },
  {
   "cell_type": "markdown",
   "metadata": {},
   "source": [
    "- Understading -\n",
    "        Google stock was breakdown on 16-12-2021 and 17-12-2021 so due to buying/selling(in fear) of stock volume was so high."
   ]
  },
  {
   "cell_type": "code",
   "execution_count": 64,
   "metadata": {
    "colab": {
     "base_uri": "https://localhost:8080/",
     "height": 305
    },
    "id": "KB_gtdnGwktB",
    "outputId": "0d82455f-53e8-4fd2-b424-9bd2ab807fb7"
   },
   "outputs": [
    {
     "data": {
      "text/plain": [
       "<Axes: xlabel='Date'>"
      ]
     },
     "execution_count": 64,
     "metadata": {},
     "output_type": "execute_result"
    },
    {
     "data": {
      "image/png": "[encoded data removed]",
      "text/plain": [
       "<Figure size 640x480 with 1 Axes>"
      ]
     },
     "metadata": {},
     "output_type": "display_data"
    }
   ],
   "source": [
    "google.loc['2021-12']['Close'].plot()"
   ]
  },
  {
   "cell_type": "markdown",
   "metadata": {},
   "source": [
    "- Understanding- as per above volume graph we see on 16 to 17 dec volume was high reason is clear stock was down\n",
    "on both date."
   ]
  },
  {
   "cell_type": "markdown",
   "metadata": {},
   "source": [
    "# Querterly Trend"
   ]
  },
  {
   "cell_type": "code",
   "execution_count": 65,
   "metadata": {},
   "outputs": [
    {
     "data": {
      "text/plain": [
       "<Axes: xlabel='quarter'>"
      ]
     },
     "execution_count": 65,
     "metadata": {},
     "output_type": "execute_result"
    },
    {
     "data": {
      "image/png": "[encoded data removed]",
      "text/plain": [
       "<Figure size 640x480 with 1 Axes>"
      ]
     },
     "metadata": {},
     "output_type": "display_data"
    }
   ],
   "source": [
    "google.groupby('quarter')['Close'].mean().plot(kind='bar')"
   ]
  },
  {
   "cell_type": "markdown",
   "metadata": {},
   "source": [
    "# Checking which month closing was high for google stock"
   ]
  },
  {
   "cell_type": "code",
   "execution_count": 66,
   "metadata": {},
   "outputs": [
    {
     "data": {
      "text/plain": [
       "<Axes: xlabel='month_name'>"
      ]
     },
     "execution_count": 66,
     "metadata": {},
     "output_type": "execute_result"
    },
    {
     "data": {
      "image/png": "[encoded data removed]",
      "text/plain": [
       "<Figure size 640x480 with 1 Axes>"
      ]
     },
     "metadata": {},
     "output_type": "display_data"
    }
   ],
   "source": [
    "google.groupby('month_name')['Close'].mean().plot(kind='bar')"
   ]
  },
  {
   "cell_type": "markdown",
   "metadata": {},
   "source": [
    "# Yearly Trend"
   ]
  },
  {
   "cell_type": "code",
   "execution_count": 67,
   "metadata": {},
   "outputs": [
    {
     "data": {
      "text/plain": [
       "<Axes: xlabel='weekday_name'>"
      ]
     },
     "execution_count": 67,
     "metadata": {},
     "output_type": "execute_result"
    },
    {
     "data": {
      "image/png": "[encoded data removed]",
      "text/plain": [
       "<Figure size 640x480 with 1 Axes>"
      ]
     },
     "metadata": {},
     "output_type": "display_data"
    }
   ],
   "source": [
    "google.groupby('weekday_name')['Close'].mean().plot(kind='bar')"
   ]
  },
  {
   "cell_type": "markdown",
   "metadata": {},
   "source": [
    "# Frequency"
   ]
  },
  {
   "cell_type": "code",
   "execution_count": 68,
   "metadata": {},
   "outputs": [
    {
     "data": {
      "text/plain": [
       "DatetimeIndex(['2004-08-19', '2004-08-20', '2004-08-23', '2004-08-24',\n",
       "               '2004-08-25', '2004-08-26', '2004-08-27', '2004-08-30',\n",
       "               '2004-08-31', '2004-09-01',\n",
       "               ...\n",
       "               '2022-05-09', '2022-05-10', '2022-05-11', '2022-05-12',\n",
       "               '2022-05-13', '2022-05-16', '2022-05-17', '2022-05-18',\n",
       "               '2022-05-19', '2022-05-20'],\n",
       "              dtype='datetime64[ns]', name='Date', length=4471, freq=None)"
      ]
     },
     "execution_count": 68,
     "metadata": {},
     "output_type": "execute_result"
    }
   ],
   "source": [
    "google.index\n",
    "\n",
    "# showing frequency none as could not find any frequency on google data"
   ]
  },
  {
   "cell_type": "markdown",
   "metadata": {},
   "source": [
    "### asfreq"
   ]
  },
  {
   "cell_type": "markdown",
   "metadata": {},
   "source": [
    "- This \"asfreq\" function will set frequency, \"D\" means setting daily frquency for google data."
   ]
  },
  {
   "cell_type": "code",
   "execution_count": 69,
   "metadata": {},
   "outputs": [
    {
     "data": {
      "text/html": [
       "<div>\n",
       "<style scoped>\n",
       "    .dataframe tbody tr th:only-of-type {\n",
       "        vertical-align: middle;\n",
       "    }\n",
       "\n",
       "    .dataframe tbody tr th {\n",
       "        vertical-align: top;\n",
       "    }\n",
       "\n",
       "    .dataframe thead th {\n",
       "        text-align: right;\n",
       "    }\n",
       "</style>\n",
       "<table border=\"1\" class=\"dataframe\">\n",
       "  <thead>\n",
       "    <tr style=\"text-align: right;\">\n",
       "      <th></th>\n",
       "      <th>Open</th>\n",
       "      <th>High</th>\n",
       "      <th>Low</th>\n",
       "      <th>Close</th>\n",
       "      <th>Adj Close</th>\n",
       "      <th>Volume</th>\n",
       "      <th>month_name</th>\n",
       "      <th>weekday_name</th>\n",
       "      <th>quarter</th>\n",
       "    </tr>\n",
       "    <tr>\n",
       "      <th>Date</th>\n",
       "      <th></th>\n",
       "      <th></th>\n",
       "      <th></th>\n",
       "      <th></th>\n",
       "      <th></th>\n",
       "      <th></th>\n",
       "      <th></th>\n",
       "      <th></th>\n",
       "      <th></th>\n",
       "    </tr>\n",
       "  </thead>\n",
       "  <tbody>\n",
       "    <tr>\n",
       "      <th>2004-08-19</th>\n",
       "      <td>49.813290</td>\n",
       "      <td>51.835709</td>\n",
       "      <td>47.800831</td>\n",
       "      <td>49.982655</td>\n",
       "      <td>49.982655</td>\n",
       "      <td>44871361.0</td>\n",
       "      <td>August</td>\n",
       "      <td>Thursday</td>\n",
       "      <td>3.0</td>\n",
       "    </tr>\n",
       "    <tr>\n",
       "      <th>2004-08-20</th>\n",
       "      <td>50.316402</td>\n",
       "      <td>54.336334</td>\n",
       "      <td>50.062355</td>\n",
       "      <td>53.952770</td>\n",
       "      <td>53.952770</td>\n",
       "      <td>22942874.0</td>\n",
       "      <td>August</td>\n",
       "      <td>Friday</td>\n",
       "      <td>3.0</td>\n",
       "    </tr>\n",
       "    <tr>\n",
       "      <th>2004-08-21</th>\n",
       "      <td>NaN</td>\n",
       "      <td>NaN</td>\n",
       "      <td>NaN</td>\n",
       "      <td>NaN</td>\n",
       "      <td>NaN</td>\n",
       "      <td>NaN</td>\n",
       "      <td>NaN</td>\n",
       "      <td>NaN</td>\n",
       "      <td>NaN</td>\n",
       "    </tr>\n",
       "    <tr>\n",
       "      <th>2004-08-22</th>\n",
       "      <td>NaN</td>\n",
       "      <td>NaN</td>\n",
       "      <td>NaN</td>\n",
       "      <td>NaN</td>\n",
       "      <td>NaN</td>\n",
       "      <td>NaN</td>\n",
       "      <td>NaN</td>\n",
       "      <td>NaN</td>\n",
       "      <td>NaN</td>\n",
       "    </tr>\n",
       "    <tr>\n",
       "      <th>2004-08-23</th>\n",
       "      <td>55.168217</td>\n",
       "      <td>56.528118</td>\n",
       "      <td>54.321388</td>\n",
       "      <td>54.495735</td>\n",
       "      <td>54.495735</td>\n",
       "      <td>18342897.0</td>\n",
       "      <td>August</td>\n",
       "      <td>Monday</td>\n",
       "      <td>3.0</td>\n",
       "    </tr>\n",
       "    <tr>\n",
       "      <th>...</th>\n",
       "      <td>...</td>\n",
       "      <td>...</td>\n",
       "      <td>...</td>\n",
       "      <td>...</td>\n",
       "      <td>...</td>\n",
       "      <td>...</td>\n",
       "      <td>...</td>\n",
       "      <td>...</td>\n",
       "      <td>...</td>\n",
       "    </tr>\n",
       "    <tr>\n",
       "      <th>2022-05-16</th>\n",
       "      <td>2307.679932</td>\n",
       "      <td>2332.149902</td>\n",
       "      <td>2286.699951</td>\n",
       "      <td>2295.850098</td>\n",
       "      <td>2295.850098</td>\n",
       "      <td>1164100.0</td>\n",
       "      <td>May</td>\n",
       "      <td>Monday</td>\n",
       "      <td>2.0</td>\n",
       "    </tr>\n",
       "    <tr>\n",
       "      <th>2022-05-17</th>\n",
       "      <td>2344.550049</td>\n",
       "      <td>2344.550049</td>\n",
       "      <td>2306.750000</td>\n",
       "      <td>2334.030029</td>\n",
       "      <td>2334.030029</td>\n",
       "      <td>1078800.0</td>\n",
       "      <td>May</td>\n",
       "      <td>Tuesday</td>\n",
       "      <td>2.0</td>\n",
       "    </tr>\n",
       "    <tr>\n",
       "      <th>2022-05-18</th>\n",
       "      <td>2304.750000</td>\n",
       "      <td>2313.913086</td>\n",
       "      <td>2242.840088</td>\n",
       "      <td>2248.020020</td>\n",
       "      <td>2248.020020</td>\n",
       "      <td>1399100.0</td>\n",
       "      <td>May</td>\n",
       "      <td>Wednesday</td>\n",
       "      <td>2.0</td>\n",
       "    </tr>\n",
       "    <tr>\n",
       "      <th>2022-05-19</th>\n",
       "      <td>2236.820068</td>\n",
       "      <td>2271.750000</td>\n",
       "      <td>2209.360107</td>\n",
       "      <td>2214.909912</td>\n",
       "      <td>2214.909912</td>\n",
       "      <td>1459600.0</td>\n",
       "      <td>May</td>\n",
       "      <td>Thursday</td>\n",
       "      <td>2.0</td>\n",
       "    </tr>\n",
       "    <tr>\n",
       "      <th>2022-05-20</th>\n",
       "      <td>2241.709961</td>\n",
       "      <td>2251.000000</td>\n",
       "      <td>2127.459961</td>\n",
       "      <td>2186.260010</td>\n",
       "      <td>2186.260010</td>\n",
       "      <td>1878100.0</td>\n",
       "      <td>May</td>\n",
       "      <td>Friday</td>\n",
       "      <td>2.0</td>\n",
       "    </tr>\n",
       "  </tbody>\n",
       "</table>\n",
       "<p>6484 rows × 9 columns</p>\n",
       "</div>"
      ],
      "text/plain": [
       "                   Open         High          Low        Close    Adj Close  \\\n",
       "Date                                                                          \n",
       "2004-08-19    49.813290    51.835709    47.800831    49.982655    49.982655   \n",
       "2004-08-20    50.316402    54.336334    50.062355    53.952770    53.952770   \n",
       "2004-08-21          NaN          NaN          NaN          NaN          NaN   \n",
       "2004-08-22          NaN          NaN          NaN          NaN          NaN   \n",
       "2004-08-23    55.168217    56.528118    54.321388    54.495735    54.495735   \n",
       "...                 ...          ...          ...          ...          ...   \n",
       "2022-05-16  2307.679932  2332.149902  2286.699951  2295.850098  2295.850098   \n",
       "2022-05-17  2344.550049  2344.550049  2306.750000  2334.030029  2334.030029   \n",
       "2022-05-18  2304.750000  2313.913086  2242.840088  2248.020020  2248.020020   \n",
       "2022-05-19  2236.820068  2271.750000  2209.360107  2214.909912  2214.909912   \n",
       "2022-05-20  2241.709961  2251.000000  2127.459961  2186.260010  2186.260010   \n",
       "\n",
       "                Volume month_name weekday_name  quarter  \n",
       "Date                                                     \n",
       "2004-08-19  44871361.0     August     Thursday      3.0  \n",
       "2004-08-20  22942874.0     August       Friday      3.0  \n",
       "2004-08-21         NaN        NaN          NaN      NaN  \n",
       "2004-08-22         NaN        NaN          NaN      NaN  \n",
       "2004-08-23  18342897.0     August       Monday      3.0  \n",
       "...                ...        ...          ...      ...  \n",
       "2022-05-16   1164100.0        May       Monday      2.0  \n",
       "2022-05-17   1078800.0        May      Tuesday      2.0  \n",
       "2022-05-18   1399100.0        May    Wednesday      2.0  \n",
       "2022-05-19   1459600.0        May     Thursday      2.0  \n",
       "2022-05-20   1878100.0        May       Friday      2.0  \n",
       "\n",
       "[6484 rows x 9 columns]"
      ]
     },
     "execution_count": 69,
     "metadata": {},
     "output_type": "execute_result"
    }
   ],
   "source": [
    "google.asfreq('D')"
   ]
  },
  {
   "cell_type": "markdown",
   "metadata": {},
   "source": [
    "- the above output has \"NaN\" value because \"asfreq\" \"D\" function include daily data and stock market business day does \n",
    "not include weekends so asfreq fill blank place with \"NaN\" value."
   ]
  },
  {
   "cell_type": "code",
   "execution_count": 70,
   "metadata": {},
   "outputs": [],
   "source": [
    "google = google.asfreq('B')"
   ]
  },
  {
   "cell_type": "code",
   "execution_count": 71,
   "metadata": {},
   "outputs": [
    {
     "data": {
      "text/html": [
       "<div>\n",
       "<style scoped>\n",
       "    .dataframe tbody tr th:only-of-type {\n",
       "        vertical-align: middle;\n",
       "    }\n",
       "\n",
       "    .dataframe tbody tr th {\n",
       "        vertical-align: top;\n",
       "    }\n",
       "\n",
       "    .dataframe thead th {\n",
       "        text-align: right;\n",
       "    }\n",
       "</style>\n",
       "<table border=\"1\" class=\"dataframe\">\n",
       "  <thead>\n",
       "    <tr style=\"text-align: right;\">\n",
       "      <th></th>\n",
       "      <th>Open</th>\n",
       "      <th>High</th>\n",
       "      <th>Low</th>\n",
       "      <th>Close</th>\n",
       "      <th>Adj Close</th>\n",
       "      <th>Volume</th>\n",
       "      <th>month_name</th>\n",
       "      <th>weekday_name</th>\n",
       "      <th>quarter</th>\n",
       "    </tr>\n",
       "    <tr>\n",
       "      <th>Date</th>\n",
       "      <th></th>\n",
       "      <th></th>\n",
       "      <th></th>\n",
       "      <th></th>\n",
       "      <th></th>\n",
       "      <th></th>\n",
       "      <th></th>\n",
       "      <th></th>\n",
       "      <th></th>\n",
       "    </tr>\n",
       "  </thead>\n",
       "  <tbody>\n",
       "    <tr>\n",
       "      <th>2004-08-19</th>\n",
       "      <td>49.813290</td>\n",
       "      <td>51.835709</td>\n",
       "      <td>47.800831</td>\n",
       "      <td>49.982655</td>\n",
       "      <td>49.982655</td>\n",
       "      <td>44871361.0</td>\n",
       "      <td>August</td>\n",
       "      <td>Thursday</td>\n",
       "      <td>3.0</td>\n",
       "    </tr>\n",
       "    <tr>\n",
       "      <th>2004-08-20</th>\n",
       "      <td>50.316402</td>\n",
       "      <td>54.336334</td>\n",
       "      <td>50.062355</td>\n",
       "      <td>53.952770</td>\n",
       "      <td>53.952770</td>\n",
       "      <td>22942874.0</td>\n",
       "      <td>August</td>\n",
       "      <td>Friday</td>\n",
       "      <td>3.0</td>\n",
       "    </tr>\n",
       "    <tr>\n",
       "      <th>2004-08-23</th>\n",
       "      <td>55.168217</td>\n",
       "      <td>56.528118</td>\n",
       "      <td>54.321388</td>\n",
       "      <td>54.495735</td>\n",
       "      <td>54.495735</td>\n",
       "      <td>18342897.0</td>\n",
       "      <td>August</td>\n",
       "      <td>Monday</td>\n",
       "      <td>3.0</td>\n",
       "    </tr>\n",
       "    <tr>\n",
       "      <th>2004-08-24</th>\n",
       "      <td>55.412300</td>\n",
       "      <td>55.591629</td>\n",
       "      <td>51.591621</td>\n",
       "      <td>52.239197</td>\n",
       "      <td>52.239197</td>\n",
       "      <td>15319808.0</td>\n",
       "      <td>August</td>\n",
       "      <td>Tuesday</td>\n",
       "      <td>3.0</td>\n",
       "    </tr>\n",
       "    <tr>\n",
       "      <th>2004-08-25</th>\n",
       "      <td>52.284027</td>\n",
       "      <td>53.798351</td>\n",
       "      <td>51.746044</td>\n",
       "      <td>52.802086</td>\n",
       "      <td>52.802086</td>\n",
       "      <td>9232276.0</td>\n",
       "      <td>August</td>\n",
       "      <td>Wednesday</td>\n",
       "      <td>3.0</td>\n",
       "    </tr>\n",
       "    <tr>\n",
       "      <th>...</th>\n",
       "      <td>...</td>\n",
       "      <td>...</td>\n",
       "      <td>...</td>\n",
       "      <td>...</td>\n",
       "      <td>...</td>\n",
       "      <td>...</td>\n",
       "      <td>...</td>\n",
       "      <td>...</td>\n",
       "      <td>...</td>\n",
       "    </tr>\n",
       "    <tr>\n",
       "      <th>2022-05-16</th>\n",
       "      <td>2307.679932</td>\n",
       "      <td>2332.149902</td>\n",
       "      <td>2286.699951</td>\n",
       "      <td>2295.850098</td>\n",
       "      <td>2295.850098</td>\n",
       "      <td>1164100.0</td>\n",
       "      <td>May</td>\n",
       "      <td>Monday</td>\n",
       "      <td>2.0</td>\n",
       "    </tr>\n",
       "    <tr>\n",
       "      <th>2022-05-17</th>\n",
       "      <td>2344.550049</td>\n",
       "      <td>2344.550049</td>\n",
       "      <td>2306.750000</td>\n",
       "      <td>2334.030029</td>\n",
       "      <td>2334.030029</td>\n",
       "      <td>1078800.0</td>\n",
       "      <td>May</td>\n",
       "      <td>Tuesday</td>\n",
       "      <td>2.0</td>\n",
       "    </tr>\n",
       "    <tr>\n",
       "      <th>2022-05-18</th>\n",
       "      <td>2304.750000</td>\n",
       "      <td>2313.913086</td>\n",
       "      <td>2242.840088</td>\n",
       "      <td>2248.020020</td>\n",
       "      <td>2248.020020</td>\n",
       "      <td>1399100.0</td>\n",
       "      <td>May</td>\n",
       "      <td>Wednesday</td>\n",
       "      <td>2.0</td>\n",
       "    </tr>\n",
       "    <tr>\n",
       "      <th>2022-05-19</th>\n",
       "      <td>2236.820068</td>\n",
       "      <td>2271.750000</td>\n",
       "      <td>2209.360107</td>\n",
       "      <td>2214.909912</td>\n",
       "      <td>2214.909912</td>\n",
       "      <td>1459600.0</td>\n",
       "      <td>May</td>\n",
       "      <td>Thursday</td>\n",
       "      <td>2.0</td>\n",
       "    </tr>\n",
       "    <tr>\n",
       "      <th>2022-05-20</th>\n",
       "      <td>2241.709961</td>\n",
       "      <td>2251.000000</td>\n",
       "      <td>2127.459961</td>\n",
       "      <td>2186.260010</td>\n",
       "      <td>2186.260010</td>\n",
       "      <td>1878100.0</td>\n",
       "      <td>May</td>\n",
       "      <td>Friday</td>\n",
       "      <td>2.0</td>\n",
       "    </tr>\n",
       "  </tbody>\n",
       "</table>\n",
       "<p>4632 rows × 9 columns</p>\n",
       "</div>"
      ],
      "text/plain": [
       "                   Open         High          Low        Close    Adj Close  \\\n",
       "Date                                                                          \n",
       "2004-08-19    49.813290    51.835709    47.800831    49.982655    49.982655   \n",
       "2004-08-20    50.316402    54.336334    50.062355    53.952770    53.952770   \n",
       "2004-08-23    55.168217    56.528118    54.321388    54.495735    54.495735   \n",
       "2004-08-24    55.412300    55.591629    51.591621    52.239197    52.239197   \n",
       "2004-08-25    52.284027    53.798351    51.746044    52.802086    52.802086   \n",
       "...                 ...          ...          ...          ...          ...   \n",
       "2022-05-16  2307.679932  2332.149902  2286.699951  2295.850098  2295.850098   \n",
       "2022-05-17  2344.550049  2344.550049  2306.750000  2334.030029  2334.030029   \n",
       "2022-05-18  2304.750000  2313.913086  2242.840088  2248.020020  2248.020020   \n",
       "2022-05-19  2236.820068  2271.750000  2209.360107  2214.909912  2214.909912   \n",
       "2022-05-20  2241.709961  2251.000000  2127.459961  2186.260010  2186.260010   \n",
       "\n",
       "                Volume month_name weekday_name  quarter  \n",
       "Date                                                     \n",
       "2004-08-19  44871361.0     August     Thursday      3.0  \n",
       "2004-08-20  22942874.0     August       Friday      3.0  \n",
       "2004-08-23  18342897.0     August       Monday      3.0  \n",
       "2004-08-24  15319808.0     August      Tuesday      3.0  \n",
       "2004-08-25   9232276.0     August    Wednesday      3.0  \n",
       "...                ...        ...          ...      ...  \n",
       "2022-05-16   1164100.0        May       Monday      2.0  \n",
       "2022-05-17   1078800.0        May      Tuesday      2.0  \n",
       "2022-05-18   1399100.0        May    Wednesday      2.0  \n",
       "2022-05-19   1459600.0        May     Thursday      2.0  \n",
       "2022-05-20   1878100.0        May       Friday      2.0  \n",
       "\n",
       "[4632 rows x 9 columns]"
      ]
     },
     "execution_count": 71,
     "metadata": {},
     "output_type": "execute_result"
    }
   ],
   "source": [
    "google"
   ]
  },
  {
   "cell_type": "markdown",
   "metadata": {},
   "source": [
    "- so we will use \"asfrq\" \"B\" function it meas \"business days\" only count so no null values will occur"
   ]
  },
  {
   "cell_type": "markdown",
   "metadata": {},
   "source": [
    "- Lets check again google index to check frequency"
   ]
  },
  {
   "cell_type": "code",
   "execution_count": 72,
   "metadata": {},
   "outputs": [
    {
     "data": {
      "text/plain": [
       "DatetimeIndex(['2004-08-19', '2004-08-20', '2004-08-23', '2004-08-24',\n",
       "               '2004-08-25', '2004-08-26', '2004-08-27', '2004-08-30',\n",
       "               '2004-08-31', '2004-09-01',\n",
       "               ...\n",
       "               '2022-05-09', '2022-05-10', '2022-05-11', '2022-05-12',\n",
       "               '2022-05-13', '2022-05-16', '2022-05-17', '2022-05-18',\n",
       "               '2022-05-19', '2022-05-20'],\n",
       "              dtype='datetime64[ns]', name='Date', length=4632, freq='B')"
      ]
     },
     "execution_count": 72,
     "metadata": {},
     "output_type": "execute_result"
    }
   ],
   "source": [
    "google.index"
   ]
  },
  {
   "cell_type": "markdown",
   "metadata": {
    "colab": {
     "base_uri": "https://localhost:8080/",
     "height": 455
    },
    "id": "bttGTaQrp0dx",
    "outputId": "96ddd1de-0024-4ea6-a759-a52a16d738ec"
   },
   "source": [
    "### Monthly frequency"
   ]
  },
  {
   "cell_type": "code",
   "execution_count": 73,
   "metadata": {},
   "outputs": [
    {
     "data": {
      "text/html": [
       "<div>\n",
       "<style scoped>\n",
       "    .dataframe tbody tr th:only-of-type {\n",
       "        vertical-align: middle;\n",
       "    }\n",
       "\n",
       "    .dataframe tbody tr th {\n",
       "        vertical-align: top;\n",
       "    }\n",
       "\n",
       "    .dataframe thead th {\n",
       "        text-align: right;\n",
       "    }\n",
       "</style>\n",
       "<table border=\"1\" class=\"dataframe\">\n",
       "  <thead>\n",
       "    <tr style=\"text-align: right;\">\n",
       "      <th></th>\n",
       "      <th>Open</th>\n",
       "      <th>High</th>\n",
       "      <th>Low</th>\n",
       "      <th>Close</th>\n",
       "      <th>Adj Close</th>\n",
       "      <th>Volume</th>\n",
       "      <th>month_name</th>\n",
       "      <th>weekday_name</th>\n",
       "      <th>quarter</th>\n",
       "    </tr>\n",
       "    <tr>\n",
       "      <th>Date</th>\n",
       "      <th></th>\n",
       "      <th></th>\n",
       "      <th></th>\n",
       "      <th></th>\n",
       "      <th></th>\n",
       "      <th></th>\n",
       "      <th></th>\n",
       "      <th></th>\n",
       "      <th></th>\n",
       "    </tr>\n",
       "  </thead>\n",
       "  <tbody>\n",
       "    <tr>\n",
       "      <th>2004-08-31</th>\n",
       "      <td>50.958992</td>\n",
       "      <td>51.661362</td>\n",
       "      <td>50.889256</td>\n",
       "      <td>50.993862</td>\n",
       "      <td>50.993862</td>\n",
       "      <td>4941252.0</td>\n",
       "      <td>August</td>\n",
       "      <td>Tuesday</td>\n",
       "      <td>3.0</td>\n",
       "    </tr>\n",
       "    <tr>\n",
       "      <th>2004-09-30</th>\n",
       "      <td>64.707458</td>\n",
       "      <td>65.902977</td>\n",
       "      <td>64.259140</td>\n",
       "      <td>64.558022</td>\n",
       "      <td>64.558022</td>\n",
       "      <td>13823420.0</td>\n",
       "      <td>September</td>\n",
       "      <td>Thursday</td>\n",
       "      <td>3.0</td>\n",
       "    </tr>\n",
       "    <tr>\n",
       "      <th>2004-10-31</th>\n",
       "      <td>NaN</td>\n",
       "      <td>NaN</td>\n",
       "      <td>NaN</td>\n",
       "      <td>NaN</td>\n",
       "      <td>NaN</td>\n",
       "      <td>NaN</td>\n",
       "      <td>NaN</td>\n",
       "      <td>NaN</td>\n",
       "      <td>NaN</td>\n",
       "    </tr>\n",
       "    <tr>\n",
       "      <th>2004-11-30</th>\n",
       "      <td>90.017593</td>\n",
       "      <td>91.158318</td>\n",
       "      <td>89.788452</td>\n",
       "      <td>90.650223</td>\n",
       "      <td>90.650223</td>\n",
       "      <td>15457723.0</td>\n",
       "      <td>November</td>\n",
       "      <td>Tuesday</td>\n",
       "      <td>4.0</td>\n",
       "    </tr>\n",
       "    <tr>\n",
       "      <th>2004-12-31</th>\n",
       "      <td>99.243011</td>\n",
       "      <td>99.566795</td>\n",
       "      <td>95.920464</td>\n",
       "      <td>96.035034</td>\n",
       "      <td>96.035034</td>\n",
       "      <td>15394487.0</td>\n",
       "      <td>December</td>\n",
       "      <td>Friday</td>\n",
       "      <td>4.0</td>\n",
       "    </tr>\n",
       "    <tr>\n",
       "      <th>...</th>\n",
       "      <td>...</td>\n",
       "      <td>...</td>\n",
       "      <td>...</td>\n",
       "      <td>...</td>\n",
       "      <td>...</td>\n",
       "      <td>...</td>\n",
       "      <td>...</td>\n",
       "      <td>...</td>\n",
       "      <td>...</td>\n",
       "    </tr>\n",
       "    <tr>\n",
       "      <th>2021-12-31</th>\n",
       "      <td>2910.879883</td>\n",
       "      <td>2927.300049</td>\n",
       "      <td>2893.550049</td>\n",
       "      <td>2893.590088</td>\n",
       "      <td>2893.590088</td>\n",
       "      <td>864900.0</td>\n",
       "      <td>December</td>\n",
       "      <td>Friday</td>\n",
       "      <td>4.0</td>\n",
       "    </tr>\n",
       "    <tr>\n",
       "      <th>2022-01-31</th>\n",
       "      <td>2683.959961</td>\n",
       "      <td>2716.870117</td>\n",
       "      <td>2645.479980</td>\n",
       "      <td>2713.969971</td>\n",
       "      <td>2713.969971</td>\n",
       "      <td>1702800.0</td>\n",
       "      <td>January</td>\n",
       "      <td>Monday</td>\n",
       "      <td>1.0</td>\n",
       "    </tr>\n",
       "    <tr>\n",
       "      <th>2022-02-28</th>\n",
       "      <td>2665.689941</td>\n",
       "      <td>2712.810059</td>\n",
       "      <td>2656.504883</td>\n",
       "      <td>2697.820068</td>\n",
       "      <td>2697.820068</td>\n",
       "      <td>1483800.0</td>\n",
       "      <td>February</td>\n",
       "      <td>Monday</td>\n",
       "      <td>1.0</td>\n",
       "    </tr>\n",
       "    <tr>\n",
       "      <th>2022-03-31</th>\n",
       "      <td>2848.969971</td>\n",
       "      <td>2852.889893</td>\n",
       "      <td>2792.379883</td>\n",
       "      <td>2792.989990</td>\n",
       "      <td>2792.989990</td>\n",
       "      <td>1475800.0</td>\n",
       "      <td>March</td>\n",
       "      <td>Thursday</td>\n",
       "      <td>1.0</td>\n",
       "    </tr>\n",
       "    <tr>\n",
       "      <th>2022-04-30</th>\n",
       "      <td>NaN</td>\n",
       "      <td>NaN</td>\n",
       "      <td>NaN</td>\n",
       "      <td>NaN</td>\n",
       "      <td>NaN</td>\n",
       "      <td>NaN</td>\n",
       "      <td>NaN</td>\n",
       "      <td>NaN</td>\n",
       "      <td>NaN</td>\n",
       "    </tr>\n",
       "  </tbody>\n",
       "</table>\n",
       "<p>213 rows × 9 columns</p>\n",
       "</div>"
      ],
      "text/plain": [
       "                   Open         High          Low        Close    Adj Close  \\\n",
       "Date                                                                          \n",
       "2004-08-31    50.958992    51.661362    50.889256    50.993862    50.993862   \n",
       "2004-09-30    64.707458    65.902977    64.259140    64.558022    64.558022   \n",
       "2004-10-31          NaN          NaN          NaN          NaN          NaN   \n",
       "2004-11-30    90.017593    91.158318    89.788452    90.650223    90.650223   \n",
       "2004-12-31    99.243011    99.566795    95.920464    96.035034    96.035034   \n",
       "...                 ...          ...          ...          ...          ...   \n",
       "2021-12-31  2910.879883  2927.300049  2893.550049  2893.590088  2893.590088   \n",
       "2022-01-31  2683.959961  2716.870117  2645.479980  2713.969971  2713.969971   \n",
       "2022-02-28  2665.689941  2712.810059  2656.504883  2697.820068  2697.820068   \n",
       "2022-03-31  2848.969971  2852.889893  2792.379883  2792.989990  2792.989990   \n",
       "2022-04-30          NaN          NaN          NaN          NaN          NaN   \n",
       "\n",
       "                Volume month_name weekday_name  quarter  \n",
       "Date                                                     \n",
       "2004-08-31   4941252.0     August      Tuesday      3.0  \n",
       "2004-09-30  13823420.0  September     Thursday      3.0  \n",
       "2004-10-31         NaN        NaN          NaN      NaN  \n",
       "2004-11-30  15457723.0   November      Tuesday      4.0  \n",
       "2004-12-31  15394487.0   December       Friday      4.0  \n",
       "...                ...        ...          ...      ...  \n",
       "2021-12-31    864900.0   December       Friday      4.0  \n",
       "2022-01-31   1702800.0    January       Monday      1.0  \n",
       "2022-02-28   1483800.0   February       Monday      1.0  \n",
       "2022-03-31   1475800.0      March     Thursday      1.0  \n",
       "2022-04-30         NaN        NaN          NaN      NaN  \n",
       "\n",
       "[213 rows x 9 columns]"
      ]
     },
     "execution_count": 73,
     "metadata": {},
     "output_type": "execute_result"
    }
   ],
   "source": [
    "google.asfreq('M')"
   ]
  },
  {
   "cell_type": "markdown",
   "metadata": {},
   "source": [
    "## Hourly Frequency"
   ]
  },
  {
   "cell_type": "code",
   "execution_count": 74,
   "metadata": {},
   "outputs": [
    {
     "data": {
      "text/html": [
       "<div>\n",
       "<style scoped>\n",
       "    .dataframe tbody tr th:only-of-type {\n",
       "        vertical-align: middle;\n",
       "    }\n",
       "\n",
       "    .dataframe tbody tr th {\n",
       "        vertical-align: top;\n",
       "    }\n",
       "\n",
       "    .dataframe thead th {\n",
       "        text-align: right;\n",
       "    }\n",
       "</style>\n",
       "<table border=\"1\" class=\"dataframe\">\n",
       "  <thead>\n",
       "    <tr style=\"text-align: right;\">\n",
       "      <th></th>\n",
       "      <th>Open</th>\n",
       "      <th>High</th>\n",
       "      <th>Low</th>\n",
       "      <th>Close</th>\n",
       "      <th>Adj Close</th>\n",
       "      <th>Volume</th>\n",
       "      <th>month_name</th>\n",
       "      <th>weekday_name</th>\n",
       "      <th>quarter</th>\n",
       "    </tr>\n",
       "    <tr>\n",
       "      <th>Date</th>\n",
       "      <th></th>\n",
       "      <th></th>\n",
       "      <th></th>\n",
       "      <th></th>\n",
       "      <th></th>\n",
       "      <th></th>\n",
       "      <th></th>\n",
       "      <th></th>\n",
       "      <th></th>\n",
       "    </tr>\n",
       "  </thead>\n",
       "  <tbody>\n",
       "    <tr>\n",
       "      <th>2004-08-19 00:00:00</th>\n",
       "      <td>49.813290</td>\n",
       "      <td>51.835709</td>\n",
       "      <td>47.800831</td>\n",
       "      <td>49.982655</td>\n",
       "      <td>49.982655</td>\n",
       "      <td>44871361.0</td>\n",
       "      <td>August</td>\n",
       "      <td>Thursday</td>\n",
       "      <td>3.0</td>\n",
       "    </tr>\n",
       "    <tr>\n",
       "      <th>2004-08-19 01:00:00</th>\n",
       "      <td>NaN</td>\n",
       "      <td>NaN</td>\n",
       "      <td>NaN</td>\n",
       "      <td>NaN</td>\n",
       "      <td>NaN</td>\n",
       "      <td>NaN</td>\n",
       "      <td>NaN</td>\n",
       "      <td>NaN</td>\n",
       "      <td>NaN</td>\n",
       "    </tr>\n",
       "    <tr>\n",
       "      <th>2004-08-19 02:00:00</th>\n",
       "      <td>NaN</td>\n",
       "      <td>NaN</td>\n",
       "      <td>NaN</td>\n",
       "      <td>NaN</td>\n",
       "      <td>NaN</td>\n",
       "      <td>NaN</td>\n",
       "      <td>NaN</td>\n",
       "      <td>NaN</td>\n",
       "      <td>NaN</td>\n",
       "    </tr>\n",
       "    <tr>\n",
       "      <th>2004-08-19 03:00:00</th>\n",
       "      <td>NaN</td>\n",
       "      <td>NaN</td>\n",
       "      <td>NaN</td>\n",
       "      <td>NaN</td>\n",
       "      <td>NaN</td>\n",
       "      <td>NaN</td>\n",
       "      <td>NaN</td>\n",
       "      <td>NaN</td>\n",
       "      <td>NaN</td>\n",
       "    </tr>\n",
       "    <tr>\n",
       "      <th>2004-08-19 04:00:00</th>\n",
       "      <td>NaN</td>\n",
       "      <td>NaN</td>\n",
       "      <td>NaN</td>\n",
       "      <td>NaN</td>\n",
       "      <td>NaN</td>\n",
       "      <td>NaN</td>\n",
       "      <td>NaN</td>\n",
       "      <td>NaN</td>\n",
       "      <td>NaN</td>\n",
       "    </tr>\n",
       "    <tr>\n",
       "      <th>...</th>\n",
       "      <td>...</td>\n",
       "      <td>...</td>\n",
       "      <td>...</td>\n",
       "      <td>...</td>\n",
       "      <td>...</td>\n",
       "      <td>...</td>\n",
       "      <td>...</td>\n",
       "      <td>...</td>\n",
       "      <td>...</td>\n",
       "    </tr>\n",
       "    <tr>\n",
       "      <th>2022-05-19 20:00:00</th>\n",
       "      <td>NaN</td>\n",
       "      <td>NaN</td>\n",
       "      <td>NaN</td>\n",
       "      <td>NaN</td>\n",
       "      <td>NaN</td>\n",
       "      <td>NaN</td>\n",
       "      <td>NaN</td>\n",
       "      <td>NaN</td>\n",
       "      <td>NaN</td>\n",
       "    </tr>\n",
       "    <tr>\n",
       "      <th>2022-05-19 21:00:00</th>\n",
       "      <td>NaN</td>\n",
       "      <td>NaN</td>\n",
       "      <td>NaN</td>\n",
       "      <td>NaN</td>\n",
       "      <td>NaN</td>\n",
       "      <td>NaN</td>\n",
       "      <td>NaN</td>\n",
       "      <td>NaN</td>\n",
       "      <td>NaN</td>\n",
       "    </tr>\n",
       "    <tr>\n",
       "      <th>2022-05-19 22:00:00</th>\n",
       "      <td>NaN</td>\n",
       "      <td>NaN</td>\n",
       "      <td>NaN</td>\n",
       "      <td>NaN</td>\n",
       "      <td>NaN</td>\n",
       "      <td>NaN</td>\n",
       "      <td>NaN</td>\n",
       "      <td>NaN</td>\n",
       "      <td>NaN</td>\n",
       "    </tr>\n",
       "    <tr>\n",
       "      <th>2022-05-19 23:00:00</th>\n",
       "      <td>NaN</td>\n",
       "      <td>NaN</td>\n",
       "      <td>NaN</td>\n",
       "      <td>NaN</td>\n",
       "      <td>NaN</td>\n",
       "      <td>NaN</td>\n",
       "      <td>NaN</td>\n",
       "      <td>NaN</td>\n",
       "      <td>NaN</td>\n",
       "    </tr>\n",
       "    <tr>\n",
       "      <th>2022-05-20 00:00:00</th>\n",
       "      <td>2241.709961</td>\n",
       "      <td>2251.000000</td>\n",
       "      <td>2127.459961</td>\n",
       "      <td>2186.260010</td>\n",
       "      <td>2186.260010</td>\n",
       "      <td>1878100.0</td>\n",
       "      <td>May</td>\n",
       "      <td>Friday</td>\n",
       "      <td>2.0</td>\n",
       "    </tr>\n",
       "  </tbody>\n",
       "</table>\n",
       "<p>155593 rows × 9 columns</p>\n",
       "</div>"
      ],
      "text/plain": [
       "                            Open         High          Low        Close  \\\n",
       "Date                                                                      \n",
       "2004-08-19 00:00:00    49.813290    51.835709    47.800831    49.982655   \n",
       "2004-08-19 01:00:00          NaN          NaN          NaN          NaN   \n",
       "2004-08-19 02:00:00          NaN          NaN          NaN          NaN   \n",
       "2004-08-19 03:00:00          NaN          NaN          NaN          NaN   \n",
       "2004-08-19 04:00:00          NaN          NaN          NaN          NaN   \n",
       "...                          ...          ...          ...          ...   \n",
       "2022-05-19 20:00:00          NaN          NaN          NaN          NaN   \n",
       "2022-05-19 21:00:00          NaN          NaN          NaN          NaN   \n",
       "2022-05-19 22:00:00          NaN          NaN          NaN          NaN   \n",
       "2022-05-19 23:00:00          NaN          NaN          NaN          NaN   \n",
       "2022-05-20 00:00:00  2241.709961  2251.000000  2127.459961  2186.260010   \n",
       "\n",
       "                       Adj Close      Volume month_name weekday_name  quarter  \n",
       "Date                                                                           \n",
       "2004-08-19 00:00:00    49.982655  44871361.0     August     Thursday      3.0  \n",
       "2004-08-19 01:00:00          NaN         NaN        NaN          NaN      NaN  \n",
       "2004-08-19 02:00:00          NaN         NaN        NaN          NaN      NaN  \n",
       "2004-08-19 03:00:00          NaN         NaN        NaN          NaN      NaN  \n",
       "2004-08-19 04:00:00          NaN         NaN        NaN          NaN      NaN  \n",
       "...                          ...         ...        ...          ...      ...  \n",
       "2022-05-19 20:00:00          NaN         NaN        NaN          NaN      NaN  \n",
       "2022-05-19 21:00:00          NaN         NaN        NaN          NaN      NaN  \n",
       "2022-05-19 22:00:00          NaN         NaN        NaN          NaN      NaN  \n",
       "2022-05-19 23:00:00          NaN         NaN        NaN          NaN      NaN  \n",
       "2022-05-20 00:00:00  2186.260010   1878100.0        May       Friday      2.0  \n",
       "\n",
       "[155593 rows x 9 columns]"
      ]
     },
     "execution_count": 74,
     "metadata": {},
     "output_type": "execute_result"
    }
   ],
   "source": [
    "google.asfreq('H')"
   ]
  },
  {
   "cell_type": "markdown",
   "metadata": {},
   "source": [
    "- it is showing all null values because it is taking data based on one hour gap. so all data not avilable so null\n",
    "values shows.\n",
    "- Now will replace null value with asfreq \"bfill\" and \"ffill\" function, which will fill with forward and backward\n",
    "number to null values."
   ]
  },
  {
   "cell_type": "code",
   "execution_count": 75,
   "metadata": {},
   "outputs": [
    {
     "data": {
      "text/html": [
       "<div>\n",
       "<style scoped>\n",
       "    .dataframe tbody tr th:only-of-type {\n",
       "        vertical-align: middle;\n",
       "    }\n",
       "\n",
       "    .dataframe tbody tr th {\n",
       "        vertical-align: top;\n",
       "    }\n",
       "\n",
       "    .dataframe thead th {\n",
       "        text-align: right;\n",
       "    }\n",
       "</style>\n",
       "<table border=\"1\" class=\"dataframe\">\n",
       "  <thead>\n",
       "    <tr style=\"text-align: right;\">\n",
       "      <th></th>\n",
       "      <th>Open</th>\n",
       "      <th>High</th>\n",
       "      <th>Low</th>\n",
       "      <th>Close</th>\n",
       "      <th>Adj Close</th>\n",
       "      <th>Volume</th>\n",
       "      <th>month_name</th>\n",
       "      <th>weekday_name</th>\n",
       "      <th>quarter</th>\n",
       "    </tr>\n",
       "    <tr>\n",
       "      <th>Date</th>\n",
       "      <th></th>\n",
       "      <th></th>\n",
       "      <th></th>\n",
       "      <th></th>\n",
       "      <th></th>\n",
       "      <th></th>\n",
       "      <th></th>\n",
       "      <th></th>\n",
       "      <th></th>\n",
       "    </tr>\n",
       "  </thead>\n",
       "  <tbody>\n",
       "    <tr>\n",
       "      <th>2004-08-19 00:00:00</th>\n",
       "      <td>49.813290</td>\n",
       "      <td>51.835709</td>\n",
       "      <td>47.800831</td>\n",
       "      <td>49.982655</td>\n",
       "      <td>49.982655</td>\n",
       "      <td>44871361.0</td>\n",
       "      <td>August</td>\n",
       "      <td>Thursday</td>\n",
       "      <td>3.0</td>\n",
       "    </tr>\n",
       "    <tr>\n",
       "      <th>2004-08-19 06:00:00</th>\n",
       "      <td>NaN</td>\n",
       "      <td>NaN</td>\n",
       "      <td>NaN</td>\n",
       "      <td>NaN</td>\n",
       "      <td>NaN</td>\n",
       "      <td>NaN</td>\n",
       "      <td>NaN</td>\n",
       "      <td>NaN</td>\n",
       "      <td>NaN</td>\n",
       "    </tr>\n",
       "    <tr>\n",
       "      <th>2004-08-19 12:00:00</th>\n",
       "      <td>NaN</td>\n",
       "      <td>NaN</td>\n",
       "      <td>NaN</td>\n",
       "      <td>NaN</td>\n",
       "      <td>NaN</td>\n",
       "      <td>NaN</td>\n",
       "      <td>NaN</td>\n",
       "      <td>NaN</td>\n",
       "      <td>NaN</td>\n",
       "    </tr>\n",
       "    <tr>\n",
       "      <th>2004-08-19 18:00:00</th>\n",
       "      <td>NaN</td>\n",
       "      <td>NaN</td>\n",
       "      <td>NaN</td>\n",
       "      <td>NaN</td>\n",
       "      <td>NaN</td>\n",
       "      <td>NaN</td>\n",
       "      <td>NaN</td>\n",
       "      <td>NaN</td>\n",
       "      <td>NaN</td>\n",
       "    </tr>\n",
       "    <tr>\n",
       "      <th>2004-08-20 00:00:00</th>\n",
       "      <td>50.316402</td>\n",
       "      <td>54.336334</td>\n",
       "      <td>50.062355</td>\n",
       "      <td>53.952770</td>\n",
       "      <td>53.952770</td>\n",
       "      <td>22942874.0</td>\n",
       "      <td>August</td>\n",
       "      <td>Friday</td>\n",
       "      <td>3.0</td>\n",
       "    </tr>\n",
       "    <tr>\n",
       "      <th>...</th>\n",
       "      <td>...</td>\n",
       "      <td>...</td>\n",
       "      <td>...</td>\n",
       "      <td>...</td>\n",
       "      <td>...</td>\n",
       "      <td>...</td>\n",
       "      <td>...</td>\n",
       "      <td>...</td>\n",
       "      <td>...</td>\n",
       "    </tr>\n",
       "    <tr>\n",
       "      <th>2022-05-19 00:00:00</th>\n",
       "      <td>2236.820068</td>\n",
       "      <td>2271.750000</td>\n",
       "      <td>2209.360107</td>\n",
       "      <td>2214.909912</td>\n",
       "      <td>2214.909912</td>\n",
       "      <td>1459600.0</td>\n",
       "      <td>May</td>\n",
       "      <td>Thursday</td>\n",
       "      <td>2.0</td>\n",
       "    </tr>\n",
       "    <tr>\n",
       "      <th>2022-05-19 06:00:00</th>\n",
       "      <td>NaN</td>\n",
       "      <td>NaN</td>\n",
       "      <td>NaN</td>\n",
       "      <td>NaN</td>\n",
       "      <td>NaN</td>\n",
       "      <td>NaN</td>\n",
       "      <td>NaN</td>\n",
       "      <td>NaN</td>\n",
       "      <td>NaN</td>\n",
       "    </tr>\n",
       "    <tr>\n",
       "      <th>2022-05-19 12:00:00</th>\n",
       "      <td>NaN</td>\n",
       "      <td>NaN</td>\n",
       "      <td>NaN</td>\n",
       "      <td>NaN</td>\n",
       "      <td>NaN</td>\n",
       "      <td>NaN</td>\n",
       "      <td>NaN</td>\n",
       "      <td>NaN</td>\n",
       "      <td>NaN</td>\n",
       "    </tr>\n",
       "    <tr>\n",
       "      <th>2022-05-19 18:00:00</th>\n",
       "      <td>NaN</td>\n",
       "      <td>NaN</td>\n",
       "      <td>NaN</td>\n",
       "      <td>NaN</td>\n",
       "      <td>NaN</td>\n",
       "      <td>NaN</td>\n",
       "      <td>NaN</td>\n",
       "      <td>NaN</td>\n",
       "      <td>NaN</td>\n",
       "    </tr>\n",
       "    <tr>\n",
       "      <th>2022-05-20 00:00:00</th>\n",
       "      <td>2241.709961</td>\n",
       "      <td>2251.000000</td>\n",
       "      <td>2127.459961</td>\n",
       "      <td>2186.260010</td>\n",
       "      <td>2186.260010</td>\n",
       "      <td>1878100.0</td>\n",
       "      <td>May</td>\n",
       "      <td>Friday</td>\n",
       "      <td>2.0</td>\n",
       "    </tr>\n",
       "  </tbody>\n",
       "</table>\n",
       "<p>25933 rows × 9 columns</p>\n",
       "</div>"
      ],
      "text/plain": [
       "                            Open         High          Low        Close  \\\n",
       "Date                                                                      \n",
       "2004-08-19 00:00:00    49.813290    51.835709    47.800831    49.982655   \n",
       "2004-08-19 06:00:00          NaN          NaN          NaN          NaN   \n",
       "2004-08-19 12:00:00          NaN          NaN          NaN          NaN   \n",
       "2004-08-19 18:00:00          NaN          NaN          NaN          NaN   \n",
       "2004-08-20 00:00:00    50.316402    54.336334    50.062355    53.952770   \n",
       "...                          ...          ...          ...          ...   \n",
       "2022-05-19 00:00:00  2236.820068  2271.750000  2209.360107  2214.909912   \n",
       "2022-05-19 06:00:00          NaN          NaN          NaN          NaN   \n",
       "2022-05-19 12:00:00          NaN          NaN          NaN          NaN   \n",
       "2022-05-19 18:00:00          NaN          NaN          NaN          NaN   \n",
       "2022-05-20 00:00:00  2241.709961  2251.000000  2127.459961  2186.260010   \n",
       "\n",
       "                       Adj Close      Volume month_name weekday_name  quarter  \n",
       "Date                                                                           \n",
       "2004-08-19 00:00:00    49.982655  44871361.0     August     Thursday      3.0  \n",
       "2004-08-19 06:00:00          NaN         NaN        NaN          NaN      NaN  \n",
       "2004-08-19 12:00:00          NaN         NaN        NaN          NaN      NaN  \n",
       "2004-08-19 18:00:00          NaN         NaN        NaN          NaN      NaN  \n",
       "2004-08-20 00:00:00    53.952770  22942874.0     August       Friday      3.0  \n",
       "...                          ...         ...        ...          ...      ...  \n",
       "2022-05-19 00:00:00  2214.909912   1459600.0        May     Thursday      2.0  \n",
       "2022-05-19 06:00:00          NaN         NaN        NaN          NaN      NaN  \n",
       "2022-05-19 12:00:00          NaN         NaN        NaN          NaN      NaN  \n",
       "2022-05-19 18:00:00          NaN         NaN        NaN          NaN      NaN  \n",
       "2022-05-20 00:00:00  2186.260010   1878100.0        May       Friday      2.0  \n",
       "\n",
       "[25933 rows x 9 columns]"
      ]
     },
     "execution_count": 75,
     "metadata": {},
     "output_type": "execute_result"
    }
   ],
   "source": [
    "google.asfreq('6H') \n",
    "# taking 6 hour basis data to get some value so that can apply asfreq another function \"bfill\" or \"ffill\"\n"
   ]
  },
  {
   "cell_type": "code",
   "execution_count": 76,
   "metadata": {},
   "outputs": [
    {
     "data": {
      "text/html": [
       "<div>\n",
       "<style scoped>\n",
       "    .dataframe tbody tr th:only-of-type {\n",
       "        vertical-align: middle;\n",
       "    }\n",
       "\n",
       "    .dataframe tbody tr th {\n",
       "        vertical-align: top;\n",
       "    }\n",
       "\n",
       "    .dataframe thead th {\n",
       "        text-align: right;\n",
       "    }\n",
       "</style>\n",
       "<table border=\"1\" class=\"dataframe\">\n",
       "  <thead>\n",
       "    <tr style=\"text-align: right;\">\n",
       "      <th></th>\n",
       "      <th>Open</th>\n",
       "      <th>High</th>\n",
       "      <th>Low</th>\n",
       "      <th>Close</th>\n",
       "      <th>Adj Close</th>\n",
       "      <th>Volume</th>\n",
       "      <th>month_name</th>\n",
       "      <th>weekday_name</th>\n",
       "      <th>quarter</th>\n",
       "    </tr>\n",
       "    <tr>\n",
       "      <th>Date</th>\n",
       "      <th></th>\n",
       "      <th></th>\n",
       "      <th></th>\n",
       "      <th></th>\n",
       "      <th></th>\n",
       "      <th></th>\n",
       "      <th></th>\n",
       "      <th></th>\n",
       "      <th></th>\n",
       "    </tr>\n",
       "  </thead>\n",
       "  <tbody>\n",
       "    <tr>\n",
       "      <th>2004-08-19 00:00:00</th>\n",
       "      <td>49.813290</td>\n",
       "      <td>51.835709</td>\n",
       "      <td>47.800831</td>\n",
       "      <td>49.982655</td>\n",
       "      <td>49.982655</td>\n",
       "      <td>44871361.0</td>\n",
       "      <td>August</td>\n",
       "      <td>Thursday</td>\n",
       "      <td>3.0</td>\n",
       "    </tr>\n",
       "    <tr>\n",
       "      <th>2004-08-19 06:00:00</th>\n",
       "      <td>49.813290</td>\n",
       "      <td>51.835709</td>\n",
       "      <td>47.800831</td>\n",
       "      <td>49.982655</td>\n",
       "      <td>49.982655</td>\n",
       "      <td>44871361.0</td>\n",
       "      <td>August</td>\n",
       "      <td>Thursday</td>\n",
       "      <td>3.0</td>\n",
       "    </tr>\n",
       "    <tr>\n",
       "      <th>2004-08-19 12:00:00</th>\n",
       "      <td>49.813290</td>\n",
       "      <td>51.835709</td>\n",
       "      <td>47.800831</td>\n",
       "      <td>49.982655</td>\n",
       "      <td>49.982655</td>\n",
       "      <td>44871361.0</td>\n",
       "      <td>August</td>\n",
       "      <td>Thursday</td>\n",
       "      <td>3.0</td>\n",
       "    </tr>\n",
       "    <tr>\n",
       "      <th>2004-08-19 18:00:00</th>\n",
       "      <td>49.813290</td>\n",
       "      <td>51.835709</td>\n",
       "      <td>47.800831</td>\n",
       "      <td>49.982655</td>\n",
       "      <td>49.982655</td>\n",
       "      <td>44871361.0</td>\n",
       "      <td>August</td>\n",
       "      <td>Thursday</td>\n",
       "      <td>3.0</td>\n",
       "    </tr>\n",
       "    <tr>\n",
       "      <th>2004-08-20 00:00:00</th>\n",
       "      <td>50.316402</td>\n",
       "      <td>54.336334</td>\n",
       "      <td>50.062355</td>\n",
       "      <td>53.952770</td>\n",
       "      <td>53.952770</td>\n",
       "      <td>22942874.0</td>\n",
       "      <td>August</td>\n",
       "      <td>Friday</td>\n",
       "      <td>3.0</td>\n",
       "    </tr>\n",
       "    <tr>\n",
       "      <th>...</th>\n",
       "      <td>...</td>\n",
       "      <td>...</td>\n",
       "      <td>...</td>\n",
       "      <td>...</td>\n",
       "      <td>...</td>\n",
       "      <td>...</td>\n",
       "      <td>...</td>\n",
       "      <td>...</td>\n",
       "      <td>...</td>\n",
       "    </tr>\n",
       "    <tr>\n",
       "      <th>2022-05-19 00:00:00</th>\n",
       "      <td>2236.820068</td>\n",
       "      <td>2271.750000</td>\n",
       "      <td>2209.360107</td>\n",
       "      <td>2214.909912</td>\n",
       "      <td>2214.909912</td>\n",
       "      <td>1459600.0</td>\n",
       "      <td>May</td>\n",
       "      <td>Thursday</td>\n",
       "      <td>2.0</td>\n",
       "    </tr>\n",
       "    <tr>\n",
       "      <th>2022-05-19 06:00:00</th>\n",
       "      <td>2236.820068</td>\n",
       "      <td>2271.750000</td>\n",
       "      <td>2209.360107</td>\n",
       "      <td>2214.909912</td>\n",
       "      <td>2214.909912</td>\n",
       "      <td>1459600.0</td>\n",
       "      <td>May</td>\n",
       "      <td>Thursday</td>\n",
       "      <td>2.0</td>\n",
       "    </tr>\n",
       "    <tr>\n",
       "      <th>2022-05-19 12:00:00</th>\n",
       "      <td>2236.820068</td>\n",
       "      <td>2271.750000</td>\n",
       "      <td>2209.360107</td>\n",
       "      <td>2214.909912</td>\n",
       "      <td>2214.909912</td>\n",
       "      <td>1459600.0</td>\n",
       "      <td>May</td>\n",
       "      <td>Thursday</td>\n",
       "      <td>2.0</td>\n",
       "    </tr>\n",
       "    <tr>\n",
       "      <th>2022-05-19 18:00:00</th>\n",
       "      <td>2236.820068</td>\n",
       "      <td>2271.750000</td>\n",
       "      <td>2209.360107</td>\n",
       "      <td>2214.909912</td>\n",
       "      <td>2214.909912</td>\n",
       "      <td>1459600.0</td>\n",
       "      <td>May</td>\n",
       "      <td>Thursday</td>\n",
       "      <td>2.0</td>\n",
       "    </tr>\n",
       "    <tr>\n",
       "      <th>2022-05-20 00:00:00</th>\n",
       "      <td>2241.709961</td>\n",
       "      <td>2251.000000</td>\n",
       "      <td>2127.459961</td>\n",
       "      <td>2186.260010</td>\n",
       "      <td>2186.260010</td>\n",
       "      <td>1878100.0</td>\n",
       "      <td>May</td>\n",
       "      <td>Friday</td>\n",
       "      <td>2.0</td>\n",
       "    </tr>\n",
       "  </tbody>\n",
       "</table>\n",
       "<p>25933 rows × 9 columns</p>\n",
       "</div>"
      ],
      "text/plain": [
       "                            Open         High          Low        Close  \\\n",
       "Date                                                                      \n",
       "2004-08-19 00:00:00    49.813290    51.835709    47.800831    49.982655   \n",
       "2004-08-19 06:00:00    49.813290    51.835709    47.800831    49.982655   \n",
       "2004-08-19 12:00:00    49.813290    51.835709    47.800831    49.982655   \n",
       "2004-08-19 18:00:00    49.813290    51.835709    47.800831    49.982655   \n",
       "2004-08-20 00:00:00    50.316402    54.336334    50.062355    53.952770   \n",
       "...                          ...          ...          ...          ...   \n",
       "2022-05-19 00:00:00  2236.820068  2271.750000  2209.360107  2214.909912   \n",
       "2022-05-19 06:00:00  2236.820068  2271.750000  2209.360107  2214.909912   \n",
       "2022-05-19 12:00:00  2236.820068  2271.750000  2209.360107  2214.909912   \n",
       "2022-05-19 18:00:00  2236.820068  2271.750000  2209.360107  2214.909912   \n",
       "2022-05-20 00:00:00  2241.709961  2251.000000  2127.459961  2186.260010   \n",
       "\n",
       "                       Adj Close      Volume month_name weekday_name  quarter  \n",
       "Date                                                                           \n",
       "2004-08-19 00:00:00    49.982655  44871361.0     August     Thursday      3.0  \n",
       "2004-08-19 06:00:00    49.982655  44871361.0     August     Thursday      3.0  \n",
       "2004-08-19 12:00:00    49.982655  44871361.0     August     Thursday      3.0  \n",
       "2004-08-19 18:00:00    49.982655  44871361.0     August     Thursday      3.0  \n",
       "2004-08-20 00:00:00    53.952770  22942874.0     August       Friday      3.0  \n",
       "...                          ...         ...        ...          ...      ...  \n",
       "2022-05-19 00:00:00  2214.909912   1459600.0        May     Thursday      2.0  \n",
       "2022-05-19 06:00:00  2214.909912   1459600.0        May     Thursday      2.0  \n",
       "2022-05-19 12:00:00  2214.909912   1459600.0        May     Thursday      2.0  \n",
       "2022-05-19 18:00:00  2214.909912   1459600.0        May     Thursday      2.0  \n",
       "2022-05-20 00:00:00  2186.260010   1878100.0        May       Friday      2.0  \n",
       "\n",
       "[25933 rows x 9 columns]"
      ]
     },
     "execution_count": 76,
     "metadata": {},
     "output_type": "execute_result"
    }
   ],
   "source": [
    "google.asfreq('6H',method='ffill')"
   ]
  },
  {
   "cell_type": "code",
   "execution_count": 77,
   "metadata": {},
   "outputs": [
    {
     "data": {
      "text/html": [
       "<div>\n",
       "<style scoped>\n",
       "    .dataframe tbody tr th:only-of-type {\n",
       "        vertical-align: middle;\n",
       "    }\n",
       "\n",
       "    .dataframe tbody tr th {\n",
       "        vertical-align: top;\n",
       "    }\n",
       "\n",
       "    .dataframe thead th {\n",
       "        text-align: right;\n",
       "    }\n",
       "</style>\n",
       "<table border=\"1\" class=\"dataframe\">\n",
       "  <thead>\n",
       "    <tr style=\"text-align: right;\">\n",
       "      <th></th>\n",
       "      <th>Open</th>\n",
       "      <th>High</th>\n",
       "      <th>Low</th>\n",
       "      <th>Close</th>\n",
       "      <th>Adj Close</th>\n",
       "      <th>Volume</th>\n",
       "      <th>month_name</th>\n",
       "      <th>weekday_name</th>\n",
       "      <th>quarter</th>\n",
       "    </tr>\n",
       "    <tr>\n",
       "      <th>Date</th>\n",
       "      <th></th>\n",
       "      <th></th>\n",
       "      <th></th>\n",
       "      <th></th>\n",
       "      <th></th>\n",
       "      <th></th>\n",
       "      <th></th>\n",
       "      <th></th>\n",
       "      <th></th>\n",
       "    </tr>\n",
       "  </thead>\n",
       "  <tbody>\n",
       "    <tr>\n",
       "      <th>2004-08-19 00:00:00</th>\n",
       "      <td>49.813290</td>\n",
       "      <td>51.835709</td>\n",
       "      <td>47.800831</td>\n",
       "      <td>49.982655</td>\n",
       "      <td>49.982655</td>\n",
       "      <td>44871361.0</td>\n",
       "      <td>August</td>\n",
       "      <td>Thursday</td>\n",
       "      <td>3.0</td>\n",
       "    </tr>\n",
       "    <tr>\n",
       "      <th>2004-08-19 06:00:00</th>\n",
       "      <td>50.316402</td>\n",
       "      <td>54.336334</td>\n",
       "      <td>50.062355</td>\n",
       "      <td>53.952770</td>\n",
       "      <td>53.952770</td>\n",
       "      <td>22942874.0</td>\n",
       "      <td>August</td>\n",
       "      <td>Friday</td>\n",
       "      <td>3.0</td>\n",
       "    </tr>\n",
       "    <tr>\n",
       "      <th>2004-08-19 12:00:00</th>\n",
       "      <td>50.316402</td>\n",
       "      <td>54.336334</td>\n",
       "      <td>50.062355</td>\n",
       "      <td>53.952770</td>\n",
       "      <td>53.952770</td>\n",
       "      <td>22942874.0</td>\n",
       "      <td>August</td>\n",
       "      <td>Friday</td>\n",
       "      <td>3.0</td>\n",
       "    </tr>\n",
       "    <tr>\n",
       "      <th>2004-08-19 18:00:00</th>\n",
       "      <td>50.316402</td>\n",
       "      <td>54.336334</td>\n",
       "      <td>50.062355</td>\n",
       "      <td>53.952770</td>\n",
       "      <td>53.952770</td>\n",
       "      <td>22942874.0</td>\n",
       "      <td>August</td>\n",
       "      <td>Friday</td>\n",
       "      <td>3.0</td>\n",
       "    </tr>\n",
       "    <tr>\n",
       "      <th>2004-08-20 00:00:00</th>\n",
       "      <td>50.316402</td>\n",
       "      <td>54.336334</td>\n",
       "      <td>50.062355</td>\n",
       "      <td>53.952770</td>\n",
       "      <td>53.952770</td>\n",
       "      <td>22942874.0</td>\n",
       "      <td>August</td>\n",
       "      <td>Friday</td>\n",
       "      <td>3.0</td>\n",
       "    </tr>\n",
       "    <tr>\n",
       "      <th>...</th>\n",
       "      <td>...</td>\n",
       "      <td>...</td>\n",
       "      <td>...</td>\n",
       "      <td>...</td>\n",
       "      <td>...</td>\n",
       "      <td>...</td>\n",
       "      <td>...</td>\n",
       "      <td>...</td>\n",
       "      <td>...</td>\n",
       "    </tr>\n",
       "    <tr>\n",
       "      <th>2022-05-19 00:00:00</th>\n",
       "      <td>2236.820068</td>\n",
       "      <td>2271.750000</td>\n",
       "      <td>2209.360107</td>\n",
       "      <td>2214.909912</td>\n",
       "      <td>2214.909912</td>\n",
       "      <td>1459600.0</td>\n",
       "      <td>May</td>\n",
       "      <td>Thursday</td>\n",
       "      <td>2.0</td>\n",
       "    </tr>\n",
       "    <tr>\n",
       "      <th>2022-05-19 06:00:00</th>\n",
       "      <td>2241.709961</td>\n",
       "      <td>2251.000000</td>\n",
       "      <td>2127.459961</td>\n",
       "      <td>2186.260010</td>\n",
       "      <td>2186.260010</td>\n",
       "      <td>1878100.0</td>\n",
       "      <td>May</td>\n",
       "      <td>Friday</td>\n",
       "      <td>2.0</td>\n",
       "    </tr>\n",
       "    <tr>\n",
       "      <th>2022-05-19 12:00:00</th>\n",
       "      <td>2241.709961</td>\n",
       "      <td>2251.000000</td>\n",
       "      <td>2127.459961</td>\n",
       "      <td>2186.260010</td>\n",
       "      <td>2186.260010</td>\n",
       "      <td>1878100.0</td>\n",
       "      <td>May</td>\n",
       "      <td>Friday</td>\n",
       "      <td>2.0</td>\n",
       "    </tr>\n",
       "    <tr>\n",
       "      <th>2022-05-19 18:00:00</th>\n",
       "      <td>2241.709961</td>\n",
       "      <td>2251.000000</td>\n",
       "      <td>2127.459961</td>\n",
       "      <td>2186.260010</td>\n",
       "      <td>2186.260010</td>\n",
       "      <td>1878100.0</td>\n",
       "      <td>May</td>\n",
       "      <td>Friday</td>\n",
       "      <td>2.0</td>\n",
       "    </tr>\n",
       "    <tr>\n",
       "      <th>2022-05-20 00:00:00</th>\n",
       "      <td>2241.709961</td>\n",
       "      <td>2251.000000</td>\n",
       "      <td>2127.459961</td>\n",
       "      <td>2186.260010</td>\n",
       "      <td>2186.260010</td>\n",
       "      <td>1878100.0</td>\n",
       "      <td>May</td>\n",
       "      <td>Friday</td>\n",
       "      <td>2.0</td>\n",
       "    </tr>\n",
       "  </tbody>\n",
       "</table>\n",
       "<p>25933 rows × 9 columns</p>\n",
       "</div>"
      ],
      "text/plain": [
       "                            Open         High          Low        Close  \\\n",
       "Date                                                                      \n",
       "2004-08-19 00:00:00    49.813290    51.835709    47.800831    49.982655   \n",
       "2004-08-19 06:00:00    50.316402    54.336334    50.062355    53.952770   \n",
       "2004-08-19 12:00:00    50.316402    54.336334    50.062355    53.952770   \n",
       "2004-08-19 18:00:00    50.316402    54.336334    50.062355    53.952770   \n",
       "2004-08-20 00:00:00    50.316402    54.336334    50.062355    53.952770   \n",
       "...                          ...          ...          ...          ...   \n",
       "2022-05-19 00:00:00  2236.820068  2271.750000  2209.360107  2214.909912   \n",
       "2022-05-19 06:00:00  2241.709961  2251.000000  2127.459961  2186.260010   \n",
       "2022-05-19 12:00:00  2241.709961  2251.000000  2127.459961  2186.260010   \n",
       "2022-05-19 18:00:00  2241.709961  2251.000000  2127.459961  2186.260010   \n",
       "2022-05-20 00:00:00  2241.709961  2251.000000  2127.459961  2186.260010   \n",
       "\n",
       "                       Adj Close      Volume month_name weekday_name  quarter  \n",
       "Date                                                                           \n",
       "2004-08-19 00:00:00    49.982655  44871361.0     August     Thursday      3.0  \n",
       "2004-08-19 06:00:00    53.952770  22942874.0     August       Friday      3.0  \n",
       "2004-08-19 12:00:00    53.952770  22942874.0     August       Friday      3.0  \n",
       "2004-08-19 18:00:00    53.952770  22942874.0     August       Friday      3.0  \n",
       "2004-08-20 00:00:00    53.952770  22942874.0     August       Friday      3.0  \n",
       "...                          ...         ...        ...          ...      ...  \n",
       "2022-05-19 00:00:00  2214.909912   1459600.0        May     Thursday      2.0  \n",
       "2022-05-19 06:00:00  2186.260010   1878100.0        May       Friday      2.0  \n",
       "2022-05-19 12:00:00  2186.260010   1878100.0        May       Friday      2.0  \n",
       "2022-05-19 18:00:00  2186.260010   1878100.0        May       Friday      2.0  \n",
       "2022-05-20 00:00:00  2186.260010   1878100.0        May       Friday      2.0  \n",
       "\n",
       "[25933 rows x 9 columns]"
      ]
     },
     "execution_count": 77,
     "metadata": {},
     "output_type": "execute_result"
    }
   ],
   "source": [
    "\n",
    "google.asfreq('6H',method='bfill')"
   ]
  },
  {
   "cell_type": "markdown",
   "metadata": {
    "id": "9Acd1cA4EaDK"
   },
   "source": [
    "# Resampling\n",
    "\n",
    "Resampling involves changing the frequency of your time series observations.\n",
    "\n",
    "Two types of resampling are:\n",
    "\n",
    "**Upsampling**: Where you increase the frequency of the samples, such as from day to hours to minutes to seconds.<br>\n",
    "**Downsampling**: Where you decrease the frequency of the samples, such as from days to months to year."
   ]
  },
  {
   "cell_type": "markdown",
   "metadata": {},
   "source": [
    "# Downsampling"
   ]
  },
  {
   "cell_type": "code",
   "execution_count": 78,
   "metadata": {},
   "outputs": [
    {
     "data": {
      "text/plain": [
       "Date\n",
       "2004-08-22      53.086022\n",
       "2004-08-29      54.759747\n",
       "2004-09-05      51.435209\n",
       "2004-09-12      51.594112\n",
       "2004-09-19      56.580921\n",
       "                 ...     \n",
       "2022-04-24    2589.194971\n",
       "2022-05-01    2411.706006\n",
       "2022-05-08    2394.057031\n",
       "2022-05-15    2327.465576\n",
       "2022-05-22    2302.672607\n",
       "Freq: W-SUN, Name: High, Length: 927, dtype: float64"
      ]
     },
     "execution_count": 78,
     "metadata": {},
     "output_type": "execute_result"
    }
   ],
   "source": [
    "# resampling with weekly data and finding mean\n",
    "google['High'].resample('W').mean()"
   ]
  },
  {
   "cell_type": "code",
   "execution_count": 79,
   "metadata": {},
   "outputs": [
    {
     "data": {
      "text/plain": [
       "<Axes: xlabel='Date'>"
      ]
     },
     "execution_count": 79,
     "metadata": {},
     "output_type": "execute_result"
    },
    {
     "data": {
      "image/png": "[encoded data removed]",
      "text/plain": [
       "<Figure size 640x480 with 1 Axes>"
      ]
     },
     "metadata": {},
     "output_type": "display_data"
    }
   ],
   "source": [
    "google['High'].plot()\n",
    "google['High'].resample('M').mean().plot()\n",
    "# plotting data trend for monthly and checking when google stock price was high over the month."
   ]
  },
  {
   "cell_type": "code",
   "execution_count": 80,
   "metadata": {},
   "outputs": [
    {
     "data": {
      "text/plain": [
       "<Axes: xlabel='Date'>"
      ]
     },
     "execution_count": 80,
     "metadata": {},
     "output_type": "execute_result"
    },
    {
     "data": {
      "image/png": "[encoded data removed]",
      "text/plain": [
       "<Figure size 640x480 with 1 Axes>"
      ]
     },
     "metadata": {},
     "output_type": "display_data"
    }
   ],
   "source": [
    "google['High'].plot()\n",
    "google['High'].resample('Y').mean().plot()\n",
    "# this is google stock price high rate yearly basis."
   ]
  },
  {
   "cell_type": "markdown",
   "metadata": {},
   "source": [
    "# Upsampling\n",
    "- Not as much use like downsampling because when increse frequency so data will increase as we will start break data by yearly to monthly to weekly to daily to hourly to minute to second. so can imagine the size of data which can increase missing values and then we need to fill missing value.\n"
   ]
  },
  {
   "cell_type": "code",
   "execution_count": 81,
   "metadata": {},
   "outputs": [
    {
     "data": {
      "text/plain": [
       "Date\n",
       "2004-08-19 00:00:00      49.982655\n",
       "2004-08-19 01:00:00      50.148076\n",
       "2004-08-19 02:00:00      50.313498\n",
       "2004-08-19 03:00:00      50.478919\n",
       "2004-08-19 04:00:00      50.644341\n",
       "                          ...     \n",
       "2022-05-19 20:00:00    2191.034994\n",
       "2022-05-19 21:00:00    2189.841248\n",
       "2022-05-19 22:00:00    2188.647502\n",
       "2022-05-19 23:00:00    2187.453756\n",
       "2022-05-20 00:00:00    2186.260010\n",
       "Freq: H, Name: Close, Length: 155593, dtype: float64"
      ]
     },
     "execution_count": 81,
     "metadata": {},
     "output_type": "execute_result"
    }
   ],
   "source": [
    "google['Close'].resample('H').interpolate(method= 'linear')\n",
    "\n",
    "# by using interpolate method linear filling data hourly basis."
   ]
  },
  {
   "cell_type": "code",
   "execution_count": 82,
   "metadata": {},
   "outputs": [
    {
     "data": {
      "text/plain": [
       "Date\n",
       "2004-08-19 00:00:00      49.982655\n",
       "2004-08-19 01:00:00      50.054174\n",
       "2004-08-19 02:00:00      50.278766\n",
       "2004-08-19 03:00:00      50.499453\n",
       "2004-08-19 04:00:00      50.716235\n",
       "                          ...     \n",
       "2022-05-19 20:00:00    2116.145684\n",
       "2022-05-19 21:00:00    2130.864097\n",
       "2022-05-19 22:00:00    2147.454745\n",
       "2022-05-19 23:00:00    2165.917626\n",
       "2022-05-20 00:00:00    2186.260010\n",
       "Freq: H, Name: Close, Length: 155593, dtype: float64"
      ]
     },
     "execution_count": 82,
     "metadata": {},
     "output_type": "execute_result"
    }
   ],
   "source": [
    "google['Close'].resample('H').interpolate(method= 'spline', order = 2)\n",
    "\n",
    "# filling data by using polynomial \"spline\" method in interpolate and order 2 means xsquare polynomial."
   ]
  },
  {
   "cell_type": "code",
   "execution_count": 83,
   "metadata": {},
   "outputs": [
    {
     "data": {
      "text/plain": [
       "<Axes: xlabel='Date'>"
      ]
     },
     "execution_count": 83,
     "metadata": {},
     "output_type": "execute_result"
    },
    {
     "data": {
      "image/png": "[encoded data removed]",
      "text/plain": [
       "<Figure size 640x480 with 1 Axes>"
      ]
     },
     "metadata": {},
     "output_type": "display_data"
    }
   ],
   "source": [
    "google['Close'].resample('6H').interpolate(method= 'spline', order = 2).plot()"
   ]
  },
  {
   "cell_type": "markdown",
   "metadata": {
    "id": "-p8a5e-K8QL8"
   },
   "source": [
    "# Rolling Window(Smoothing)\n",
    "- Time series data in original format can be quite volatile, especially on smaller aggregation levels. The concept of rolling, or moving averages is a useful technique for smoothing time series data. \n",
    "- Example-> we have data on date basis and some value given of stock price so can apply smoothining means appling \n",
    "\"moving average\" means on the go calculating average."
   ]
  },
  {
   "cell_type": "code",
   "execution_count": 86,
   "metadata": {},
   "outputs": [
    {
     "data": {
      "text/plain": [
       "Rolling [window=30,center=False,axis=0,method=single]"
      ]
     },
     "execution_count": 86,
     "metadata": {},
     "output_type": "execute_result"
    }
   ],
   "source": [
    "# Rolling window\n",
    "google['High'].rolling(30)\n",
    "# Doing smoothening for 30 day basis"
   ]
  },
  {
   "cell_type": "code",
   "execution_count": 88,
   "metadata": {},
   "outputs": [
    {
     "data": {
      "text/plain": [
       "Date\n",
       "2004-08-19            NaN\n",
       "2004-08-20            NaN\n",
       "2004-08-23      54.233387\n",
       "2004-08-24      55.485360\n",
       "2004-08-25      55.306033\n",
       "                 ...     \n",
       "2022-05-16    2330.326579\n",
       "2022-05-17    2346.133301\n",
       "2022-05-18    2330.204346\n",
       "2022-05-19    2310.071045\n",
       "2022-05-20    2278.887695\n",
       "Freq: B, Name: High, Length: 4632, dtype: float64"
      ]
     },
     "execution_count": 88,
     "metadata": {},
     "output_type": "execute_result"
    }
   ],
   "source": [
    "google['High'].rolling(3).mean()"
   ]
  },
  {
   "cell_type": "code",
   "execution_count": 85,
   "metadata": {
    "colab": {
     "base_uri": "https://localhost:8080/",
     "height": 324
    },
    "id": "-tcm0O_0vZZ0",
    "outputId": "d7a644fc-d215-4690-b689-809138049964"
   },
   "outputs": [
    {
     "data": {
      "text/plain": [
       "<Axes: title={'center': 'Rolling'}, xlabel='Date'>"
      ]
     },
     "execution_count": 85,
     "metadata": {},
     "output_type": "execute_result"
    },
    {
     "data": {
      "image/png": "[encoded data removed]",
      "text/plain": [
       "<Figure size 640x480 with 1 Axes>"
      ]
     },
     "metadata": {},
     "output_type": "display_data"
    }
   ],
   "source": [
    "# Rolling window\n",
    "google['High'].rolling(30).mean().plot(title='Rolling')\n"
   ]
  },
  {
   "cell_type": "code",
   "execution_count": 89,
   "metadata": {},
   "outputs": [
    {
     "data": {
      "text/plain": [
       "<Axes: title={'center': 'ewm'}, xlabel='Date'>"
      ]
     },
     "execution_count": 89,
     "metadata": {},
     "output_type": "execute_result"
    },
    {
     "data": {
      "image/png": "[encoded data removed]",
      "text/plain": [
       "<Figure size 640x480 with 1 Axes>"
      ]
     },
     "metadata": {},
     "output_type": "display_data"
    }
   ],
   "source": [
    "google['High'].rolling(30).mean().plot(title='rolling')\n",
    "google['High'].ewm(30).mean().plot(title='ewm')\n",
    "# Applying in first line moving average(normal rolling)\n",
    "# applying in second line exponential moving average (ewm)"
   ]
  },
  {
   "cell_type": "code",
   "execution_count": 92,
   "metadata": {},
   "outputs": [
    {
     "data": {
      "text/plain": [
       "<Axes: title={'center': 'ewm'}, xlabel='Date'>"
      ]
     },
     "execution_count": 92,
     "metadata": {},
     "output_type": "execute_result"
    },
    {
     "data": {
      "image/png": "[encoded data removed]",
      "text/plain": [
       "<Figure size 640x480 with 1 Axes>"
      ]
     },
     "metadata": {},
     "output_type": "display_data"
    }
   ],
   "source": [
    "google['Volume'].rolling(30).mean().plot(title='rolling')\n",
    "google['Volume'].ewm(30).mean().plot(title='ewm')"
   ]
  },
  {
   "cell_type": "markdown",
   "metadata": {
    "id": "6qrHe3WF8g7c"
   },
   "source": [
    "### Shifting\n",
    "\n",
    "The shift() function is Pandas is used to, well, shift the entire series up or down by the desired number of periods."
   ]
  },
  {
   "cell_type": "code",
   "execution_count": 93,
   "metadata": {
    "colab": {
     "base_uri": "https://localhost:8080/"
    },
    "id": "I50Fu6a18fsR",
    "outputId": "c759d1cc-ba75-4c4f-d339-409debbce91d"
   },
   "outputs": [
    {
     "data": {
      "text/plain": [
       "Date\n",
       "2004-08-19      51.835709\n",
       "2004-08-20      54.336334\n",
       "2004-08-23      56.528118\n",
       "2004-08-24      55.591629\n",
       "2004-08-25      53.798351\n",
       "                 ...     \n",
       "2022-05-16    2332.149902\n",
       "2022-05-17    2344.550049\n",
       "2022-05-18    2313.913086\n",
       "2022-05-19    2271.750000\n",
       "2022-05-20    2251.000000\n",
       "Freq: B, Name: High, Length: 4632, dtype: float64"
      ]
     },
     "execution_count": 93,
     "metadata": {},
     "output_type": "execute_result"
    }
   ],
   "source": [
    "# shift\n",
    "google['High']"
   ]
  },
  {
   "cell_type": "code",
   "execution_count": 96,
   "metadata": {
    "colab": {
     "base_uri": "https://localhost:8080/"
    },
    "id": "MMr8Ht4U7HEh",
    "outputId": "153c1de3-0f1a-4383-9aa0-b069047f2411"
   },
   "outputs": [
    {
     "data": {
      "text/plain": [
       "Date\n",
       "2004-08-19            NaN\n",
       "2004-08-20      51.835709\n",
       "2004-08-23      54.336334\n",
       "2004-08-24      56.528118\n",
       "2004-08-25      55.591629\n",
       "                 ...     \n",
       "2022-05-16    2361.699951\n",
       "2022-05-17    2332.149902\n",
       "2022-05-18    2344.550049\n",
       "2022-05-19    2313.913086\n",
       "2022-05-20    2271.750000\n",
       "Freq: B, Name: High, Length: 4632, dtype: float64"
      ]
     },
     "execution_count": 96,
     "metadata": {},
     "output_type": "execute_result"
    }
   ],
   "source": [
    "google['High'].shift(1) \n",
    "# shifting position from 0ne point can see now 2004-08-19 have Nan and position shifted by one."
   ]
  },
  {
   "cell_type": "code",
   "execution_count": 97,
   "metadata": {},
   "outputs": [
    {
     "data": {
      "text/plain": [
       "Date\n",
       "2004-08-19            NaN\n",
       "2004-08-20            NaN\n",
       "2004-08-23      51.835709\n",
       "2004-08-24      54.336334\n",
       "2004-08-25      56.528118\n",
       "                 ...     \n",
       "2022-05-16    2297.129883\n",
       "2022-05-17    2361.699951\n",
       "2022-05-18    2332.149902\n",
       "2022-05-19    2344.550049\n",
       "2022-05-20    2313.913086\n",
       "Freq: B, Name: High, Length: 4632, dtype: float64"
      ]
     },
     "execution_count": 97,
     "metadata": {},
     "output_type": "execute_result"
    }
   ],
   "source": [
    "google['High'].shift(2) \n",
    "# shifting position from 0ne point can see now 2004-08-19/2004-08-20 have Nan and position shifted by two."
   ]
  },
  {
   "cell_type": "code",
   "execution_count": 98,
   "metadata": {},
   "outputs": [
    {
     "data": {
      "text/plain": [
       "Date\n",
       "2004-08-19      54.336334\n",
       "2004-08-20      56.528118\n",
       "2004-08-23      55.591629\n",
       "2004-08-24      53.798351\n",
       "2004-08-25      53.773445\n",
       "                 ...     \n",
       "2022-05-16    2344.550049\n",
       "2022-05-17    2313.913086\n",
       "2022-05-18    2271.750000\n",
       "2022-05-19    2251.000000\n",
       "2022-05-20            NaN\n",
       "Freq: B, Name: High, Length: 4632, dtype: float64"
      ]
     },
     "execution_count": 98,
     "metadata": {},
     "output_type": "execute_result"
    }
   ],
   "source": [
    "google['High'].shift(-1) as now 2022-05-20 is having nan value.\n",
    "# positio shifted by one in opposite direction"
   ]
  },
  {
   "cell_type": "markdown",
   "metadata": {
    "id": "8cS78TJxXlDH"
   },
   "source": [
    "- Thats the basic analysis on Time series data(Google Stock Performane)on pandas date and time  method."
   ]
  },
  {
   "cell_type": "code",
   "execution_count": null,
   "metadata": {},
   "outputs": [],
   "source": []
  }
 ],
 "metadata": {
  "colab": {
   "provenance": []
  },
  "kernelspec": {
   "display_name": "Python 3 (ipykernel)",
   "language": "python",
   "name": "python3"
  },
  "language_info": {
   "codemirror_mode": {
    "name": "ipython",
    "version": 3
   },
   "file_extension": ".py",
   "mimetype": "text/x-python",
   "name": "python",
   "nbconvert_exporter": "python",
   "pygments_lexer": "ipython3",
   "version": "3.10.9"
  }
 },
 "nbformat": 4,
 "nbformat_minor": 1
}
